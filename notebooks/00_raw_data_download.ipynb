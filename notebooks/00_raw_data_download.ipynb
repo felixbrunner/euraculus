{
 "cells": [
  {
   "cell_type": "markdown",
   "metadata": {},
   "source": [
    "# 00 - Raw Data Download\n",
    "## Description\n",
    "\n",
    "This notebook downloads the daily stock file data from CRSP to output tables containing the following variables:\n",
    "- date\n",
    "- permno as unique identifier\n",
    "- mcap as shares outstanding times price\n",
    "- return\n",
    "- intraday extreme value volatility estimate $\\bar{\\sigma}^{}_{i,t} = \\sqrt{0.3607}(p_{i,t}^{high}-p_{i,t}^{low})^{}$ based on Parkinson (1980), where $p_{i,t}$ is the logarithm of the dollar price\n"
   ]
  },
  {
   "cell_type": "markdown",
   "metadata": {},
   "source": [
    "## TO DO\n",
    "- Same permco can have multiple permno"
   ]
  },
  {
   "cell_type": "markdown",
   "metadata": {},
   "source": [
    "## Imports"
   ]
  },
  {
   "cell_type": "code",
   "execution_count": 1,
   "metadata": {
    "pycharm": {
     "is_executing": false
    }
   },
   "outputs": [],
   "source": [
    "%load_ext autoreload\n",
    "%autoreload 2"
   ]
  },
  {
   "cell_type": "code",
   "execution_count": 2,
   "metadata": {},
   "outputs": [
    {
     "name": "stderr",
     "output_type": "stream",
     "text": [
      "/home/rubelrennfix/.virtualenvs/euraculus/lib/python3.6/site-packages/pandas_datareader/compat/__init__.py:7: FutureWarning: pandas.util.testing is deprecated. Use the functions in the public API at pandas.testing instead.\n",
      "  from pandas.util.testing import assert_frame_equal\n"
     ]
    }
   ],
   "source": [
    "import wrds\n",
    "import pandas as pd\n",
    "import numpy as np\n",
    "import datetime as dt\n",
    "import sys\n",
    "sys.path.append('../')\n",
    "import src"
   ]
  },
  {
   "cell_type": "markdown",
   "metadata": {},
   "source": [
    "## Set up WRDS Connection"
   ]
  },
  {
   "cell_type": "code",
   "execution_count": 3,
   "metadata": {},
   "outputs": [
    {
     "name": "stdout",
     "output_type": "stream",
     "text": [
      "Loading library list...\n",
      "Done\n"
     ]
    }
   ],
   "source": [
    "wrds_conn = wrds.Connection(wrds_username='felixbru')\n",
    "# wrds_conn.create_pgpass_file()\n",
    "#wrds_connection.close()"
   ]
  },
  {
   "cell_type": "markdown",
   "metadata": {},
   "source": [
    "#### Explore database"
   ]
  },
  {
   "cell_type": "code",
   "execution_count": 4,
   "metadata": {},
   "outputs": [],
   "source": [
    "libraries = wrds_conn.list_libraries()\n",
    "library = 'crsp'"
   ]
  },
  {
   "cell_type": "code",
   "execution_count": 5,
   "metadata": {},
   "outputs": [],
   "source": [
    "library_tables = wrds_conn.list_tables(library=library)\n",
    "table = 'dsf'"
   ]
  },
  {
   "cell_type": "code",
   "execution_count": 6,
   "metadata": {},
   "outputs": [
    {
     "name": "stdout",
     "output_type": "stream",
     "text": [
      "Approximately 96285900 rows in crsp.dsf.\n"
     ]
    }
   ],
   "source": [
    "table_description = wrds_conn.describe_table(library=library, table=table)"
   ]
  },
  {
   "cell_type": "markdown",
   "metadata": {},
   "source": [
    "## Download CRSP data"
   ]
  },
  {
   "cell_type": "markdown",
   "metadata": {},
   "source": [
    "### Daily stock data"
   ]
  },
  {
   "cell_type": "markdown",
   "metadata": {},
   "source": [
    "EXCHCD:\n",
    "- 1: NYSE\n",
    "- 2: NYSE MKT\n",
    "- 3: NASDAQ\n",
    "\n",
    "SHRCD:\n",
    "- 10: Ordinary common share, no special status found\n",
    "- 11: Ordinary common share, no special status necessary"
   ]
  },
  {
   "cell_type": "code",
   "execution_count": 9,
   "metadata": {},
   "outputs": [
    {
     "name": "stdout",
     "output_type": "stream",
     "text": [
      "collected 28.26 MB on 2020-10-30 16:37:46.824557 in 15 seconds\n",
      "    Year 1960 done.\n",
      "collected 28.60 MB on 2020-10-30 16:37:58.097793 in 9 seconds\n",
      "collected 49.32 MB on 2020-10-30 16:38:07.544762 in 8 seconds\n",
      "collected 69.59 MB on 2020-10-30 16:38:19.989478 in 11 seconds\n",
      "collected 71.70 MB on 2020-10-30 16:38:32.395927 in 11 seconds\n",
      "collected 72.97 MB on 2020-10-30 16:38:45.134327 in 11 seconds\n",
      "    Year 1965 done.\n",
      "collected 73.85 MB on 2020-10-30 16:38:58.045991 in 11 seconds\n",
      "collected 73.87 MB on 2020-10-30 16:39:11.121583 in 12 seconds\n",
      "collected 66.40 MB on 2020-10-30 16:39:23.336135 in 11 seconds\n",
      "collected 75.90 MB on 2020-10-30 16:39:36.234802 in 12 seconds\n",
      "collected 80.67 MB on 2020-10-30 16:39:50.111423 in 13 seconds\n",
      "    Year 1970 done.\n",
      "collected 82.83 MB on 2020-10-30 16:40:04.940015 in 13 seconds\n",
      "collected 90.28 MB on 2020-10-30 16:40:22.209802 in 16 seconds\n",
      "collected 184.62 MB on 2020-10-30 16:40:55.716186 in 31 seconds\n",
      "collected 175.75 MB on 2020-10-30 16:41:38.511124 in 25 seconds\n",
      "collected 170.18 MB on 2020-10-30 16:42:07.016335 in 25 seconds\n",
      "    Year 1975 done.\n",
      "collected 170.09 MB on 2020-10-30 16:42:36.130235 in 25 seconds\n",
      "collected 168.67 MB on 2020-10-30 16:43:03.846978 in 24 seconds\n",
      "collected 164.93 MB on 2020-10-30 16:43:32.829378 in 25 seconds\n",
      "collected 163.28 MB on 2020-10-30 16:44:01.106486 in 25 seconds\n",
      "collected 164.93 MB on 2020-10-30 16:44:33.961965 in 29 seconds\n",
      "    Year 1980 done.\n",
      "collected 176.25 MB on 2020-10-30 16:45:24.647201 in 27 seconds\n",
      "collected 180.81 MB on 2020-10-30 16:45:53.856659 in 26 seconds\n",
      "collected 187.32 MB on 2020-10-30 16:46:28.218569 in 31 seconds\n",
      "collected 205.38 MB on 2020-10-30 16:47:03.254126 in 31 seconds\n",
      "collected 203.42 MB on 2020-10-30 16:47:38.431655 in 30 seconds\n",
      "    Year 1985 done.\n",
      "collected 208.80 MB on 2020-10-30 16:48:14.051375 in 31 seconds\n",
      "collected 221.83 MB on 2020-10-30 16:48:58.264248 in 34 seconds\n",
      "collected 220.43 MB on 2020-10-30 16:49:36.321069 in 32 seconds\n",
      "collected 210.47 MB on 2020-10-30 16:50:12.448099 in 31 seconds\n",
      "collected 206.70 MB on 2020-10-30 16:50:48.102676 in 31 seconds\n",
      "    Year 1990 done.\n",
      "collected 203.20 MB on 2020-10-30 16:51:22.992150 in 30 seconds\n",
      "collected 208.62 MB on 2020-10-30 16:51:58.348464 in 31 seconds\n",
      "collected 217.31 MB on 2020-10-30 16:52:35.457568 in 32 seconds\n",
      "collected 235.08 MB on 2020-10-30 16:53:15.776949 in 35 seconds\n",
      "collected 240.97 MB on 2020-10-30 16:53:59.452506 in 37 seconds\n",
      "    Year 1995 done.\n",
      "collected 257.01 MB on 2020-10-30 16:54:46.617317 in 39 seconds\n",
      "collected 264.94 MB on 2020-10-30 16:55:36.737114 in 42 seconds\n",
      "collected 257.68 MB on 2020-10-30 16:56:26.644787 in 43 seconds\n",
      "collected 240.31 MB on 2020-10-30 16:57:13.557039 in 39 seconds\n",
      "collected 232.54 MB on 2020-10-30 16:57:58.296832 in 38 seconds\n",
      "    Year 2000 done.\n",
      "collected 208.39 MB on 2020-10-30 16:58:40.464868 in 35 seconds\n",
      "collected 192.13 MB on 2020-10-30 16:59:19.957663 in 33 seconds\n",
      "collected 177.62 MB on 2020-10-30 16:59:55.673878 in 31 seconds\n",
      "collected 171.78 MB on 2020-10-30 17:00:30.995447 in 31 seconds\n",
      "collected 169.76 MB on 2020-10-30 17:01:05.080095 in 30 seconds\n",
      "    Year 2005 done.\n",
      "collected 166.43 MB on 2020-10-30 17:01:39.734869 in 30 seconds\n",
      "collected 163.86 MB on 2020-10-30 17:02:13.347667 in 28 seconds\n",
      "collected 159.73 MB on 2020-10-30 17:02:55.958462 in 28 seconds\n",
      "collected 148.29 MB on 2020-10-30 17:03:24.370632 in 25 seconds\n",
      "collected 142.48 MB on 2020-10-30 17:03:51.606945 in 24 seconds\n",
      "    Year 2010 done.\n",
      "collected 137.16 MB on 2020-10-30 17:04:23.742581 in 23 seconds\n",
      "collected 131.43 MB on 2020-10-30 17:04:48.774232 in 22 seconds\n",
      "collected 129.48 MB on 2020-10-30 17:05:12.364694 in 21 seconds\n",
      "collected 132.56 MB on 2020-10-30 17:05:38.052375 in 23 seconds\n",
      "collected 134.21 MB on 2020-10-30 17:06:04.601236 in 23 seconds\n",
      "    Year 2015 done.\n",
      "collected 130.63 MB on 2020-10-30 17:06:30.233312 in 22 seconds\n",
      "collected 127.79 MB on 2020-10-30 17:06:55.644772 in 22 seconds\n",
      "collected 127.73 MB on 2020-10-30 17:07:20.440109 in 22 seconds\n",
      "collected 128.46 MB on 2020-10-30 17:07:46.234526 in 23 seconds\n"
     ]
    }
   ],
   "source": [
    "for year in range(1960, 2020):\n",
    "    df = src.crsp.download_crsp_year(wrds_conn, year)\n",
    "    df.to_pickle(path='../data/raw/crsp_{}.pkl'.format(year))\n",
    "    if year % 5 == 0:\n",
    "        print('    Year {} done.'.format(year))"
   ]
  },
  {
   "cell_type": "markdown",
   "metadata": {},
   "source": [
    "### Delisting Returns"
   ]
  },
  {
   "cell_type": "code",
   "execution_count": 10,
   "metadata": {},
   "outputs": [
    {
     "name": "stdout",
     "output_type": "stream",
     "text": [
      "collected 1.88 MB on 2020-10-30 17:15:19.775020 in 0 seconds\n"
     ]
    }
   ],
   "source": [
    "df_delist = src.crsp.download_delisting(wrds_conn)\n",
    "df_delist.to_pickle(path='../data/raw/delisting.pkl')"
   ]
  },
  {
   "cell_type": "markdown",
   "metadata": {},
   "source": [
    "### Descriptive Data"
   ]
  },
  {
   "cell_type": "code",
   "execution_count": 11,
   "metadata": {},
   "outputs": [
    {
     "name": "stdout",
     "output_type": "stream",
     "text": [
      "collected 24.02 MB on 2020-10-30 17:15:24.385993 in 2 seconds\n"
     ]
    }
   ],
   "source": [
    "df_descriptive = src.crsp.download_descriptive(wrds_conn)\n",
    "df_descriptive.to_pickle(path='../data/raw/descriptive.pkl')"
   ]
  },
  {
   "cell_type": "markdown",
   "metadata": {},
   "source": [
    "## Download FF data"
   ]
  },
  {
   "cell_type": "markdown",
   "metadata": {},
   "source": [
    "### SQL Query"
   ]
  },
  {
   "cell_type": "code",
   "execution_count": 12,
   "metadata": {},
   "outputs": [
    {
     "name": "stdout",
     "output_type": "stream",
     "text": [
      "collected 1.99 MB on 2020-10-30 17:15:29.723783 in 0 seconds\n"
     ]
    }
   ],
   "source": [
    "df_ff = src.crsp.download_famafrench(wrds_conn)\n",
    "df_ff.to_pickle(path='../data/raw/ff_factors.pkl')"
   ]
  },
  {
   "cell_type": "markdown",
   "metadata": {},
   "source": [
    "## SPDR Trust SPY Index data"
   ]
  },
  {
   "cell_type": "code",
   "execution_count": 13,
   "metadata": {},
   "outputs": [
    {
     "name": "stdout",
     "output_type": "stream",
     "text": [
      "collected 0.43 MB on 2020-10-30 17:15:32.656684 in 0 seconds\n"
     ]
    }
   ],
   "source": [
    "df_spy = src.crsp.download_SPY(wrds_conn)\n",
    "df_spy.to_pickle(path='../data/raw/spy.pkl')"
   ]
  }
 ],
 "metadata": {
  "kernelspec": {
   "display_name": "Python 3",
   "language": "python",
   "name": "python3"
  },
  "language_info": {
   "codemirror_mode": {
    "name": "ipython",
    "version": 3
   },
   "file_extension": ".py",
   "mimetype": "text/x-python",
   "name": "python",
   "nbconvert_exporter": "python",
   "pygments_lexer": "ipython3",
   "version": "3.6.9"
  }
 },
 "nbformat": 4,
 "nbformat_minor": 4
}
