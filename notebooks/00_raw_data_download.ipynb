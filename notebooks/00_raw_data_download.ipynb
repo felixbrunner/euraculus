{
 "cells": [
  {
   "cell_type": "markdown",
   "metadata": {},
   "source": [
    "# Description\n",
    "\n",
    "This notebook downloads the daily stock file data from CRSP to output tables containing the following variables:\n",
    "- date\n",
    "- permno as unique identifier\n",
    "- mcap as shares outstanding times price\n",
    "- return\n",
    "- intraday extreme value volatility estimate $\\bar{\\sigma}^{}_{i,t} = \\sqrt{0.3607}(p_{i,t}^{high}-p_{i,t}^{low})^{}$ based on Parkinson (1980), where $p_{i,t}$ is the logarithm of a price\n"
   ]
  },
  {
   "cell_type": "markdown",
   "metadata": {},
   "source": [
    "## TODO\n",
    "- Same permco can have multiple permno"
   ]
  },
  {
   "cell_type": "markdown",
   "metadata": {},
   "source": [
    "## Imports"
   ]
  },
  {
   "cell_type": "code",
   "execution_count": 1,
   "metadata": {},
   "outputs": [],
   "source": [
    "import wrds\n",
    "import pandas as pd\n",
    "import numpy as np\n",
    "import datetime as dt\n",
    "import sys"
   ]
  },
  {
   "cell_type": "markdown",
   "metadata": {},
   "source": [
    "## Set up WRDS Connection"
   ]
  },
  {
   "cell_type": "code",
   "execution_count": 2,
   "metadata": {},
   "outputs": [
    {
     "name": "stdout",
     "output_type": "stream",
     "text": [
      "Loading library list...\n",
      "Done\n"
     ]
    }
   ],
   "source": [
    "wrds_conn = wrds.Connection(wrds_username='felixbru')\n",
    "#wrds_connection.create_pgpass_file()\n",
    "#wrds_connection.close()"
   ]
  },
  {
   "cell_type": "markdown",
   "metadata": {},
   "source": [
    "## Explore database"
   ]
  },
  {
   "cell_type": "code",
   "execution_count": 3,
   "metadata": {},
   "outputs": [],
   "source": [
    "libraries = wrds_conn.list_libraries()\n",
    "library = 'crsp'"
   ]
  },
  {
   "cell_type": "code",
   "execution_count": 4,
   "metadata": {},
   "outputs": [],
   "source": [
    "library_tables = wrds_conn.list_tables(library=library)\n",
    "table = 'dsf'"
   ]
  },
  {
   "cell_type": "code",
   "execution_count": 5,
   "metadata": {},
   "outputs": [
    {
     "name": "stdout",
     "output_type": "stream",
     "text": [
      "Approximately 96285900 rows in crsp.dsf.\n"
     ]
    }
   ],
   "source": [
    "table_description = wrds_conn.describe_table(library=library, table=table)"
   ]
  },
  {
   "cell_type": "markdown",
   "metadata": {},
   "source": [
    "## Download CRSP data"
   ]
  },
  {
   "cell_type": "markdown",
   "metadata": {},
   "source": [
    "### Daily stock data"
   ]
  },
  {
   "cell_type": "markdown",
   "metadata": {},
   "source": [
    "EXCHCD:\n",
    "- 1: NYSE\n",
    "- 2: NYSE MKT\n",
    "- 3: NASDAQ\n",
    "\n",
    "SHRCD:\n",
    "- 10: Ordinary common share, no special status found\n",
    "- 11: Ordinary common share, no special status necessary"
   ]
  },
  {
   "cell_type": "code",
   "execution_count": 6,
   "metadata": {},
   "outputs": [],
   "source": [
    "sql_crsp = '''\n",
    "    SELECT \n",
    "    a.permno,\n",
    "    a.date,\n",
    "    a.ret,\n",
    "    a.shrout * a.prc as mcap,\n",
    "    SQRT(0.3607) * POWER(LOG(NULLIF(a.askhi, 0)) - LOG(NULLIF(a.bidlo, 0)), 1) as vola\n",
    "    \n",
    "    FROM crsp.dsf as a\n",
    "    \n",
    "    LEFT JOIN crsp.msenames as b\n",
    "    ON a.permno=b.permno\n",
    "    AND b.namedt<=a.date\n",
    "    AND a.date<=b.nameendt\n",
    "    \n",
    "    WHERE a.date BETWEEN '12/01/1999' AND '12/31/2019'\n",
    "    AND b.exchcd BETWEEN 1 AND 3\n",
    "    AND b.shrcd BETWEEN 10 AND 11\n",
    "    '''"
   ]
  },
  {
   "cell_type": "code",
   "execution_count": 7,
   "metadata": {},
   "outputs": [
    {
     "name": "stdout",
     "output_type": "stream",
     "text": [
      "downloaded 1614.336272 MByte on 2020-05-21 13:11:45.973682 in 1222 seconds\n"
     ]
    }
   ],
   "source": [
    "t0 = dt.datetime.today()\n",
    "df_crsp_raw = wrds_conn.raw_sql(sql_crsp)\n",
    "t1 = dt.datetime.today()\n",
    "print('downloaded', sys.getsizeof(df_crsp_raw)/1e+6, 'MByte on', str(dt.datetime.today()), 'in', (t1-t0).seconds, 'seconds')"
   ]
  },
  {
   "cell_type": "code",
   "execution_count": 8,
   "metadata": {},
   "outputs": [],
   "source": [
    "df_crsp_raw.to_pickle(path='../data/raw/df_crsp_raw.pkl')"
   ]
  },
  {
   "cell_type": "markdown",
   "metadata": {},
   "source": [
    "### Delisting Returns"
   ]
  },
  {
   "cell_type": "code",
   "execution_count": 9,
   "metadata": {},
   "outputs": [],
   "source": [
    "sql_crsp_delist = '''\n",
    "    SELECT\n",
    "    permno,\n",
    "    dlret,\n",
    "    dlstdt AS date\n",
    "    FROM crsp.msedelist\n",
    "    '''"
   ]
  },
  {
   "cell_type": "code",
   "execution_count": 10,
   "metadata": {},
   "outputs": [
    {
     "name": "stdout",
     "output_type": "stream",
     "text": [
      "downloaded 1.879288 MByte on 2020-05-21 13:14:42.024547 in 2 seconds\n"
     ]
    }
   ],
   "source": [
    "t0 = dt.datetime.today()\n",
    "df_crsp_delist = wrds_conn.raw_sql(sql_crsp_delist)\n",
    "t1 = dt.datetime.today()\n",
    "print('downloaded', sys.getsizeof(df_crsp_delist)/1e+6, 'MByte on', str(dt.datetime.today()), 'in', (t1-t0).seconds, 'seconds')"
   ]
  },
  {
   "cell_type": "code",
   "execution_count": 19,
   "metadata": {},
   "outputs": [],
   "source": [
    "df_crsp_delist.to_pickle(path='../data/raw/df_crsp_delist.pkl')"
   ]
  },
  {
   "cell_type": "markdown",
   "metadata": {},
   "source": [
    "### Descriptive Data"
   ]
  },
  {
   "cell_type": "code",
   "execution_count": 12,
   "metadata": {},
   "outputs": [],
   "source": [
    "sql_crsp_desc = '''\n",
    "    SELECT\n",
    "    permno,\n",
    "    comnam, \n",
    "    ticker,\n",
    "    st_date,\n",
    "    end_date,\n",
    "    exchcd\n",
    "    \n",
    "    FROM crsp_a_stock.stocknames\n",
    "    '''"
   ]
  },
  {
   "cell_type": "code",
   "execution_count": 13,
   "metadata": {},
   "outputs": [
    {
     "name": "stdout",
     "output_type": "stream",
     "text": [
      "downloaded 14.425234 MByte on 2020-05-21 13:14:46.577521 in 3 seconds\n"
     ]
    }
   ],
   "source": [
    "t0 = dt.datetime.today()\n",
    "df_crsp_desc = wrds_conn.raw_sql(sql_crsp_desc)\n",
    "t1 = dt.datetime.today()\n",
    "print('downloaded', sys.getsizeof(df_crsp_desc)/1e+6, 'MByte on', str(dt.datetime.today()), 'in', (t1-t0).seconds, 'seconds')"
   ]
  },
  {
   "cell_type": "code",
   "execution_count": 15,
   "metadata": {},
   "outputs": [],
   "source": [
    "df_crsp_desc.to_pickle(path='../data/raw/df_crsp_desc.pkl')"
   ]
  },
  {
   "cell_type": "markdown",
   "metadata": {},
   "source": [
    "## Download FF data"
   ]
  },
  {
   "cell_type": "markdown",
   "metadata": {},
   "source": [
    "### SQL Query"
   ]
  },
  {
   "cell_type": "code",
   "execution_count": 16,
   "metadata": {},
   "outputs": [],
   "source": [
    "sql_ff = '''\n",
    "    SELECT\n",
    "    date, \n",
    "    mktrf,\n",
    "    smb,\n",
    "    hml,\n",
    "    rf,\n",
    "    umd\n",
    "    \n",
    "    FROM ff_all.factors_daily \n",
    "    \n",
    "    WHERE date BETWEEN '01/01/2000' AND '12/31/2019'\n",
    "    '''"
   ]
  },
  {
   "cell_type": "code",
   "execution_count": 17,
   "metadata": {},
   "outputs": [
    {
     "name": "stdout",
     "output_type": "stream",
     "text": [
      "downloaded 0.402632 MByte on 2020-05-21 13:16:22.551584 in 0 seconds\n"
     ]
    }
   ],
   "source": [
    "t0 = dt.datetime.today()\n",
    "df_ff_raw = wrds_conn.raw_sql(sql_ff)\n",
    "t1 = dt.datetime.today()\n",
    "print('downloaded', sys.getsizeof(df_ff_raw)/1e+6, 'MByte on', str(dt.datetime.today()), 'in', (t1-t0).seconds, 'seconds')"
   ]
  },
  {
   "cell_type": "code",
   "execution_count": 18,
   "metadata": {},
   "outputs": [],
   "source": [
    "df_ff_raw.to_pickle(path='../data/raw/df_ff_raw.pkl')"
   ]
  },
  {
   "cell_type": "markdown",
   "metadata": {},
   "source": [
    "## Analytics"
   ]
  },
  {
   "cell_type": "code",
   "execution_count": 10,
   "metadata": {},
   "outputs": [
    {
     "data": {
      "text/plain": [
       "11395"
      ]
     },
     "execution_count": 10,
     "metadata": {},
     "output_type": "execute_result"
    }
   ],
   "source": [
    "len(df_crsp_raw.permno.unique())"
   ]
  },
  {
   "cell_type": "code",
   "execution_count": 13,
   "metadata": {},
   "outputs": [],
   "source": [
    "df_crsp_raw.describe()"
   ]
  },
  {
   "cell_type": "code",
   "execution_count": null,
   "metadata": {},
   "outputs": [],
   "source": []
  },
  {
   "cell_type": "code",
   "execution_count": null,
   "metadata": {},
   "outputs": [],
   "source": []
  },
  {
   "cell_type": "markdown",
   "metadata": {},
   "source": [
    "## Transform CRSP data to tidy data format"
   ]
  },
  {
   "cell_type": "markdown",
   "metadata": {},
   "source": [
    "#### Return data"
   ]
  },
  {
   "cell_type": "code",
   "execution_count": 6,
   "metadata": {},
   "outputs": [],
   "source": [
    "df_crsp_tidy = df_crsp_raw.reset_index()\n",
    "del df_crsp_raw"
   ]
  },
  {
   "cell_type": "code",
   "execution_count": 7,
   "metadata": {},
   "outputs": [],
   "source": [
    "# edit data formats\n",
    "df_crsp_tidy['date'] = pd.to_datetime(df_crsp_tidy['date'], yearfirst=True)\n",
    "df_crsp_tidy[['permno']] = df_crsp_tidy[['permno']].astype(int)\n",
    "\n",
    "df_crsp_delist['permno'] = df_crsp_delist['permno'].astype(int)\n",
    "df_crsp_delist['date'] = pd.to_datetime(df_crsp_delist['date'], yearfirst=True)"
   ]
  },
  {
   "cell_type": "code",
   "execution_count": 8,
   "metadata": {},
   "outputs": [],
   "source": [
    "# merge\n",
    "df_crsp_tidy = df_crsp_tidy.merge(df_crsp_delist, how='left', on=['permno','date'])"
   ]
  },
  {
   "cell_type": "code",
   "execution_count": 9,
   "metadata": {},
   "outputs": [],
   "source": [
    "# adjusted returns (for delisting)\n",
    "df_crsp_tidy['retadj'] = (1+df_crsp_tidy['ret'].fillna(0))*(1+df_crsp_tidy['dlret'].fillna(0))-1\n",
    "df_crsp_tidy['retadj'] = df_crsp_tidy['retadj'].where(df_crsp_tidy['ret'].notna() | df_crsp_tidy['dlret'].notna())"
   ]
  },
  {
   "cell_type": "code",
   "execution_count": 10,
   "metadata": {},
   "outputs": [],
   "source": [
    "# declare index & sort\n",
    "df_crsp_tidy.set_index(['date','permno'], inplace=True)\n",
    "df_crsp_tidy = df_crsp_tidy.drop(columns=['index', 'dlret'])\n",
    "df_crsp_tidy = df_crsp_tidy.sort_index()"
   ]
  },
  {
   "cell_type": "code",
   "execution_count": 11,
   "metadata": {},
   "outputs": [],
   "source": [
    "df_crsp_tidy.to_pickle(path='../data/interim/df_crsp_tidy.pkl')"
   ]
  },
  {
   "cell_type": "code",
   "execution_count": 172,
   "metadata": {},
   "outputs": [],
   "source": [
    "#df_crsp_tidy = pd.read_pickle('../data/interim/df_crsp_tidy.pkl')"
   ]
  },
  {
   "cell_type": "markdown",
   "metadata": {},
   "source": [
    "#### Descriptive data"
   ]
  },
  {
   "cell_type": "code",
   "execution_count": 25,
   "metadata": {},
   "outputs": [],
   "source": [
    "df_crsp_desc['permno'] = df_crsp_desc['permno'].astype(int)\n",
    "df_aux = df_crsp_desc\\\n",
    "                    .groupby('permno').last()\\\n",
    "                    .drop(columns=['exchcd'])"
   ]
  },
  {
   "cell_type": "code",
   "execution_count": 97,
   "metadata": {},
   "outputs": [],
   "source": [
    "s_min_rank = df_crsp_tidy['size_rank']\\\n",
    "                    .groupby('permno').min()\n",
    "s_min_rank.name = 'min_rank'\n",
    "s_ret_missing = df_crsp_tidy['ret']\\\n",
    "                    .unstack()\\\n",
    "                    .isna()\\\n",
    "                    .any()\n",
    "s_ret_missing.name = 'ret_missing'\n",
    "s_vola_missing = df_crsp_tidy['vola']\\\n",
    "                    .unstack()\\\n",
    "                    .isna()\\\n",
    "                    .any()\n",
    "s_vola_missing.name = 'vola_missing'"
   ]
  },
  {
   "cell_type": "code",
   "execution_count": 98,
   "metadata": {},
   "outputs": [],
   "source": [
    "df_aux = df_aux\\\n",
    "                    .merge(s_min_rank, how='outer', left_index=True, right_index=True)\\\n",
    "                    .merge(s_ret_missing, how='outer', left_index=True, right_index=True)\\\n",
    "                    .merge(s_vola_missing, how='outer', left_index=True, right_index=True)"
   ]
  }
 ],
 "metadata": {
  "kernelspec": {
   "display_name": "Python 3",
   "language": "python",
   "name": "python3"
  },
  "language_info": {
   "codemirror_mode": {
    "name": "ipython",
    "version": 3
   },
   "file_extension": ".py",
   "mimetype": "text/x-python",
   "name": "python",
   "nbconvert_exporter": "python",
   "pygments_lexer": "ipython3",
   "version": "3.7.0"
  }
 },
 "nbformat": 4,
 "nbformat_minor": 2
}
