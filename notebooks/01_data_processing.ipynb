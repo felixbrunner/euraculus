{
 "cells": [
  {
   "cell_type": "markdown",
   "metadata": {},
   "source": [
    "# 01 - Data Preparation"
   ]
  },
  {
   "cell_type": "markdown",
   "metadata": {},
   "source": [
    "## Imports"
   ]
  },
  {
   "cell_type": "code",
   "execution_count": 7,
   "metadata": {
    "pycharm": {
     "is_executing": false
    }
   },
   "outputs": [
    {
     "name": "stdout",
     "output_type": "stream",
     "text": [
      "The autoreload extension is already loaded. To reload it, use:\n",
      "  %reload_ext autoreload\n"
     ]
    }
   ],
   "source": [
    "%load_ext autoreload\n",
    "%autoreload 2"
   ]
  },
  {
   "cell_type": "code",
   "execution_count": 8,
   "metadata": {},
   "outputs": [],
   "source": [
    "import pandas as pd\n",
    "import numpy as np\n",
    "import datetime as dt\n",
    "import sys\n",
    "sys.path.append('../')\n",
    "import src"
   ]
  },
  {
   "cell_type": "markdown",
   "metadata": {},
   "source": [
    "## Format asset data"
   ]
  },
  {
   "cell_type": "code",
   "execution_count": 9,
   "metadata": {},
   "outputs": [
    {
     "name": "stdout",
     "output_type": "stream",
     "text": [
      "processed sampling year 1993\n",
      "processed sampling year 1994\n",
      "processed sampling year 1995\n",
      "processed sampling year 1996\n",
      "processed sampling year 1997\n",
      "processed sampling year 1998\n",
      "processed sampling year 1999\n",
      "processed sampling year 2000\n",
      "processed sampling year 2001\n",
      "processed sampling year 2002\n",
      "processed sampling year 2003\n",
      "processed sampling year 2004\n",
      "processed sampling year 2005\n",
      "processed sampling year 2006\n",
      "processed sampling year 2007\n",
      "processed sampling year 2008\n",
      "processed sampling year 2009\n",
      "processed sampling year 2010\n",
      "processed sampling year 2011\n",
      "processed sampling year 2012\n",
      "processed sampling year 2013\n",
      "processed sampling year 2014\n",
      "processed sampling year 2015\n",
      "processed sampling year 2016\n",
      "processed sampling year 2017\n",
      "processed sampling year 2018\n",
      "processed sampling year 2019\n"
     ]
    }
   ],
   "source": [
    "first_year = 1993\n",
    "last_year = 2019\n",
    "for year in range(first_year, last_year+1):\n",
    "    src.preprocess.preprocess_year(year, last_year=(year==last_year))\n",
    "    print('processed sampling year {}'.format(year))"
   ]
  },
  {
   "cell_type": "markdown",
   "metadata": {},
   "source": [
    "## Process factor data"
   ]
  },
  {
   "cell_type": "code",
   "execution_count": 10,
   "metadata": {},
   "outputs": [],
   "source": [
    "src.preprocess.preprocess_ff_factors()"
   ]
  },
  {
   "cell_type": "code",
   "execution_count": 11,
   "metadata": {},
   "outputs": [],
   "source": [
    "src.preprocess.preprocess_spy()"
   ]
  },
  {
   "cell_type": "markdown",
   "metadata": {},
   "source": [
    "## Process descriptive data"
   ]
  },
  {
   "cell_type": "code",
   "execution_count": 12,
   "metadata": {},
   "outputs": [],
   "source": [
    "df_descriptive = pd.read_pickle('../data/raw/descriptive.pkl')\n",
    "df_descriptive.to_csv('../data/processed/descriptive.csv')"
   ]
  },
  {
   "cell_type": "code",
   "execution_count": null,
   "metadata": {},
   "outputs": [],
   "source": []
  },
  {
   "cell_type": "code",
   "execution_count": null,
   "metadata": {},
   "outputs": [],
   "source": []
  },
  {
   "cell_type": "code",
   "execution_count": null,
   "metadata": {},
   "outputs": [],
   "source": []
  },
  {
   "cell_type": "code",
   "execution_count": null,
   "metadata": {},
   "outputs": [],
   "source": []
  },
  {
   "cell_type": "markdown",
   "metadata": {},
   "source": [
    "# OLD"
   ]
  },
  {
   "cell_type": "code",
   "execution_count": null,
   "metadata": {},
   "outputs": [],
   "source": []
  },
  {
   "cell_type": "markdown",
   "metadata": {},
   "source": [
    "## Load raw data"
   ]
  },
  {
   "cell_type": "code",
   "execution_count": 2,
   "metadata": {},
   "outputs": [],
   "source": [
    "df_crsp_raw = pd.read_pickle('../data/raw/df_crsp_raw.pkl')"
   ]
  },
  {
   "cell_type": "code",
   "execution_count": 3,
   "metadata": {},
   "outputs": [],
   "source": [
    "df_crsp_delist = pd.read_pickle('../data/raw/df_crsp_delist.pkl')"
   ]
  },
  {
   "cell_type": "code",
   "execution_count": 4,
   "metadata": {},
   "outputs": [],
   "source": [
    "df_crsp_desc = pd.read_pickle('../data/raw/df_crsp_desc.pkl')"
   ]
  },
  {
   "cell_type": "code",
   "execution_count": 5,
   "metadata": {},
   "outputs": [],
   "source": [
    "df_ff_raw = pd.read_pickle('../data/raw/df_ff_raw.pkl')"
   ]
  },
  {
   "cell_type": "markdown",
   "metadata": {},
   "source": [
    "## Format FF data"
   ]
  },
  {
   "cell_type": "code",
   "execution_count": 6,
   "metadata": {},
   "outputs": [],
   "source": [
    "# edit data formats\n",
    "df_ff_raw['date'] = pd.to_datetime(df_ff_raw['date'], yearfirst=True)\n",
    "\n",
    "# declare index\n",
    "df_ff_raw.set_index('date', inplace=True)"
   ]
  },
  {
   "cell_type": "code",
   "execution_count": 7,
   "metadata": {},
   "outputs": [],
   "source": [
    "df_ff_raw.to_pickle(path='../data/interim/df_ff.pkl')"
   ]
  },
  {
   "cell_type": "markdown",
   "metadata": {},
   "source": [
    "## Transform CRSP data to tidy data format & adjust returns for delisting"
   ]
  },
  {
   "cell_type": "code",
   "execution_count": 6,
   "metadata": {},
   "outputs": [],
   "source": [
    "df_crsp_tidy = df_crsp_raw.reset_index()\n",
    "del df_crsp_raw"
   ]
  },
  {
   "cell_type": "code",
   "execution_count": 7,
   "metadata": {},
   "outputs": [],
   "source": [
    "# edit data formats\n",
    "df_crsp_tidy['date'] = pd.to_datetime(df_crsp_tidy['date'], yearfirst=True)\n",
    "df_crsp_tidy[['permno']] = df_crsp_tidy[['permno']].astype(int)\n",
    "\n",
    "df_crsp_delist['permno'] = df_crsp_delist['permno'].astype(int)\n",
    "df_crsp_delist['date'] = pd.to_datetime(df_crsp_delist['date'], yearfirst=True)"
   ]
  },
  {
   "cell_type": "code",
   "execution_count": 8,
   "metadata": {},
   "outputs": [],
   "source": [
    "# merge\n",
    "df_crsp_tidy = df_crsp_tidy.merge(df_crsp_delist, how='left', on=['permno','date'])"
   ]
  },
  {
   "cell_type": "code",
   "execution_count": 9,
   "metadata": {},
   "outputs": [],
   "source": [
    "# adjusted returns (for delisting)\n",
    "df_crsp_tidy['retadj'] = (1+df_crsp_tidy['ret'].fillna(0))*(1+df_crsp_tidy['dlret'].fillna(0))-1\n",
    "df_crsp_tidy['retadj'] = df_crsp_tidy['retadj'].where(df_crsp_tidy['ret'].notna() | df_crsp_tidy['dlret'].notna())"
   ]
  },
  {
   "cell_type": "code",
   "execution_count": 10,
   "metadata": {},
   "outputs": [],
   "source": [
    "# declare index & sort\n",
    "df_crsp_tidy.set_index(['date','permno'], inplace=True)\n",
    "df_crsp_tidy = df_crsp_tidy.drop(columns=['index', 'dlret'])\n",
    "df_crsp_tidy = df_crsp_tidy.sort_index()"
   ]
  },
  {
   "cell_type": "code",
   "execution_count": 13,
   "metadata": {},
   "outputs": [],
   "source": [
    "df_crsp_tidy.to_pickle(path='../data/interim/df_crsp_tidy.pkl')"
   ]
  },
  {
   "cell_type": "markdown",
   "metadata": {},
   "source": [
    "## Format descriptive data"
   ]
  },
  {
   "cell_type": "code",
   "execution_count": 12,
   "metadata": {},
   "outputs": [],
   "source": [
    "df_crsp_desc['permno'] = df_crsp_desc['permno'].astype(int)\n",
    "df_aux = df_crsp_desc\\\n",
    "                    .groupby('permno')\\\n",
    "                    .last()"
   ]
  },
  {
   "cell_type": "code",
   "execution_count": 15,
   "metadata": {},
   "outputs": [],
   "source": [
    "df_aux.to_pickle(path='../data/interim/df_aux.pkl')"
   ]
  },
  {
   "cell_type": "markdown",
   "metadata": {},
   "source": [
    "## Filter biggest Assets per Year"
   ]
  },
  {
   "cell_type": "code",
   "execution_count": 16,
   "metadata": {},
   "outputs": [],
   "source": [
    "# TEMPORARY CELL\n",
    "df_crsp_tidy = pd.read_pickle('../data/interim/df_crsp_tidy.pkl')\n",
    "df_aux = pd.read_pickle('../data/interim/df_aux.pkl')"
   ]
  },
  {
   "cell_type": "code",
   "execution_count": 13,
   "metadata": {},
   "outputs": [],
   "source": [
    "# parameters\n",
    "N_LARGEST = 100\n",
    "ESTIMATION_YEARS = 1\n",
    "ANALYSIS_YEARS = 1"
   ]
  },
  {
   "cell_type": "code",
   "execution_count": 14,
   "metadata": {},
   "outputs": [],
   "source": [
    "# select years\n",
    "sample_years = list(df_crsp_tidy.index.get_level_values('date').year.unique())\n",
    "if (df_crsp_tidy.index.get_level_values('date').year==sample_years[0]).sum() < (df_crsp_tidy.index.get_level_values('date').year==sample_years[1]).sum()*0.5:\n",
    "    sample_years = sample_years[1:]"
   ]
  },
  {
   "cell_type": "code",
   "execution_count": 19,
   "metadata": {},
   "outputs": [],
   "source": [
    "# select assets function # PREVIOUSLY USED\n",
    "def select_assets(df_estimation, n_assets):\n",
    "    year_obs = len(df_estimation['ret'].unstack())\n",
    "    \n",
    "    df_select = pd.DataFrame()\n",
    "    df_select['full_year'] = df_estimation['retadj']\\\n",
    "                                .groupby('permno')\\\n",
    "                                .count() > year_obs*0.99\n",
    "    df_select['size'] = df_estimation['mcap']\\\n",
    "                                .unstack()\\\n",
    "                                .sort_index()\\\n",
    "                                .fillna(method='ffill', limit=1)\\\n",
    "                                .tail(1)\\\n",
    "                                .squeeze()\n",
    "    df_select['size_rank'] = df_select['size']\\\n",
    "                                .where(df_select['full_year'])\\\n",
    "                                .rank(ascending=False)\n",
    "    \n",
    "    selected_assets = list(df_select.index[df_select['size_rank'] <= n_assets])\n",
    "    return selected_assets"
   ]
  },
  {
   "cell_type": "code",
   "execution_count": 16,
   "metadata": {},
   "outputs": [],
   "source": [
    "# select assets function\n",
    "def select_assets(df_estimation, df_analysis, n_assets):\n",
    "    year_obs = len(df_estimation['ret'].unstack())\n",
    "    \n",
    "    df_select = pd.DataFrame()\n",
    "    df_select['full_obs'] = df_estimation['retadj']\\\n",
    "                                .groupby('permno')\\\n",
    "                                .count() > year_obs*0.99\n",
    "    df_select['subsequent_obs'] = df_analysis['ret']\\\n",
    "                                .groupby('permno')\\\n",
    "                                .count() > 0\n",
    "    df_select['size'] = df_estimation['mcap']\\\n",
    "                                .unstack()\\\n",
    "                                .sort_index()\\\n",
    "                                .fillna(method='ffill', limit=1)\\\n",
    "                                .tail(1)\\\n",
    "                                .squeeze()\n",
    "    df_select['size_rank'] = df_select['size']\\\n",
    "                                .where(df_select['full_obs'])\\\n",
    "                                .where(df_select['subsequent_obs'])\\\n",
    "                                .rank(ascending=False)\n",
    "    \n",
    "    selected_assets = list(df_select.index[df_select['size_rank'] <= n_assets])\n",
    "    return selected_assets"
   ]
  },
  {
   "cell_type": "code",
   "execution_count": 20,
   "metadata": {},
   "outputs": [
    {
     "name": "stdout",
     "output_type": "stream",
     "text": [
      "2000 2020-05-29 16:40:31.668072\n",
      "2001 2020-05-29 16:40:49.310321\n",
      "2002 2020-05-29 16:41:07.186422\n",
      "2003 2020-05-29 16:41:24.240785\n",
      "2004 2020-05-29 16:41:39.917360\n",
      "2005 2020-05-29 16:41:55.490645\n",
      "2006 2020-05-29 16:42:11.250323\n",
      "2007 2020-05-29 16:42:29.128580\n",
      "2008 2020-05-29 16:42:44.963894\n",
      "2009 2020-05-29 16:42:59.626802\n",
      "2010 2020-05-29 16:43:14.079632\n",
      "2011 2020-05-29 16:43:28.883579\n",
      "2012 2020-05-29 16:43:43.516411\n",
      "2013 2020-05-29 16:43:59.139358\n",
      "2014 2020-05-29 16:44:14.506369\n",
      "2015 2020-05-29 16:44:29.569943\n",
      "2016 2020-05-29 16:44:44.718138\n",
      "2017 2020-05-29 16:44:59.806002\n",
      "2018 2020-05-29 16:45:14.938846\n"
     ]
    }
   ],
   "source": [
    "# PREVIOUSLY USED\n",
    "df_estimation_tidy = pd.Series(dtype='float', index=pd.MultiIndex.from_arrays([[],[]]))\n",
    "df_analysis_tidy = pd.Series(dtype='float', index=pd.MultiIndex.from_arrays([[],[]]))\n",
    "df_indices = pd.DataFrame()\n",
    "\n",
    "for year in sample_years[ESTIMATION_YEARS-1:-ANALYSIS_YEARS]:\n",
    "    # slice time dime dimension\n",
    "    df_estimation = df_crsp_tidy[(df_crsp_tidy.index.get_level_values('date').year > year-ESTIMATION_YEARS)\\\n",
    "                                      & (df_crsp_tidy.index.get_level_values('date').year <= year)]\n",
    "    df_analysis = df_crsp_tidy[(df_crsp_tidy.index.get_level_values('date').year > year)\\\n",
    "                                      & (df_crsp_tidy.index.get_level_values('date').year <= year+ANALYSIS_YEARS)]\n",
    "\n",
    "    # slice assets\n",
    "    selected_assets = select_assets(df_estimation, df_analysis, N_LARGEST)\n",
    "    df_estimation = df_estimation[[i in selected_assets for i in df_estimation.index.get_level_values('permno')]]\n",
    "    df_analysis = df_analysis[[i in selected_assets for i in df_analysis.index.get_level_values('permno')]]\n",
    "\n",
    "    # output adjusted returns data\n",
    "    df_estimation = df_estimation['retadj'].unstack().fillna(0)\n",
    "    df_analysis = df_analysis['retadj'].unstack()\n",
    "    df_descriptive = df_aux.loc[selected_assets]\n",
    "    \n",
    "    # save\n",
    "    df_estimation.to_csv('../data/processed/yearly/df_estimation_'+str(year)+'.csv')\n",
    "    df_analysis.to_csv('../data/processed/yearly/df_analysis_'+str(year)+'.csv')\n",
    "    df_descriptive.to_csv('../data/processed/yearly/df_descriptive_'+str(year)+'.csv')\n",
    "    \n",
    "    # collect full timeline\n",
    "    df_estimation_tidy = df_estimation_tidy.append(df_estimation.stack())\n",
    "    df_analysis_tidy = df_analysis_tidy.append(df_analysis.stack())\n",
    "    df_indices[year] = selected_assets\n",
    "    \n",
    "    print(year, dt.datetime.today())"
   ]
  },
  {
   "cell_type": "code",
   "execution_count": 97,
   "metadata": {},
   "outputs": [
    {
     "name": "stdout",
     "output_type": "stream",
     "text": [
      "2000 2020-09-29 16:04:12.614764\n",
      "2001 2020-09-29 16:04:29.995758\n",
      "2002 2020-09-29 16:04:48.239813\n",
      "2003 2020-09-29 16:05:07.591239\n",
      "2004 2020-09-29 16:05:24.411406\n",
      "2005 2020-09-29 16:05:41.613109\n",
      "2006 2020-09-29 16:05:58.307471\n",
      "2007 2020-09-29 16:06:14.879862\n",
      "2008 2020-09-29 16:06:31.259079\n",
      "2009 2020-09-29 16:06:47.054409\n",
      "2010 2020-09-29 16:07:03.350584\n",
      "2011 2020-09-29 16:07:19.036613\n",
      "2012 2020-09-29 16:07:35.469889\n",
      "2013 2020-09-29 16:07:51.815372\n",
      "2014 2020-09-29 16:08:07.914728\n",
      "2015 2020-09-29 16:08:23.864163\n",
      "2016 2020-09-29 16:08:40.396845\n",
      "2017 2020-09-29 16:08:55.895060\n",
      "2018 2020-09-29 16:09:11.281512\n"
     ]
    }
   ],
   "source": [
    "# VOLA\n",
    "df_estimation_tidy = pd.Series(dtype='float', index=pd.MultiIndex.from_arrays([[],[]]))\n",
    "df_analysis_tidy = pd.Series(dtype='float', index=pd.MultiIndex.from_arrays([[],[]]))\n",
    "df_indices = pd.DataFrame()\n",
    "\n",
    "for year in sample_years[ESTIMATION_YEARS-1:-ANALYSIS_YEARS]:\n",
    "    # slice time dime dimension\n",
    "    df_estimation = df_crsp_tidy[(df_crsp_tidy.index.get_level_values('date').year > year-ESTIMATION_YEARS)\\\n",
    "                                      & (df_crsp_tidy.index.get_level_values('date').year <= year)]\n",
    "    df_analysis = df_crsp_tidy[(df_crsp_tidy.index.get_level_values('date').year > year)\\\n",
    "                                      & (df_crsp_tidy.index.get_level_values('date').year <= year+ANALYSIS_YEARS)]\n",
    "\n",
    "    # slice assets\n",
    "    selected_assets = select_assets(df_estimation, df_analysis, N_LARGEST)\n",
    "    df_estimation = df_estimation[[i in selected_assets for i in df_estimation.index.get_level_values('permno')]]\n",
    "    df_analysis = df_analysis[[i in selected_assets for i in df_analysis.index.get_level_values('permno')]]\n",
    "\n",
    "    # output adjusted returns data\n",
    "    df_estimation = df_estimation['vola'].unstack().fillna(0)\n",
    "    df_analysis = df_analysis['vola'].unstack()\n",
    "    df_descriptive = df_aux.loc[selected_assets]\n",
    "    \n",
    "    # save\n",
    "    df_estimation.to_csv('../data/processed/yearly/vola/df_est_'+str(year)+'.csv')\n",
    "    df_analysis.to_csv('../data/processed/yearly/vola/df_ana_'+str(year)+'.csv')\n",
    "    df_descriptive.to_csv('../data/processed/yearly/vola/df_descriptive_'+str(year)+'.csv')\n",
    "    \n",
    "    # collect full timeline\n",
    "    df_estimation_tidy = df_estimation_tidy.append(df_estimation.stack())\n",
    "    df_analysis_tidy = df_analysis_tidy.append(df_analysis.stack())\n",
    "    df_indices[year] = selected_assets\n",
    "    \n",
    "    print(year, dt.datetime.today())"
   ]
  },
  {
   "cell_type": "code",
   "execution_count": 21,
   "metadata": {},
   "outputs": [],
   "source": [
    "df_estimation_tidy.to_pickle(path='../data/processed/df_estimation_data.pkl')\n",
    "df_analysis_tidy.to_pickle(path='../data/processed/df_analysis_data.pkl')\n",
    "df_indices.to_pickle(path='../data/processed/df_indices_data.pkl')"
   ]
  },
  {
   "cell_type": "code",
   "execution_count": null,
   "metadata": {},
   "outputs": [],
   "source": []
  },
  {
   "cell_type": "code",
   "execution_count": null,
   "metadata": {},
   "outputs": [],
   "source": []
  },
  {
   "cell_type": "code",
   "execution_count": 101,
   "metadata": {},
   "outputs": [
    {
     "data": {
      "text/plain": [
       "<matplotlib.axes._subplots.AxesSubplot at 0x7facd02c2a20>"
      ]
     },
     "execution_count": 101,
     "metadata": {},
     "output_type": "execute_result"
    },
    {
     "data": {
      "image/png": "[encoded data removed]",
      "text/plain": [
       "<Figure size 432x288 with 1 Axes>"
      ]
     },
     "metadata": {
      "needs_background": "light"
     },
     "output_type": "display_data"
    }
   ],
   "source": [
    "df_estimation_tidy.unstack()\\\n",
    "                  .apply(lambda x: x.autocorr(1))\\\n",
    "                  .hist()"
   ]
  },
  {
   "cell_type": "code",
   "execution_count": 99,
   "metadata": {},
   "outputs": [
    {
     "data": {
      "text/plain": [
       "<matplotlib.axes._subplots.AxesSubplot at 0x7facd3981470>"
      ]
     },
     "execution_count": 99,
     "metadata": {},
     "output_type": "execute_result"
    },
    {
     "data": {
      "image/png": "[encoded data removed]",
      "text/plain": [
       "<Figure size 432x288 with 1 Axes>"
      ]
     },
     "metadata": {
      "needs_background": "light"
     },
     "output_type": "display_data"
    }
   ],
   "source": [
    "np.log((df_estimation_tidy.replace(0, 1e-8)**1*np.sqrt(250)))\\\n",
    "    .hist(bins=100)"
   ]
  },
  {
   "cell_type": "code",
   "execution_count": null,
   "metadata": {},
   "outputs": [],
   "source": []
  },
  {
   "cell_type": "code",
   "execution_count": null,
   "metadata": {},
   "outputs": [],
   "source": []
  },
  {
   "cell_type": "code",
   "execution_count": null,
   "metadata": {},
   "outputs": [],
   "source": []
  },
  {
   "cell_type": "code",
   "execution_count": null,
   "metadata": {},
   "outputs": [],
   "source": []
  }
 ],
 "metadata": {
  "kernelspec": {
   "display_name": "Python 3",
   "language": "python",
   "name": "python3"
  },
  "language_info": {
   "codemirror_mode": {
    "name": "ipython",
    "version": 3
   },
   "file_extension": ".py",
   "mimetype": "text/x-python",
   "name": "python",
   "nbconvert_exporter": "python",
   "pygments_lexer": "ipython3",
   "version": "3.6.9"
  }
 },
 "nbformat": 4,
 "nbformat_minor": 4
}
