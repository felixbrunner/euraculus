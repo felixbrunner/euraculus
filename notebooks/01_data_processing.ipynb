{
 "cells": [
  {
   "cell_type": "markdown",
   "metadata": {},
   "source": [
    "# 01 - Data Preparation"
   ]
  },
  {
   "cell_type": "markdown",
   "metadata": {},
   "source": [
    "## Imports"
   ]
  },
  {
   "cell_type": "code",
   "execution_count": 1,
   "metadata": {},
   "outputs": [],
   "source": [
    "import pandas as pd\n",
    "import numpy as np\n",
    "import datetime as dt\n",
    "import sys"
   ]
  },
  {
   "cell_type": "markdown",
   "metadata": {},
   "source": [
    "## Load raw data"
   ]
  },
  {
   "cell_type": "code",
   "execution_count": 2,
   "metadata": {},
   "outputs": [],
   "source": [
    "df_crsp_raw = pd.read_pickle('../data/raw/df_crsp_raw.pkl')"
   ]
  },
  {
   "cell_type": "code",
   "execution_count": 3,
   "metadata": {},
   "outputs": [],
   "source": [
    "df_crsp_delist = pd.read_pickle('../data/raw/df_crsp_delist.pkl')"
   ]
  },
  {
   "cell_type": "code",
   "execution_count": 4,
   "metadata": {},
   "outputs": [],
   "source": [
    "df_crsp_desc = pd.read_pickle('../data/raw/df_crsp_desc.pkl')"
   ]
  },
  {
   "cell_type": "code",
   "execution_count": 5,
   "metadata": {},
   "outputs": [],
   "source": [
    "df_ff_raw = pd.read_pickle('../data/raw/df_ff_raw.pkl')"
   ]
  },
  {
   "cell_type": "code",
   "execution_count": null,
   "metadata": {},
   "outputs": [],
   "source": []
  },
  {
   "cell_type": "code",
   "execution_count": null,
   "metadata": {},
   "outputs": [],
   "source": []
  },
  {
   "cell_type": "markdown",
   "metadata": {},
   "source": [
    "## Format FF data"
   ]
  },
  {
   "cell_type": "code",
   "execution_count": 6,
   "metadata": {},
   "outputs": [],
   "source": [
    "# edit data formats\n",
    "df_ff_raw['date'] = pd.to_datetime(df_ff_raw['date'], yearfirst=True)\n",
    "\n",
    "# declare index\n",
    "df_ff_raw.set_index('date', inplace=True)"
   ]
  },
  {
   "cell_type": "code",
   "execution_count": 7,
   "metadata": {},
   "outputs": [],
   "source": [
    "df_ff_raw.to_pickle(path='../data/interim/df_ff.pkl')"
   ]
  },
  {
   "cell_type": "markdown",
   "metadata": {},
   "source": [
    "## Transform CRSP data to tidy data format & adjust returns for delisting"
   ]
  },
  {
   "cell_type": "code",
   "execution_count": 8,
   "metadata": {},
   "outputs": [],
   "source": [
    "df_crsp_tidy = df_crsp_raw.reset_index()\n",
    "del df_crsp_raw"
   ]
  },
  {
   "cell_type": "code",
   "execution_count": 9,
   "metadata": {},
   "outputs": [],
   "source": [
    "# edit data formats\n",
    "df_crsp_tidy['date'] = pd.to_datetime(df_crsp_tidy['date'], yearfirst=True)\n",
    "df_crsp_tidy[['permno']] = df_crsp_tidy[['permno']].astype(int)\n",
    "\n",
    "df_crsp_delist['permno'] = df_crsp_delist['permno'].astype(int)\n",
    "df_crsp_delist['date'] = pd.to_datetime(df_crsp_delist['date'], yearfirst=True)"
   ]
  },
  {
   "cell_type": "code",
   "execution_count": 10,
   "metadata": {},
   "outputs": [],
   "source": [
    "# merge\n",
    "df_crsp_tidy = df_crsp_tidy.merge(df_crsp_delist, how='left', on=['permno','date'])"
   ]
  },
  {
   "cell_type": "code",
   "execution_count": 11,
   "metadata": {},
   "outputs": [],
   "source": [
    "# adjusted returns (for delisting)\n",
    "df_crsp_tidy['retadj'] = (1+df_crsp_tidy['ret'].fillna(0))*(1+df_crsp_tidy['dlret'].fillna(0))-1\n",
    "df_crsp_tidy['retadj'] = df_crsp_tidy['retadj'].where(df_crsp_tidy['ret'].notna() | df_crsp_tidy['dlret'].notna())"
   ]
  },
  {
   "cell_type": "code",
   "execution_count": 12,
   "metadata": {},
   "outputs": [],
   "source": [
    "# declare index & sort\n",
    "df_crsp_tidy.set_index(['date','permno'], inplace=True)\n",
    "df_crsp_tidy = df_crsp_tidy.drop(columns=['index', 'dlret'])\n",
    "df_crsp_tidy = df_crsp_tidy.sort_index()"
   ]
  },
  {
   "cell_type": "code",
   "execution_count": 13,
   "metadata": {},
   "outputs": [],
   "source": [
    "df_crsp_tidy.to_pickle(path='../data/interim/df_crsp_tidy.pkl')"
   ]
  },
  {
   "cell_type": "markdown",
   "metadata": {},
   "source": [
    "## Format descriptive data"
   ]
  },
  {
   "cell_type": "code",
   "execution_count": 16,
   "metadata": {},
   "outputs": [],
   "source": [
    "df_crsp_desc['permno'] = df_crsp_desc['permno'].astype(int)\n",
    "df_aux = df_crsp_desc\\\n",
    "                    .groupby('permno')\\\n",
    "                    .last()#\\\n",
    "                    #.drop(columns=['exchcd'])"
   ]
  },
  {
   "cell_type": "code",
   "execution_count": 17,
   "metadata": {},
   "outputs": [],
   "source": [
    "df_aux.to_pickle(path='../data/interim/df_aux.pkl')"
   ]
  },
  {
   "cell_type": "markdown",
   "metadata": {},
   "source": [
    "## Filter biggest Assets per Year"
   ]
  },
  {
   "cell_type": "code",
   "execution_count": 172,
   "metadata": {},
   "outputs": [],
   "source": [
    "#df_crsp_tidy = pd.read_pickle('../data/interim/df_crsp_tidy.pkl')"
   ]
  },
  {
   "cell_type": "code",
   "execution_count": 18,
   "metadata": {},
   "outputs": [],
   "source": [
    "# parameters\n",
    "N_LARGEST = 100\n",
    "ESTIMATION_YEARS = 1\n",
    "ANALYSIS_YEARS = 1"
   ]
  },
  {
   "cell_type": "code",
   "execution_count": 19,
   "metadata": {},
   "outputs": [],
   "source": [
    "# select years\n",
    "sample_years = list(df_crsp_tidy.index.get_level_values('date').year.unique())\n",
    "if (df_crsp_tidy.index.get_level_values('date').year==sample_years[0]).sum() < (df_crsp_tidy.index.get_level_values('date').year==sample_years[1]).sum()*0.5:\n",
    "    sample_years = sample_years[1:]"
   ]
  },
  {
   "cell_type": "code",
   "execution_count": 25,
   "metadata": {},
   "outputs": [],
   "source": [
    "# select assets function\n",
    "def select_assets(df_estimation, n_assets):\n",
    "    year_obs = len(df_estimation['ret'].unstack())\n",
    "    \n",
    "    df_select = pd.DataFrame()\n",
    "    df_select['full_year'] = df_estimation['retadj']\\\n",
    "                                .groupby('permno')\\\n",
    "                                .count() > year_obs*0.99\n",
    "    df_select['size'] = df_estimation['mcap']\\\n",
    "                                .unstack()\\\n",
    "                                .sort_index()\\\n",
    "                                .fillna(method='ffill', limit=1)\\\n",
    "                                .tail(1)\\\n",
    "                                .squeeze()\n",
    "    df_select['size_rank'] = df_select['size']\\\n",
    "                                .where(df_select['full_year'])\\\n",
    "                                .rank(ascending=False)\n",
    "    \n",
    "    selected_assets = list(df_select.index[df_select['size_rank'] <= n_assets])\n",
    "    return selected_assets"
   ]
  },
  {
   "cell_type": "code",
   "execution_count": 24,
   "metadata": {},
   "outputs": [
    {
     "name": "stdout",
     "output_type": "stream",
     "text": [
      "2000 2020-05-21 15:12:33.876234\n",
      "2001 2020-05-21 15:12:50.566604\n",
      "2002 2020-05-21 15:13:07.179467\n",
      "2003 2020-05-21 15:13:25.922381\n",
      "2004 2020-05-21 15:13:44.766776\n",
      "2005 2020-05-21 15:14:00.930631\n",
      "2006 2020-05-21 15:14:17.061496\n",
      "2007 2020-05-21 15:14:32.524949\n",
      "2008 2020-05-21 15:14:50.611583\n",
      "2009 2020-05-21 15:15:05.664330\n",
      "2010 2020-05-21 15:15:20.724060\n",
      "2011 2020-05-21 15:15:35.466806\n",
      "2012 2020-05-21 15:15:53.660156\n",
      "2013 2020-05-21 15:16:08.593250\n",
      "2014 2020-05-21 15:16:23.636004\n",
      "2015 2020-05-21 15:16:42.097759\n",
      "2016 2020-05-21 15:16:58.044672\n",
      "2017 2020-05-21 15:17:13.502338\n",
      "2018 2020-05-21 15:17:28.389432\n"
     ]
    }
   ],
   "source": [
    "for year in sample_years[ESTIMATION_YEARS-1:-ANALYSIS_YEARS]:\n",
    "    # slice time dime dimension\n",
    "    df_estimation = df_crsp_tidy[(df_crsp_tidy.index.get_level_values('date').year > year-ESTIMATION_YEARS)\\\n",
    "                                      & (df_crsp_tidy.index.get_level_values('date').year <= year)]\n",
    "    df_analysis = df_crsp_tidy[(df_crsp_tidy.index.get_level_values('date').year > year)\\\n",
    "                                      & (df_crsp_tidy.index.get_level_values('date').year <= year+ANALYSIS_YEARS)]\n",
    "\n",
    "    # slice assets\n",
    "    selected_assets = select_assets(df_estimation, N_LARGEST)\n",
    "    df_estimation = df_estimation[[i in selected_assets for i in df_estimation.index.get_level_values('permno')]]\n",
    "    df_analysis = df_analysis[[i in selected_assets for i in df_analysis.index.get_level_values('permno')]]\n",
    "\n",
    "    # output adjusted returns data\n",
    "    df_estimation = df_estimation['retadj'].unstack().fillna(0)\n",
    "    df_analysis = df_analysis['retadj'].unstack()\n",
    "    df_descriptive = df_aux.loc[df_analysis.columns]\n",
    "    \n",
    "    # save\n",
    "    df_estimation.to_csv('../data/processed/yearly/df_estimation_'+str(year)+'.csv')\n",
    "    df_analysis.to_csv('../data/processed/yearly/df_analysis_'+str(year)+'.csv')\n",
    "    df_descriptive.to_csv('../data/processed/yearly/df_descriptive_'+str(year)+'.csv')\n",
    "    \n",
    "    # NOTE: combined frame needed?\n",
    "    \n",
    "    print(year, dt.datetime.today())"
   ]
  },
  {
   "cell_type": "code",
   "execution_count": null,
   "metadata": {},
   "outputs": [],
   "source": []
  }
 ],
 "metadata": {
  "kernelspec": {
   "display_name": "Python 3",
   "language": "python",
   "name": "python3"
  },
  "language_info": {
   "codemirror_mode": {
    "name": "ipython",
    "version": 3
   },
   "file_extension": ".py",
   "mimetype": "text/x-python",
   "name": "python",
   "nbconvert_exporter": "python",
   "pygments_lexer": "ipython3",
   "version": "3.7.0"
  }
 },
 "nbformat": 4,
 "nbformat_minor": 2
}
