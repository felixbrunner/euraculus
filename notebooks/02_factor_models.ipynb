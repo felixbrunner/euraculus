{
 "cells": [
  {
   "cell_type": "markdown",
   "metadata": {},
   "source": [
    "# 02 - Factor models estimation & decomposition\n",
    "This notebook contains:\n",
    "- monthly factor model estimation for:\n",
    "    - returns\n",
    "    - log variance\n",
    "\n",
    "## Imports"
   ]
  },
  {
   "cell_type": "code",
   "execution_count": 1,
   "metadata": {
    "pycharm": {
     "is_executing": false
    }
   },
   "outputs": [],
   "source": [
    "%load_ext autoreload\n",
    "%autoreload 2"
   ]
  },
  {
   "cell_type": "code",
   "execution_count": 2,
   "metadata": {},
   "outputs": [
    {
     "name": "stderr",
     "output_type": "stream",
     "text": [
      "/home/fbrun/.local/lib/python3.6/site-packages/pandas_datareader/compat/__init__.py:7: FutureWarning: pandas.util.testing is deprecated. Use the functions in the public API at pandas.testing instead.\n",
      "  from pandas.util.testing import assert_frame_equal\n"
     ]
    }
   ],
   "source": [
    "import pandas as pd\n",
    "import numpy as np\n",
    "import scipy as sp\n",
    "\n",
    "import matplotlib.pyplot as plt\n",
    "import seaborn as sns\n",
    "import missingno\n",
    "\n",
    "import datetime as dt\n",
    "\n",
    "from sklearn.linear_model import LinearRegression\n",
    "\n",
    "import sys\n",
    "sys.path.append('../')\n",
    "\n",
    "import src"
   ]
  },
  {
   "cell_type": "code",
   "execution_count": 3,
   "metadata": {},
   "outputs": [],
   "source": [
    "sys.path.append('../../kungfu/')\n",
    "import kungfu as kf"
   ]
  },
  {
   "cell_type": "markdown",
   "metadata": {},
   "source": [
    "## Load Factor Data"
   ]
  },
  {
   "cell_type": "code",
   "execution_count": 4,
   "metadata": {},
   "outputs": [],
   "source": [
    "df_spy = src.loader.load_spy()\n",
    "df_factors = src.loader.load_factors()"
   ]
  },
  {
   "cell_type": "markdown",
   "metadata": {},
   "source": [
    "## Return Series Factor Models\n",
    "### Set up factor models"
   ]
  },
  {
   "cell_type": "code",
   "execution_count": 5,
   "metadata": {},
   "outputs": [],
   "source": [
    "spy_capm = kf.FactorModel(df_spy['ret'].rename('spy'))\n",
    "capm = kf.FactorModel(df_factors['mktrf'])\n",
    "ff3 = kf.FactorModel(df_factors[['mktrf', 'smb', 'hml']])\n",
    "c4 = kf.FactorModel(df_factors[['mktrf', 'smb', 'hml', 'umd']])"
   ]
  },
  {
   "cell_type": "code",
   "execution_count": 6,
   "metadata": {},
   "outputs": [],
   "source": [
    "ret_models = {'spy_capm': spy_capm,\n",
    "              'capm': capm,\n",
    "              'ff3': ff3,\n",
    "              'c4': c4,\n",
    "             }"
   ]
  },
  {
   "cell_type": "markdown",
   "metadata": {},
   "source": [
    "### Estimate"
   ]
  },
  {
   "cell_type": "code",
   "execution_count": 9,
   "metadata": {},
   "outputs": [
    {
     "name": "stdout",
     "output_type": "stream",
     "text": [
      "Done estimating year 1994\n",
      "Done estimating year 1995\n",
      "Done estimating year 1996\n",
      "Done estimating year 1997\n",
      "Done estimating year 1998\n",
      "Done estimating year 1999\n",
      "Done estimating year 2000\n",
      "Done estimating year 2001\n",
      "Done estimating year 2002\n",
      "Done estimating year 2003\n",
      "Done estimating year 2004\n",
      "Done estimating year 2005\n",
      "Done estimating year 2006\n",
      "Done estimating year 2007\n",
      "Done estimating year 2008\n",
      "Done estimating year 2009\n",
      "Done estimating year 2010\n",
      "Done estimating year 2011\n",
      "Done estimating year 2012\n",
      "Done estimating year 2013\n",
      "Done estimating year 2014\n",
      "Done estimating year 2015\n",
      "Done estimating year 2016\n",
      "Done estimating year 2017\n",
      "Done estimating year 2018\n",
      "Done estimating year 2019\n",
      "Done estimating year 2020\n",
      "CPU times: user 4h 12min 5s, sys: 18 s, total: 4h 12min 23s\n",
      "Wall time: 4h 12min 38s\n"
     ]
    }
   ],
   "source": [
    "%%time\n",
    "df_estimates = pd.DataFrame()\n",
    "for year in range(1994, 2021):\n",
    "    for month in range(1, 12+1):\n",
    "        ## backwards part\n",
    "        df_back = src.loader.load_monthly_crsp(year, month, which='back', column='retadj')\n",
    "        df_back -= src.loader.load_rf(year=year, month=month, which='back').values\n",
    "        sampling_date = df_back.index[-1]\n",
    "        n_months = len(df_back.index.to_period('M').unique())\n",
    "        \n",
    "        # estimate\n",
    "        back_estimates = src.factor.estimate_models(df_back, ret_models)\n",
    "        back_estimates.index = pd.MultiIndex.from_product([[sampling_date], back_estimates.index], names=['sampling_date', 'permno'])\n",
    "        back_estimates.columns = [column+'_back_{}M'.format(n_months) for column in back_estimates.columns]\n",
    "       \n",
    "        ## forward part\n",
    "        df_forward = src.loader.load_monthly_crsp(year, month, which='forward', column='retadj')\n",
    "        df_forward -= src.loader.load_rf(year=year, month=month, which='forward').values\n",
    "        months = df_forward.index.to_period('M').unique().tolist()\n",
    "        \n",
    "        # estimate\n",
    "        forward_estimates = pd.DataFrame(index=back_estimates.index)\n",
    "        for i in range(1, len(months)+1):\n",
    "            data = df_forward[df_forward.index.to_period('M').isin(months[0:i])]\n",
    "            month_estimates = src.factor.estimate_models(data, ret_models)\n",
    "            month_estimates.index = pd.MultiIndex.from_product([[sampling_date], month_estimates.index], names=['sampling_date', 'permno'])\n",
    "            month_estimates.columns = [column+'_forward_{}M'.format(i) for column in month_estimates.columns]\n",
    "            forward_estimates = forward_estimates.join(month_estimates)\n",
    "                \n",
    "        # combine\n",
    "        estimates = back_estimates.join(forward_estimates)\n",
    "        df_estimates = df_estimates.append(estimates)\n",
    "    print('Done estimating year {}'.format(year))\n",
    "        \n",
    "    df_estimates.to_csv('../data/estimated/factor_exposures.csv')"
   ]
  },
  {
   "cell_type": "markdown",
   "metadata": {},
   "source": [
    "## Construct CAPM idiosyncratic variances"
   ]
  },
  {
   "cell_type": "code",
   "execution_count": 10,
   "metadata": {},
   "outputs": [],
   "source": [
    "# load betas\n",
    "betas = pd.read_csv('../data/estimated/factor_exposures.csv')\n",
    "betas['sampling_date'] = pd.to_datetime(betas['sampling_date'])\n",
    "betas = betas.set_index(['sampling_date','permno'])['spy_capm_spy_back_12M']\n",
    "\n",
    "# load SPY data\n",
    "spy_var = src.loader.load_spy(columns='var')"
   ]
  },
  {
   "cell_type": "code",
   "execution_count": 11,
   "metadata": {},
   "outputs": [
    {
     "name": "stdout",
     "output_type": "stream",
     "text": [
      "Done decomposiong year 1994\n",
      "Done decomposiong year 1995\n",
      "Done decomposiong year 1996\n",
      "Done decomposiong year 1997\n",
      "Done decomposiong year 1998\n",
      "Done decomposiong year 1999\n",
      "Done decomposiong year 2000\n",
      "Done decomposiong year 2001\n",
      "Done decomposiong year 2002\n",
      "Done decomposiong year 2003\n",
      "Done decomposiong year 2004\n",
      "Done decomposiong year 2005\n",
      "Done decomposiong year 2006\n",
      "Done decomposiong year 2007\n",
      "Done decomposiong year 2008\n",
      "Done decomposiong year 2009\n",
      "Done decomposiong year 2010\n",
      "Done decomposiong year 2011\n",
      "Done decomposiong year 2012\n",
      "Done decomposiong year 2013\n",
      "Done decomposiong year 2014\n",
      "Done decomposiong year 2015\n",
      "Done decomposiong year 2016\n",
      "Done decomposiong year 2017\n",
      "Done decomposiong year 2018\n",
      "Done decomposiong year 2019\n",
      "Done decomposiong year 2020\n",
      "CPU times: user 1min 17s, sys: 2.19 s, total: 1min 19s\n",
      "Wall time: 1min 22s\n"
     ]
    }
   ],
   "source": [
    "%%time\n",
    "for year in range(1994, 2021):\n",
    "    for month in range(1, 12+1):\n",
    "        # period inputs\n",
    "        total_variance = src.loader.load_monthly_crsp(year, month, which='back', column='var')\n",
    "        period_betas = betas[(betas.index.get_level_values('sampling_date').year == year) & \\\n",
    "                             (betas.index.get_level_values('sampling_date').month == month)]\n",
    "        period_spy_var = spy_var[spy_var.index.isin(total_variance.index)]\n",
    "\n",
    "        # decompose\n",
    "        df_decomposition = src.factor.decompose_variance(total_variance, period_betas, period_spy_var)\n",
    "        df_decomposition.to_csv('../data/processed/monthly/{}/{}/df_var_decomposition.csv'.format(year, month))\n",
    "        \n",
    "    print('Done decomposiong year {}'.format(year))"
   ]
  },
  {
   "cell_type": "markdown",
   "metadata": {},
   "source": [
    "## Variance Series Factor Models\n",
    "### Set up factor models"
   ]
  },
  {
   "cell_type": "code",
   "execution_count": 7,
   "metadata": {},
   "outputs": [],
   "source": [
    "logvar_capm = kf.FactorModel(np.log(df_spy['var']).rename('spy'))\n",
    "var_models = {'logvar_capm': logvar_capm}"
   ]
  },
  {
   "cell_type": "markdown",
   "metadata": {},
   "source": [
    "### Estimate"
   ]
  },
  {
   "cell_type": "code",
   "execution_count": 8,
   "metadata": {},
   "outputs": [
    {
     "name": "stdout",
     "output_type": "stream",
     "text": [
      "Done estimating year 1994\n",
      "Done estimating year 1995\n",
      "Done estimating year 1996\n",
      "Done estimating year 1997\n"
     ]
    },
    {
     "name": "stderr",
     "output_type": "stream",
     "text": [
      "/home/fbrun/.local/lib/python3.6/site-packages/statsmodels/regression/linear_model.py:1620: RuntimeWarning: invalid value encountered in double_scalars\n",
      "  return np.dot(wresid, wresid) / self.df_resid\n",
      "/home/fbrun/.local/lib/python3.6/site-packages/statsmodels/regression/linear_model.py:1685: RuntimeWarning: invalid value encountered in double_scalars\n",
      "  return 1 - self.ssr/self.centered_tss\n",
      "/home/fbrun/.local/lib/python3.6/site-packages/statsmodels/regression/linear_model.py:1620: RuntimeWarning: divide by zero encountered in double_scalars\n",
      "  return np.dot(wresid, wresid) / self.df_resid\n",
      "/home/fbrun/.local/lib/python3.6/site-packages/statsmodels/regression/linear_model.py:1685: RuntimeWarning: divide by zero encountered in double_scalars\n",
      "  return 1 - self.ssr/self.centered_tss\n"
     ]
    },
    {
     "name": "stdout",
     "output_type": "stream",
     "text": [
      "Done estimating year 1998\n",
      "Done estimating year 1999\n",
      "Done estimating year 2000\n",
      "Done estimating year 2001\n",
      "Done estimating year 2002\n",
      "Done estimating year 2003\n",
      "Done estimating year 2004\n",
      "Done estimating year 2005\n",
      "Done estimating year 2006\n",
      "Done estimating year 2007\n",
      "Done estimating year 2008\n",
      "Done estimating year 2009\n",
      "Done estimating year 2010\n",
      "Done estimating year 2011\n",
      "Done estimating year 2012\n",
      "Done estimating year 2013\n",
      "Done estimating year 2014\n",
      "Done estimating year 2015\n",
      "Done estimating year 2016\n",
      "Done estimating year 2017\n",
      "Done estimating year 2018\n",
      "Done estimating year 2019\n",
      "Done estimating year 2020\n",
      "CPU times: user 1h 7min 22s, sys: 10.5 s, total: 1h 7min 32s\n",
      "Wall time: 1h 7min 48s\n"
     ]
    }
   ],
   "source": [
    "%%time\n",
    "df_estimates = pd.DataFrame()\n",
    "for year in range(1994, 2021):\n",
    "    for month in range(1, 12+1):\n",
    "        ## backwards part\n",
    "        df_back = src.loader.load_monthly_crsp(year, month, which='back', column='var')\n",
    "        df_back = np.log(df_back.replace(0, value=df_back.mask(df_back<=0).min()))\n",
    "        sampling_date = df_back.index[-1]\n",
    "        n_months = len(df_back.index.to_period('M').unique())\n",
    "        \n",
    "        # estimate\n",
    "        back_estimates, back_residuals = src.factor.estimate_models(df_back, var_models, return_residuals=True)\n",
    "        back_residuals.to_csv('../data/processed/monthly/{}/{}/df_back_residuals.csv'.format(year, month))\n",
    "        back_estimates.index = pd.MultiIndex.from_product([[sampling_date], back_estimates.index], names=['sampling_date', 'permno'])\n",
    "        back_estimates.columns = [column+'_back_{}M'.format(n_months) for column in back_estimates.columns]\n",
    "       \n",
    "        ## forward part\n",
    "        df_forward = src.loader.load_monthly_crsp(year, month, which='forward', column='var')\n",
    "        df_forward = np.log(df_forward.replace(0, value=df_forward.mask(df_forward<=0).min()))\n",
    "        months = df_forward.index.to_period('M').unique().tolist()\n",
    "        \n",
    "        # estimate\n",
    "        forward_estimates = pd.DataFrame(index=back_estimates.index)\n",
    "        for i in range(1, len(months)+1):\n",
    "            data = df_forward[df_forward.index.to_period('M').isin(months[0:i])]\n",
    "            month_estimates = src.factor.estimate_models(data, var_models)\n",
    "            month_estimates.index = pd.MultiIndex.from_product([[sampling_date], month_estimates.index], names=['sampling_date', 'permno'])\n",
    "            month_estimates.columns = [column+'_forward_{}M'.format(i) for column in month_estimates.columns]\n",
    "            forward_estimates = forward_estimates.join(month_estimates)\n",
    "                \n",
    "        # combine\n",
    "        estimates = back_estimates.join(forward_estimates)\n",
    "        df_estimates = df_estimates.append(estimates)\n",
    "    print('Done estimating year {}'.format(year))\n",
    "        \n",
    "    df_estimates.to_csv('../data/estimated/logvar_factor_exposures.csv')"
   ]
  },
  {
   "cell_type": "markdown",
   "metadata": {},
   "source": [
    "## Analyse\n",
    "### Beta Estimates"
   ]
  },
  {
   "cell_type": "code",
   "execution_count": 41,
   "metadata": {},
   "outputs": [],
   "source": [
    "all_models = pd.read_csv('../data/estimated/factor_exposures.csv')\n",
    "all_models['sampling_date'] = pd.to_datetime(all_models.sampling_date)"
   ]
  },
  {
   "cell_type": "code",
   "execution_count": 48,
   "metadata": {},
   "outputs": [],
   "source": [
    "df_analysis = df_estimates.merge(all_models, left_index=True, right_on=['sampling_date','permno'], how='outer')\\\n",
    "                    [['logvar_capm_alpha_back_12M', 'logvar_capm_spy_back_12M',\\\n",
    "                      'capm_alpha_back_12M', 'capm_mktrf_back_12M']]"
   ]
  },
  {
   "cell_type": "code",
   "execution_count": 49,
   "metadata": {},
   "outputs": [],
   "source": [
    "df_analysis['squared_betas'] = df_analysis['logvar_capm_spy_back_12M']**2"
   ]
  },
  {
   "cell_type": "code",
   "execution_count": 50,
   "metadata": {},
   "outputs": [
    {
     "data": {
      "text/html": [
       "<div>\n",
       "<style scoped>\n",
       "    .dataframe tbody tr th:only-of-type {\n",
       "        vertical-align: middle;\n",
       "    }\n",
       "\n",
       "    .dataframe tbody tr th {\n",
       "        vertical-align: top;\n",
       "    }\n",
       "\n",
       "    .dataframe thead th {\n",
       "        text-align: right;\n",
       "    }\n",
       "</style>\n",
       "<table border=\"1\" class=\"dataframe\">\n",
       "  <thead>\n",
       "    <tr style=\"text-align: right;\">\n",
       "      <th></th>\n",
       "      <th>logvar_capm_alpha_back_12M</th>\n",
       "      <th>logvar_capm_spy_back_12M</th>\n",
       "      <th>capm_alpha_back_12M</th>\n",
       "      <th>capm_mktrf_back_12M</th>\n",
       "      <th>squared_betas</th>\n",
       "    </tr>\n",
       "  </thead>\n",
       "  <tbody>\n",
       "    <tr>\n",
       "      <th>logvar_capm_alpha_back_12M</th>\n",
       "      <td>1.000000</td>\n",
       "      <td>0.948686</td>\n",
       "      <td>0.075637</td>\n",
       "      <td>0.483448</td>\n",
       "      <td>0.919072</td>\n",
       "    </tr>\n",
       "    <tr>\n",
       "      <th>logvar_capm_spy_back_12M</th>\n",
       "      <td>0.948686</td>\n",
       "      <td>1.000000</td>\n",
       "      <td>-0.007807</td>\n",
       "      <td>0.300739</td>\n",
       "      <td>0.971558</td>\n",
       "    </tr>\n",
       "    <tr>\n",
       "      <th>capm_alpha_back_12M</th>\n",
       "      <td>0.075637</td>\n",
       "      <td>-0.007807</td>\n",
       "      <td>1.000000</td>\n",
       "      <td>0.154388</td>\n",
       "      <td>-0.006123</td>\n",
       "    </tr>\n",
       "    <tr>\n",
       "      <th>capm_mktrf_back_12M</th>\n",
       "      <td>0.483448</td>\n",
       "      <td>0.300739</td>\n",
       "      <td>0.154388</td>\n",
       "      <td>1.000000</td>\n",
       "      <td>0.300266</td>\n",
       "    </tr>\n",
       "    <tr>\n",
       "      <th>squared_betas</th>\n",
       "      <td>0.919072</td>\n",
       "      <td>0.971558</td>\n",
       "      <td>-0.006123</td>\n",
       "      <td>0.300266</td>\n",
       "      <td>1.000000</td>\n",
       "    </tr>\n",
       "  </tbody>\n",
       "</table>\n",
       "</div>"
      ],
      "text/plain": [
       "                            logvar_capm_alpha_back_12M  \\\n",
       "logvar_capm_alpha_back_12M                    1.000000   \n",
       "logvar_capm_spy_back_12M                      0.948686   \n",
       "capm_alpha_back_12M                           0.075637   \n",
       "capm_mktrf_back_12M                           0.483448   \n",
       "squared_betas                                 0.919072   \n",
       "\n",
       "                            logvar_capm_spy_back_12M  capm_alpha_back_12M  \\\n",
       "logvar_capm_alpha_back_12M                  0.948686             0.075637   \n",
       "logvar_capm_spy_back_12M                    1.000000            -0.007807   \n",
       "capm_alpha_back_12M                        -0.007807             1.000000   \n",
       "capm_mktrf_back_12M                         0.300739             0.154388   \n",
       "squared_betas                               0.971558            -0.006123   \n",
       "\n",
       "                            capm_mktrf_back_12M  squared_betas  \n",
       "logvar_capm_alpha_back_12M             0.483448       0.919072  \n",
       "logvar_capm_spy_back_12M               0.300739       0.971558  \n",
       "capm_alpha_back_12M                    0.154388      -0.006123  \n",
       "capm_mktrf_back_12M                    1.000000       0.300266  \n",
       "squared_betas                          0.300266       1.000000  "
      ]
     },
     "execution_count": 50,
     "metadata": {},
     "output_type": "execute_result"
    }
   ],
   "source": [
    "df_analysis.corr()"
   ]
  },
  {
   "cell_type": "markdown",
   "metadata": {},
   "source": [
    "### Idiosyncratic Variance Residuals"
   ]
  },
  {
   "cell_type": "code",
   "execution_count": 17,
   "metadata": {},
   "outputs": [],
   "source": [
    "year = 2011\n",
    "month = 2"
   ]
  },
  {
   "cell_type": "code",
   "execution_count": 42,
   "metadata": {},
   "outputs": [],
   "source": [
    "df_back_residuals = pd.read_csv('../data/processed/monthly/{}/{}/df_back_residuals.csv'.format(year, month))\n",
    "df_var_decomposition = pd.read_csv('../data/processed/monthly/{}/{}/df_var_decomposition.csv'.format(year, month))"
   ]
  },
  {
   "cell_type": "code",
   "execution_count": 43,
   "metadata": {},
   "outputs": [
    {
     "data": {
      "text/plain": [
       "0.8262860484021962"
      ]
     },
     "execution_count": 43,
     "metadata": {},
     "output_type": "execute_result"
    }
   ],
   "source": [
    "df_back_residuals['logvar_capm'].corr(np.log(df_var_decomposition['idiosyncratic']))"
   ]
  },
  {
   "cell_type": "code",
   "execution_count": 38,
   "metadata": {},
   "outputs": [
    {
     "name": "stderr",
     "output_type": "stream",
     "text": [
      "/home/rubelrennfix/.virtualenvs/euraculus/lib/python3.6/site-packages/ipykernel_launcher.py:1: DeprecationWarning: The default dtype for empty Series will be 'object' instead of 'float64' in a future version. Specify a dtype explicitly to silence this warning.\n",
      "  \"\"\"Entry point for launching an IPython kernel.\n"
     ]
    }
   ],
   "source": [
    "correlations = pd.Series(index=pd.MultiIndex.from_product([[],[]]))\n",
    "for year in range(1994, 2020):\n",
    "    for month in range(1, 12+1):\n",
    "        # load \n",
    "        df_back_residuals = pd.read_csv('../data/processed/monthly/{}/{}/df_back_residuals.csv'.format(year, month))\n",
    "        df_var_decomposition = pd.read_csv('../data/processed/monthly/{}/{}/df_var_decomposition.csv'.format(year, month))\n",
    "        \n",
    "        # calculate\n",
    "        correlation = df_back_residuals['logvar_capm'].corr(np.log(df_var_decomposition['idiosyncratic']))\n",
    "        \n",
    "        # collect\n",
    "        correlations[(year,month)] = correlation"
   ]
  },
  {
   "cell_type": "code",
   "execution_count": 39,
   "metadata": {},
   "outputs": [
    {
     "data": {
      "text/plain": [
       "<matplotlib.axes._subplots.AxesSubplot at 0x7f88400eef98>"
      ]
     },
     "execution_count": 39,
     "metadata": {},
     "output_type": "execute_result"
    },
    {
     "data": {
      "image/png": "[encoded data removed]",
      "text/plain": [
       "<Figure size 1224x576 with 1 Axes>"
      ]
     },
     "metadata": {},
     "output_type": "display_data"
    }
   ],
   "source": [
    "correlations.plot()"
   ]
  },
  {
   "cell_type": "markdown",
   "metadata": {},
   "source": [
    "## Index correlation"
   ]
  },
  {
   "cell_type": "code",
   "execution_count": 55,
   "metadata": {},
   "outputs": [
    {
     "data": {
      "text/html": [
       "<div>\n",
       "<style scoped>\n",
       "    .dataframe tbody tr th:only-of-type {\n",
       "        vertical-align: middle;\n",
       "    }\n",
       "\n",
       "    .dataframe tbody tr th {\n",
       "        vertical-align: top;\n",
       "    }\n",
       "\n",
       "    .dataframe thead th {\n",
       "        text-align: right;\n",
       "    }\n",
       "</style>\n",
       "<table border=\"1\" class=\"dataframe\">\n",
       "  <thead>\n",
       "    <tr style=\"text-align: right;\">\n",
       "      <th></th>\n",
       "      <th>spy_excess</th>\n",
       "      <th>mktrf</th>\n",
       "    </tr>\n",
       "  </thead>\n",
       "  <tbody>\n",
       "    <tr>\n",
       "      <th>spy_excess</th>\n",
       "      <td>1.000000</td>\n",
       "      <td>0.972954</td>\n",
       "    </tr>\n",
       "    <tr>\n",
       "      <th>mktrf</th>\n",
       "      <td>0.972954</td>\n",
       "      <td>1.000000</td>\n",
       "    </tr>\n",
       "  </tbody>\n",
       "</table>\n",
       "</div>"
      ],
      "text/plain": [
       "            spy_excess     mktrf\n",
       "spy_excess    1.000000  0.972954\n",
       "mktrf         0.972954  1.000000"
      ]
     },
     "execution_count": 55,
     "metadata": {},
     "output_type": "execute_result"
    }
   ],
   "source": [
    "df_indices = df_spy[['ret']].join(df_factors['rf']).join(df_factors['mktrf'])\n",
    "df_indices['spy_excess'] = df_indices['ret'] - df_indices['rf']\n",
    "df_indices[['spy_excess', 'mktrf']].corr()"
   ]
  },
  {
   "cell_type": "code",
   "execution_count": null,
   "metadata": {},
   "outputs": [],
   "source": []
  },
  {
   "cell_type": "code",
   "execution_count": null,
   "metadata": {},
   "outputs": [],
   "source": []
  },
  {
   "cell_type": "code",
   "execution_count": null,
   "metadata": {},
   "outputs": [],
   "source": []
  },
  {
   "cell_type": "code",
   "execution_count": null,
   "metadata": {},
   "outputs": [],
   "source": []
  },
  {
   "cell_type": "code",
   "execution_count": null,
   "metadata": {},
   "outputs": [],
   "source": []
  },
  {
   "cell_type": "code",
   "execution_count": null,
   "metadata": {},
   "outputs": [],
   "source": []
  },
  {
   "cell_type": "markdown",
   "metadata": {},
   "source": [
    "## Single year analysis\n",
    "### Load data"
   ]
  },
  {
   "cell_type": "code",
   "execution_count": 37,
   "metadata": {},
   "outputs": [],
   "source": [
    "year = 2019"
   ]
  },
  {
   "cell_type": "code",
   "execution_count": 5,
   "metadata": {},
   "outputs": [],
   "source": [
    "df_returns = src.loader.load_year(year, data='returns')\n",
    "df_volas = src.loader.load_year(year, data='volas')\n",
    "df_spy_ret = src.loader.load_spy_returns(year)\n",
    "df_spy_vola = src.loader.load_spy_vola(year)\n",
    "rf = src.loader.load_rf(year)\n",
    "tickers = src.loader.load_year_tickers(year)"
   ]
  },
  {
   "cell_type": "code",
   "execution_count": 39,
   "metadata": {},
   "outputs": [
    {
     "data": {
      "text/html": [
       "<div>\n",
       "<style scoped>\n",
       "    .dataframe tbody tr th:only-of-type {\n",
       "        vertical-align: middle;\n",
       "    }\n",
       "\n",
       "    .dataframe tbody tr th {\n",
       "        vertical-align: top;\n",
       "    }\n",
       "\n",
       "    .dataframe thead th {\n",
       "        text-align: right;\n",
       "    }\n",
       "</style>\n",
       "<table border=\"1\" class=\"dataframe\">\n",
       "  <thead>\n",
       "    <tr style=\"text-align: right;\">\n",
       "      <th></th>\n",
       "      <th>10104</th>\n",
       "      <th>10107</th>\n",
       "      <th>10145</th>\n",
       "      <th>10696</th>\n",
       "      <th>11308</th>\n",
       "      <th>11850</th>\n",
       "      <th>12060</th>\n",
       "      <th>12308</th>\n",
       "      <th>12490</th>\n",
       "      <th>13407</th>\n",
       "      <th>...</th>\n",
       "      <th>89626</th>\n",
       "      <th>90215</th>\n",
       "      <th>90319</th>\n",
       "      <th>91233</th>\n",
       "      <th>91937</th>\n",
       "      <th>92602</th>\n",
       "      <th>92611</th>\n",
       "      <th>92655</th>\n",
       "      <th>93002</th>\n",
       "      <th>93436</th>\n",
       "    </tr>\n",
       "    <tr>\n",
       "      <th>date</th>\n",
       "      <th></th>\n",
       "      <th></th>\n",
       "      <th></th>\n",
       "      <th></th>\n",
       "      <th></th>\n",
       "      <th></th>\n",
       "      <th></th>\n",
       "      <th></th>\n",
       "      <th></th>\n",
       "      <th></th>\n",
       "      <th></th>\n",
       "      <th></th>\n",
       "      <th></th>\n",
       "      <th></th>\n",
       "      <th></th>\n",
       "      <th></th>\n",
       "      <th></th>\n",
       "      <th></th>\n",
       "      <th></th>\n",
       "      <th></th>\n",
       "      <th></th>\n",
       "    </tr>\n",
       "  </thead>\n",
       "  <tbody>\n",
       "    <tr>\n",
       "      <th>2019-01-02</th>\n",
       "      <td>NaN</td>\n",
       "      <td>0.001613</td>\n",
       "      <td>NaN</td>\n",
       "      <td>0.001345</td>\n",
       "      <td>0.002718</td>\n",
       "      <td>0.008497</td>\n",
       "      <td>0.024574</td>\n",
       "      <td>0.008694</td>\n",
       "      <td>0.007811</td>\n",
       "      <td>0.016117</td>\n",
       "      <td>...</td>\n",
       "      <td>0.003800</td>\n",
       "      <td>0.002058</td>\n",
       "      <td>0.005466</td>\n",
       "      <td>0.002896</td>\n",
       "      <td>0.010586</td>\n",
       "      <td>0.007104</td>\n",
       "      <td>0.005780</td>\n",
       "      <td>0.003393</td>\n",
       "      <td>0.003024</td>\n",
       "      <td>0.011830</td>\n",
       "    </tr>\n",
       "    <tr>\n",
       "      <th>2019-01-03</th>\n",
       "      <td>0.003096</td>\n",
       "      <td>0.004161</td>\n",
       "      <td>0.005488</td>\n",
       "      <td>0.004989</td>\n",
       "      <td>0.004047</td>\n",
       "      <td>0.005212</td>\n",
       "      <td>0.011572</td>\n",
       "      <td>0.007595</td>\n",
       "      <td>NaN</td>\n",
       "      <td>0.009777</td>\n",
       "      <td>...</td>\n",
       "      <td>0.008932</td>\n",
       "      <td>0.006438</td>\n",
       "      <td>0.008765</td>\n",
       "      <td>0.006419</td>\n",
       "      <td>0.007611</td>\n",
       "      <td>0.006859</td>\n",
       "      <td>0.004107</td>\n",
       "      <td>0.007077</td>\n",
       "      <td>0.016061</td>\n",
       "      <td>0.007758</td>\n",
       "    </tr>\n",
       "    <tr>\n",
       "      <th>2019-01-04</th>\n",
       "      <td>0.007019</td>\n",
       "      <td>0.004695</td>\n",
       "      <td>NaN</td>\n",
       "      <td>0.006579</td>\n",
       "      <td>0.004341</td>\n",
       "      <td>0.004058</td>\n",
       "      <td>0.002001</td>\n",
       "      <td>0.013805</td>\n",
       "      <td>0.001482</td>\n",
       "      <td>0.002370</td>\n",
       "      <td>...</td>\n",
       "      <td>0.005404</td>\n",
       "      <td>0.011146</td>\n",
       "      <td>0.007164</td>\n",
       "      <td>0.005150</td>\n",
       "      <td>0.006408</td>\n",
       "      <td>0.009174</td>\n",
       "      <td>0.005879</td>\n",
       "      <td>0.002368</td>\n",
       "      <td>NaN</td>\n",
       "      <td>0.009920</td>\n",
       "    </tr>\n",
       "    <tr>\n",
       "      <th>2019-01-07</th>\n",
       "      <td>0.007729</td>\n",
       "      <td>0.001491</td>\n",
       "      <td>0.002976</td>\n",
       "      <td>0.004082</td>\n",
       "      <td>0.004287</td>\n",
       "      <td>0.002796</td>\n",
       "      <td>0.013962</td>\n",
       "      <td>0.002778</td>\n",
       "      <td>0.000694</td>\n",
       "      <td>0.001064</td>\n",
       "      <td>...</td>\n",
       "      <td>0.003001</td>\n",
       "      <td>0.006435</td>\n",
       "      <td>NaN</td>\n",
       "      <td>NaN</td>\n",
       "      <td>0.005234</td>\n",
       "      <td>0.006926</td>\n",
       "      <td>0.003863</td>\n",
       "      <td>0.002589</td>\n",
       "      <td>0.008368</td>\n",
       "      <td>0.014002</td>\n",
       "    </tr>\n",
       "    <tr>\n",
       "      <th>2019-01-08</th>\n",
       "      <td>0.005219</td>\n",
       "      <td>0.003709</td>\n",
       "      <td>0.003371</td>\n",
       "      <td>0.005292</td>\n",
       "      <td>0.002534</td>\n",
       "      <td>NaN</td>\n",
       "      <td>0.014855</td>\n",
       "      <td>0.004175</td>\n",
       "      <td>NaN</td>\n",
       "      <td>0.005101</td>\n",
       "      <td>...</td>\n",
       "      <td>0.006704</td>\n",
       "      <td>0.004797</td>\n",
       "      <td>0.004249</td>\n",
       "      <td>0.003335</td>\n",
       "      <td>0.004358</td>\n",
       "      <td>0.001993</td>\n",
       "      <td>0.002309</td>\n",
       "      <td>0.004902</td>\n",
       "      <td>0.007986</td>\n",
       "      <td>0.012442</td>\n",
       "    </tr>\n",
       "    <tr>\n",
       "      <th>...</th>\n",
       "      <td>...</td>\n",
       "      <td>...</td>\n",
       "      <td>...</td>\n",
       "      <td>...</td>\n",
       "      <td>...</td>\n",
       "      <td>...</td>\n",
       "      <td>...</td>\n",
       "      <td>...</td>\n",
       "      <td>...</td>\n",
       "      <td>...</td>\n",
       "      <td>...</td>\n",
       "      <td>...</td>\n",
       "      <td>...</td>\n",
       "      <td>...</td>\n",
       "      <td>...</td>\n",
       "      <td>...</td>\n",
       "      <td>...</td>\n",
       "      <td>...</td>\n",
       "      <td>...</td>\n",
       "      <td>...</td>\n",
       "      <td>...</td>\n",
       "    </tr>\n",
       "    <tr>\n",
       "      <th>2019-12-24</th>\n",
       "      <td>0.002892</td>\n",
       "      <td>0.000741</td>\n",
       "      <td>0.001568</td>\n",
       "      <td>0.002182</td>\n",
       "      <td>0.001698</td>\n",
       "      <td>0.002140</td>\n",
       "      <td>0.002474</td>\n",
       "      <td>0.001406</td>\n",
       "      <td>0.001872</td>\n",
       "      <td>0.002177</td>\n",
       "      <td>...</td>\n",
       "      <td>0.002864</td>\n",
       "      <td>0.001405</td>\n",
       "      <td>0.001377</td>\n",
       "      <td>0.001354</td>\n",
       "      <td>0.001614</td>\n",
       "      <td>0.001757</td>\n",
       "      <td>0.001450</td>\n",
       "      <td>0.001976</td>\n",
       "      <td>0.001150</td>\n",
       "      <td>0.007929</td>\n",
       "    </tr>\n",
       "    <tr>\n",
       "      <th>2019-12-26</th>\n",
       "      <td>0.001473</td>\n",
       "      <td>0.001716</td>\n",
       "      <td>0.001333</td>\n",
       "      <td>0.002548</td>\n",
       "      <td>0.000984</td>\n",
       "      <td>0.001524</td>\n",
       "      <td>0.001786</td>\n",
       "      <td>0.003267</td>\n",
       "      <td>0.000539</td>\n",
       "      <td>0.002874</td>\n",
       "      <td>...</td>\n",
       "      <td>0.002571</td>\n",
       "      <td>0.001486</td>\n",
       "      <td>0.003130</td>\n",
       "      <td>0.000204</td>\n",
       "      <td>0.000109</td>\n",
       "      <td>0.002954</td>\n",
       "      <td>0.001717</td>\n",
       "      <td>0.001314</td>\n",
       "      <td>0.003714</td>\n",
       "      <td>0.004095</td>\n",
       "    </tr>\n",
       "    <tr>\n",
       "      <th>2019-12-27</th>\n",
       "      <td>0.001821</td>\n",
       "      <td>0.001503</td>\n",
       "      <td>0.000513</td>\n",
       "      <td>0.004131</td>\n",
       "      <td>0.002029</td>\n",
       "      <td>0.001124</td>\n",
       "      <td>0.000686</td>\n",
       "      <td>0.002899</td>\n",
       "      <td>0.001056</td>\n",
       "      <td>0.002501</td>\n",
       "      <td>...</td>\n",
       "      <td>0.003473</td>\n",
       "      <td>0.001917</td>\n",
       "      <td>0.002204</td>\n",
       "      <td>0.002453</td>\n",
       "      <td>0.001383</td>\n",
       "      <td>0.001801</td>\n",
       "      <td>0.001460</td>\n",
       "      <td>0.001016</td>\n",
       "      <td>0.002892</td>\n",
       "      <td>0.005333</td>\n",
       "    </tr>\n",
       "    <tr>\n",
       "      <th>2019-12-30</th>\n",
       "      <td>0.003671</td>\n",
       "      <td>0.002683</td>\n",
       "      <td>NaN</td>\n",
       "      <td>0.002802</td>\n",
       "      <td>0.001225</td>\n",
       "      <td>0.003340</td>\n",
       "      <td>0.000882</td>\n",
       "      <td>0.003217</td>\n",
       "      <td>0.004976</td>\n",
       "      <td>0.004346</td>\n",
       "      <td>...</td>\n",
       "      <td>0.006128</td>\n",
       "      <td>0.005376</td>\n",
       "      <td>0.002625</td>\n",
       "      <td>0.004297</td>\n",
       "      <td>0.002686</td>\n",
       "      <td>0.003217</td>\n",
       "      <td>0.002437</td>\n",
       "      <td>0.002293</td>\n",
       "      <td>0.002326</td>\n",
       "      <td>0.011983</td>\n",
       "    </tr>\n",
       "    <tr>\n",
       "      <th>2019-12-31</th>\n",
       "      <td>0.001425</td>\n",
       "      <td>0.000703</td>\n",
       "      <td>0.001680</td>\n",
       "      <td>0.001849</td>\n",
       "      <td>0.001749</td>\n",
       "      <td>0.002557</td>\n",
       "      <td>0.004131</td>\n",
       "      <td>0.002498</td>\n",
       "      <td>0.002883</td>\n",
       "      <td>0.001461</td>\n",
       "      <td>...</td>\n",
       "      <td>0.003181</td>\n",
       "      <td>0.001148</td>\n",
       "      <td>NaN</td>\n",
       "      <td>0.001854</td>\n",
       "      <td>0.001855</td>\n",
       "      <td>0.003229</td>\n",
       "      <td>0.001123</td>\n",
       "      <td>0.002352</td>\n",
       "      <td>0.001812</td>\n",
       "      <td>0.011988</td>\n",
       "    </tr>\n",
       "  </tbody>\n",
       "</table>\n",
       "<p>252 rows × 100 columns</p>\n",
       "</div>"
      ],
      "text/plain": [
       "               10104     10107     10145     10696     11308     11850  \\\n",
       "date                                                                     \n",
       "2019-01-02       NaN  0.001613       NaN  0.001345  0.002718  0.008497   \n",
       "2019-01-03  0.003096  0.004161  0.005488  0.004989  0.004047  0.005212   \n",
       "2019-01-04  0.007019  0.004695       NaN  0.006579  0.004341  0.004058   \n",
       "2019-01-07  0.007729  0.001491  0.002976  0.004082  0.004287  0.002796   \n",
       "2019-01-08  0.005219  0.003709  0.003371  0.005292  0.002534       NaN   \n",
       "...              ...       ...       ...       ...       ...       ...   \n",
       "2019-12-24  0.002892  0.000741  0.001568  0.002182  0.001698  0.002140   \n",
       "2019-12-26  0.001473  0.001716  0.001333  0.002548  0.000984  0.001524   \n",
       "2019-12-27  0.001821  0.001503  0.000513  0.004131  0.002029  0.001124   \n",
       "2019-12-30  0.003671  0.002683       NaN  0.002802  0.001225  0.003340   \n",
       "2019-12-31  0.001425  0.000703  0.001680  0.001849  0.001749  0.002557   \n",
       "\n",
       "               12060     12308     12490     13407  ...     89626     90215  \\\n",
       "date                                                ...                       \n",
       "2019-01-02  0.024574  0.008694  0.007811  0.016117  ...  0.003800  0.002058   \n",
       "2019-01-03  0.011572  0.007595       NaN  0.009777  ...  0.008932  0.006438   \n",
       "2019-01-04  0.002001  0.013805  0.001482  0.002370  ...  0.005404  0.011146   \n",
       "2019-01-07  0.013962  0.002778  0.000694  0.001064  ...  0.003001  0.006435   \n",
       "2019-01-08  0.014855  0.004175       NaN  0.005101  ...  0.006704  0.004797   \n",
       "...              ...       ...       ...       ...  ...       ...       ...   \n",
       "2019-12-24  0.002474  0.001406  0.001872  0.002177  ...  0.002864  0.001405   \n",
       "2019-12-26  0.001786  0.003267  0.000539  0.002874  ...  0.002571  0.001486   \n",
       "2019-12-27  0.000686  0.002899  0.001056  0.002501  ...  0.003473  0.001917   \n",
       "2019-12-30  0.000882  0.003217  0.004976  0.004346  ...  0.006128  0.005376   \n",
       "2019-12-31  0.004131  0.002498  0.002883  0.001461  ...  0.003181  0.001148   \n",
       "\n",
       "               90319     91233     91937     92602     92611     92655  \\\n",
       "date                                                                     \n",
       "2019-01-02  0.005466  0.002896  0.010586  0.007104  0.005780  0.003393   \n",
       "2019-01-03  0.008765  0.006419  0.007611  0.006859  0.004107  0.007077   \n",
       "2019-01-04  0.007164  0.005150  0.006408  0.009174  0.005879  0.002368   \n",
       "2019-01-07       NaN       NaN  0.005234  0.006926  0.003863  0.002589   \n",
       "2019-01-08  0.004249  0.003335  0.004358  0.001993  0.002309  0.004902   \n",
       "...              ...       ...       ...       ...       ...       ...   \n",
       "2019-12-24  0.001377  0.001354  0.001614  0.001757  0.001450  0.001976   \n",
       "2019-12-26  0.003130  0.000204  0.000109  0.002954  0.001717  0.001314   \n",
       "2019-12-27  0.002204  0.002453  0.001383  0.001801  0.001460  0.001016   \n",
       "2019-12-30  0.002625  0.004297  0.002686  0.003217  0.002437  0.002293   \n",
       "2019-12-31       NaN  0.001854  0.001855  0.003229  0.001123  0.002352   \n",
       "\n",
       "               93002     93436  \n",
       "date                            \n",
       "2019-01-02  0.003024  0.011830  \n",
       "2019-01-03  0.016061  0.007758  \n",
       "2019-01-04       NaN  0.009920  \n",
       "2019-01-07  0.008368  0.014002  \n",
       "2019-01-08  0.007986  0.012442  \n",
       "...              ...       ...  \n",
       "2019-12-24  0.001150  0.007929  \n",
       "2019-12-26  0.003714  0.004095  \n",
       "2019-12-27  0.002892  0.005333  \n",
       "2019-12-30  0.002326  0.011983  \n",
       "2019-12-31  0.001812  0.011988  \n",
       "\n",
       "[252 rows x 100 columns]"
      ]
     },
     "execution_count": 39,
     "metadata": {},
     "output_type": "execute_result"
    }
   ],
   "source": [
    "returns, factors = df_returns, df_spy_ret\n",
    "estimates = src.preprocess.estimate_factor_model(returns.subtract(rf.values), factors.subtract(rf.values))\n",
    "\n",
    "volas, betas, factor_vola = df_volas, estimates['beta'], df_spy_vola\n",
    "src.preprocess.decompose_vola(volas, betas, factor_vola)"
   ]
  },
  {
   "cell_type": "markdown",
   "metadata": {},
   "source": [
    "### Compare zero innovation frequency for CAPM regression vs. Variance regression"
   ]
  },
  {
   "cell_type": "code",
   "execution_count": 8,
   "metadata": {},
   "outputs": [],
   "source": [
    "def idiosyncratic_vola(year, steps=2):\n",
    "    ''''''\n",
    "    # setup\n",
    "    index = src.loader.load_year(year, data='returns').columns\n",
    "    df_estimates = pd.DataFrame(index=index)\n",
    "    \n",
    "    for step in range(steps):\n",
    "        # load\n",
    "        df_returns = src.loader.load_year(year, data='returns', data_year=year+step)\n",
    "        df_volas = src.loader.load_year(year, data='volas', data_year=year+step)\n",
    "        df_spy_ret = src.loader.load_spy_returns(year+step)\n",
    "        df_spy_vola = src.loader.load_spy_vola(year+step)\n",
    "\n",
    "        # estimate\n",
    "        estimates = estimate_factor_model(df_returns, df_spy_ret)\n",
    "        vola_estimates = estimate_factor_model(df_volas**2, df_spy_vola**2)\n",
    "    \n",
    "        # decompose\n",
    "        idio_vola = decompose_vola(df_volas, estimates['beta'], df_spy_vola)\n",
    "        idio_vola_direct = decompose_vola(df_volas, estimates['beta']**0.5, df_spy_vola)\n",
    "    \n",
    "    return idio_vola, idio_vola_direct"
   ]
  },
  {
   "cell_type": "code",
   "execution_count": 19,
   "metadata": {},
   "outputs": [],
   "source": [
    "zero_count = pd.DataFrame(index=np.arange(1994, 2020), columns=['CAPM regression', 'Variance regression'])\n",
    "for year in range(1994, 2020):\n",
    "    CAPM, VOLA = idiosyncratic_vola(year, 1)\n",
    "    zeros_CAPM = (CAPM==0).values.sum()\n",
    "    zeros_VOLA = (VOLA==0).values.sum()\n",
    "    zero_count.loc[year, 'CAPM regression'] = zeros_CAPM\n",
    "    zero_count.loc[year, 'Variance regression'] = zeros_VOLA"
   ]
  },
  {
   "cell_type": "code",
   "execution_count": 18,
   "metadata": {},
   "outputs": [
    {
     "data": {
      "text/plain": [
       "<matplotlib.axes._subplots.AxesSubplot at 0x7fdbd2fe0be0>"
      ]
     },
     "execution_count": 18,
     "metadata": {},
     "output_type": "execute_result"
    },
    {
     "data": {
      "image/png": "[encoded data removed]",
      "text/plain": [
       "<Figure size 1224x576 with 1 Axes>"
      ]
     },
     "metadata": {},
     "output_type": "display_data"
    }
   ],
   "source": [
    "(zero_count/(250*100)).plot()"
   ]
  },
  {
   "cell_type": "code",
   "execution_count": 155,
   "metadata": {},
   "outputs": [
    {
     "data": {
      "text/html": [
       "<div>\n",
       "<style scoped>\n",
       "    .dataframe tbody tr th:only-of-type {\n",
       "        vertical-align: middle;\n",
       "    }\n",
       "\n",
       "    .dataframe tbody tr th {\n",
       "        vertical-align: top;\n",
       "    }\n",
       "\n",
       "    .dataframe thead th {\n",
       "        text-align: right;\n",
       "    }\n",
       "</style>\n",
       "<table border=\"1\" class=\"dataframe\">\n",
       "  <thead>\n",
       "    <tr style=\"text-align: right;\">\n",
       "      <th></th>\n",
       "      <th>αvola</th>\n",
       "      <th>βvola</th>\n",
       "      <th>α</th>\n",
       "      <th>β</th>\n",
       "    </tr>\n",
       "  </thead>\n",
       "  <tbody>\n",
       "    <tr>\n",
       "      <th>αvola</th>\n",
       "      <td>1.000000</td>\n",
       "      <td>0.029866</td>\n",
       "      <td>0.017806</td>\n",
       "      <td>0.316932</td>\n",
       "    </tr>\n",
       "    <tr>\n",
       "      <th>βvola</th>\n",
       "      <td>0.029866</td>\n",
       "      <td>1.000000</td>\n",
       "      <td>0.248434</td>\n",
       "      <td>0.883714</td>\n",
       "    </tr>\n",
       "    <tr>\n",
       "      <th>α</th>\n",
       "      <td>0.017806</td>\n",
       "      <td>0.248434</td>\n",
       "      <td>1.000000</td>\n",
       "      <td>0.228037</td>\n",
       "    </tr>\n",
       "    <tr>\n",
       "      <th>β</th>\n",
       "      <td>0.316932</td>\n",
       "      <td>0.883714</td>\n",
       "      <td>0.228037</td>\n",
       "      <td>1.000000</td>\n",
       "    </tr>\n",
       "  </tbody>\n",
       "</table>\n",
       "</div>"
      ],
      "text/plain": [
       "          αvola     βvola         α         β\n",
       "αvola  1.000000  0.029866  0.017806  0.316932\n",
       "βvola  0.029866  1.000000  0.248434  0.883714\n",
       "α      0.017806  0.248434  1.000000  0.228037\n",
       "β      0.316932  0.883714  0.228037  1.000000"
      ]
     },
     "execution_count": 155,
     "metadata": {},
     "output_type": "execute_result"
    }
   ],
   "source": [
    "estimate_factor_model(df_volas, df_spy_vola).join(estimate_factor_model(df_returns, df_spy_ret), lsuffix='vola').corr()"
   ]
  },
  {
   "cell_type": "code",
   "execution_count": null,
   "metadata": {},
   "outputs": [],
   "source": []
  },
  {
   "cell_type": "code",
   "execution_count": null,
   "metadata": {},
   "outputs": [],
   "source": []
  },
  {
   "cell_type": "code",
   "execution_count": null,
   "metadata": {},
   "outputs": [],
   "source": []
  },
  {
   "cell_type": "code",
   "execution_count": null,
   "metadata": {},
   "outputs": [],
   "source": []
  },
  {
   "cell_type": "code",
   "execution_count": null,
   "metadata": {},
   "outputs": [],
   "source": []
  },
  {
   "cell_type": "code",
   "execution_count": null,
   "metadata": {},
   "outputs": [],
   "source": []
  },
  {
   "cell_type": "code",
   "execution_count": null,
   "metadata": {},
   "outputs": [],
   "source": []
  },
  {
   "cell_type": "markdown",
   "metadata": {},
   "source": [
    "## OLD: Process all years"
   ]
  },
  {
   "cell_type": "code",
   "execution_count": 4,
   "metadata": {},
   "outputs": [
    {
     "name": "stdout",
     "output_type": "stream",
     "text": [
      "processed sampling year 1994\n",
      "processed sampling year 1995\n",
      "processed sampling year 1996\n",
      "processed sampling year 1997\n",
      "processed sampling year 1998\n",
      "processed sampling year 1999\n",
      "processed sampling year 2000\n",
      "processed sampling year 2001\n",
      "processed sampling year 2002\n",
      "processed sampling year 2003\n",
      "processed sampling year 2004\n",
      "processed sampling year 2005\n",
      "processed sampling year 2006\n",
      "processed sampling year 2007\n",
      "processed sampling year 2008\n",
      "processed sampling year 2009\n",
      "processed sampling year 2010\n",
      "processed sampling year 2011\n",
      "processed sampling year 2012\n",
      "processed sampling year 2013\n",
      "processed sampling year 2014\n",
      "processed sampling year 2015\n",
      "processed sampling year 2016\n",
      "processed sampling year 2017\n",
      "processed sampling year 2018\n",
      "processed sampling year 2019\n",
      "CPU times: user 1min 4s, sys: 36.5 s, total: 1min 41s\n",
      "Wall time: 1min 4s\n"
     ]
    }
   ],
   "source": [
    "%%time\n",
    "df_factor_model = pd.DataFrame()\n",
    "for year in range(1994, 2020):\n",
    "    # estimate\n",
    "    if year == 2019:\n",
    "        df_estimates = src.factor.idiosyncratic_vola(year, steps=1)\n",
    "    else:\n",
    "        df_estimates = src.factor.idiosyncratic_vola(year, steps=2)\n",
    "    df_estimates.index = pd.MultiIndex.from_product([[year], df_estimates.index], names=['sampling_year', 'permno'])\n",
    "    \n",
    "    # collect\n",
    "    df_factor_model = df_factor_model.append(df_estimates)\n",
    "    \n",
    "    # progress\n",
    "    print('processed sampling year {}'.format(year))\n",
    "    \n",
    "df_factor_model.to_csv('../data/estimated/factor_models.csv')"
   ]
  },
  {
   "cell_type": "markdown",
   "metadata": {},
   "source": [
    "## Statistical Factor Analysis"
   ]
  },
  {
   "cell_type": "code",
   "execution_count": null,
   "metadata": {},
   "outputs": [],
   "source": [
    "from sklearn.decomposition import FactorAnalysis"
   ]
  },
  {
   "cell_type": "code",
   "execution_count": 40,
   "metadata": {},
   "outputs": [],
   "source": [
    "def build_factor_model_residuals(year):\n",
    "    # load\n",
    "    df_returns = src.loader.load_year(year, data='returns', data_year=year).fillna(0)\n",
    "    df_vola = src.loader.load_year(year, data='volas', data_year=year)\n",
    "    df_idio = src.loader.load_year(year, data='idio_vola', data_year=year)\n",
    "    rf = src.loader.load_rf(year)\n",
    "    ff = src.loader.load_factors(year)\n",
    "\n",
    "    # estimate factor models\n",
    "    mm_estimates = src.factor.estimate_factor_model(df_returns.subtract(rf.values), ff[['mktrf']])\n",
    "    ff3_estimates = src.factor.estimate_factor_model(df_returns.subtract(rf.values), ff[['mktrf', 'smb', 'hml']])\n",
    "    c4_estimates = src.factor.estimate_factor_model(df_returns.subtract(rf.values), ff[['mktrf', 'smb', 'hml', 'umd']])\n",
    "\n",
    "    fam = FactorAnalysis(n_components=5).fit(df_returns.T)\n",
    "    facs = pd.DataFrame(fam.components_).T\n",
    "    fam_estimates = src.factor.estimate_factor_model(df_returns.subtract(rf.values), facs)\n",
    "\n",
    "    # construct residuals\n",
    "    mm_residuals = df_returns - pd.DataFrame(index=ff.index, data={'alpha': 1}).join(ff[['mktrf']]) @ mm_estimates.T\n",
    "    ff3_residuals = df_returns - pd.DataFrame(index=ff.index, data={'alpha': 1}).join(ff[['mktrf', 'smb', 'hml']]) @ ff3_estimates.T\n",
    "    c4_residuals = df_returns - pd.DataFrame(index=ff.index, data={'alpha': 1}).join(ff[['mktrf', 'smb', 'hml', 'umd']]) @ c4_estimates.T\n",
    "    fam_residuals = df_returns - pd.DataFrame(index=ff.index, data={'alpha': 1}).join(pd.DataFrame(index=ff.index, data=facs.values)) @ fam_estimates.T\n",
    "\n",
    "    # save matrices\n",
    "    mm_residuals.to_csv('../data/processed/annual/{}/mm_residuals_{}.csv'.format(year, year))\n",
    "    ff3_residuals.to_csv('../data/processed/annual/{}/ff3_residuals_{}.csv'.format(year, year))\n",
    "    c4_residuals.to_csv('../data/processed/annual/{}/c4_residuals_{}.csv'.format(year, year))\n",
    "    fam_residuals.to_csv('../data/processed/annual/{}/fam_residuals_{}.csv'.format(year, year))"
   ]
  },
  {
   "cell_type": "code",
   "execution_count": 42,
   "metadata": {},
   "outputs": [],
   "source": [
    "for year in range(1994, 2020):\n",
    "    build_factor_model_residuals(year)\n",
    "    print('Done building year {}'.format(year))"
   ]
  },
  {
   "cell_type": "code",
   "execution_count": 16,
   "metadata": {},
   "outputs": [],
   "source": [
    "\n",
    "_ = FactorAnalysis(n_components=5).fit(df_returns.T)\n",
    "facs = pd.DataFrame(_.components_).T"
   ]
  },
  {
   "cell_type": "code",
   "execution_count": 17,
   "metadata": {},
   "outputs": [],
   "source": [
    "year = 2000\n",
    "df_returns = src.loader.load_year(year, data='returns', data_year=year)\n",
    "df_vola = src.loader.load_year(year, data='volas', data_year=year)\n",
    "df_idio = src.loader.load_year(year, data='idio_vola', data_year=year)\n",
    "rf = src.loader.load_rf(year)\n",
    "ff = src.loader.load_factors(year)\n",
    "estimates = src.factor.estimate_factor_model(df_returns.subtract(rf.values), facs)"
   ]
  }
 ],
 "metadata": {
  "kernelspec": {
   "display_name": "Python 3",
   "language": "python",
   "name": "python3"
  },
  "language_info": {
   "codemirror_mode": {
    "name": "ipython",
    "version": 3
   },
   "file_extension": ".py",
   "mimetype": "text/x-python",
   "name": "python",
   "nbconvert_exporter": "python",
   "pygments_lexer": "ipython3",
   "version": "3.6.9"
  }
 },
 "nbformat": 4,
 "nbformat_minor": 4
}
