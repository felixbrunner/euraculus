{
 "cells": [
  {
   "cell_type": "markdown",
   "metadata": {},
   "source": [
    "# Description\n",
    "\n",
    "This notebook downloads the daily stock file data from CRSP to output tables containing the following variables:\n",
    "- date\n",
    "- permno as unique identifier\n",
    "- mcap as shares outstanding times price\n",
    "- return\n",
    "- intraday extreme value volatility estimate $\\bar{\\sigma}^{}_{i,t} = \\sqrt{0.3607}(p_{i,t}^{high}-p_{i,t}^{low})^{}$ based on Parkinson (1980), where $p_{i,t}$ is the logarithm of a price\n"
   ]
  },
  {
   "cell_type": "markdown",
   "metadata": {},
   "source": [
    "## TODO\n",
    "- Same permco can have multiple permno\n",
    "- Complete data resriction is too tight"
   ]
  },
  {
   "cell_type": "markdown",
   "metadata": {},
   "source": [
    "## Imports"
   ]
  },
  {
   "cell_type": "code",
   "execution_count": 1,
   "metadata": {},
   "outputs": [],
   "source": [
    "import wrds\n",
    "import pandas as pd\n",
    "import numpy as np\n",
    "import datetime as dt\n",
    "import sys"
   ]
  },
  {
   "cell_type": "markdown",
   "metadata": {},
   "source": [
    "## Set up WRDS Connection"
   ]
  },
  {
   "cell_type": "code",
   "execution_count": 47,
   "metadata": {},
   "outputs": [
    {
     "name": "stdout",
     "output_type": "stream",
     "text": [
      "Loading library list...\n",
      "Done\n"
     ]
    }
   ],
   "source": [
    "wrds_conn = wrds.Connection(wrds_username='felixbru')\n",
    "#wrds_connection.create_pgpass_file()\n",
    "#wrds_connection.close()"
   ]
  },
  {
   "cell_type": "markdown",
   "metadata": {},
   "source": [
    "## Explore database"
   ]
  },
  {
   "cell_type": "code",
   "execution_count": 3,
   "metadata": {},
   "outputs": [],
   "source": [
    "libraries = wrds_conn.list_libraries()\n",
    "library = 'crsp'"
   ]
  },
  {
   "cell_type": "code",
   "execution_count": 4,
   "metadata": {},
   "outputs": [],
   "source": [
    "library_tables = wrds_conn.list_tables(library=library)\n",
    "table = 'dsf'"
   ]
  },
  {
   "cell_type": "code",
   "execution_count": 5,
   "metadata": {},
   "outputs": [
    {
     "name": "stdout",
     "output_type": "stream",
     "text": [
      "Approximately 96285900 rows in crsp.dsf.\n"
     ]
    }
   ],
   "source": [
    "table_description = wrds_conn.describe_table(library=library, table=table)#.sort_values('name')"
   ]
  },
  {
   "cell_type": "markdown",
   "metadata": {},
   "source": [
    "## Download CRSP data"
   ]
  },
  {
   "cell_type": "markdown",
   "metadata": {},
   "source": [
    "### SQL Query"
   ]
  },
  {
   "cell_type": "markdown",
   "metadata": {},
   "source": [
    "EXCHCD:\n",
    "- 1: NYSE\n",
    "- 2: NYSE MKT\n",
    "- 3: NASDAQ\n",
    "\n",
    "SHRCD:\n",
    "- 10: Ordinary common share, no special status found\n",
    "- 11: Ordinary common share, no special status necessary"
   ]
  },
  {
   "cell_type": "code",
   "execution_count": 6,
   "metadata": {},
   "outputs": [],
   "source": [
    "sql_crsp = '''\n",
    "    SELECT \n",
    "    a.permno,\n",
    "    a.date,\n",
    "    a.ret,\n",
    "    a.shrout * a.prc as mcap,\n",
    "    SQRT(0.3607) * POWER(LOG(NULLIF(a.askhi, 0)) - LOG(NULLIF(a.bidlo, 0)), 1) as vola\n",
    "    \n",
    "    FROM crsp.dsf as a\n",
    "    \n",
    "    LEFT JOIN crsp.msenames as b\n",
    "    ON a.permno=b.permno\n",
    "    AND b.namedt<=a.date\n",
    "    AND a.date<=b.nameendt\n",
    "    \n",
    "    WHERE a.date BETWEEN '11/01/1999' AND '12/31/2019'\n",
    "    AND b.exchcd BETWEEN 1 AND 3\n",
    "    AND b.shrcd BETWEEN 10 AND 11\n",
    "    '''"
   ]
  },
  {
   "cell_type": "code",
   "execution_count": 7,
   "metadata": {},
   "outputs": [
    {
     "name": "stdout",
     "output_type": "stream",
     "text": [
      "downloaded 2020-04-23 10:52:29.525067 in 1378 seconds\n"
     ]
    }
   ],
   "source": [
    "t0 = dt.datetime.today()\n",
    "df_crsp_raw = wrds_conn.raw_sql(sql_crsp)\n",
    "t1 = dt.datetime.today()\n",
    "print('downloaded', str(dt.datetime.today()), 'in', (t1-t0).seconds, 'seconds')"
   ]
  },
  {
   "cell_type": "code",
   "execution_count": 9,
   "metadata": {},
   "outputs": [],
   "source": [
    "df_crsp_raw.to_pickle(path='../data/external/df_crsp_raw.pkl')"
   ]
  },
  {
   "cell_type": "code",
   "execution_count": null,
   "metadata": {},
   "outputs": [],
   "source": [
    "#df_crsp_raw = pd.read_pickle('../data/external/df_crsp_raw.pkl')"
   ]
  },
  {
   "cell_type": "markdown",
   "metadata": {},
   "source": [
    "### Analytics"
   ]
  },
  {
   "cell_type": "code",
   "execution_count": 10,
   "metadata": {},
   "outputs": [
    {
     "data": {
      "text/plain": [
       "11395"
      ]
     },
     "execution_count": 10,
     "metadata": {},
     "output_type": "execute_result"
    }
   ],
   "source": [
    "len(df_crsp_raw.permno.unique()) #6153 #3844 #1324"
   ]
  },
  {
   "cell_type": "code",
   "execution_count": 11,
   "metadata": {},
   "outputs": [],
   "source": [
    "#len(df_crsp_raw.permco.unique()) #6153 #3844 #1324"
   ]
  },
  {
   "cell_type": "code",
   "execution_count": 12,
   "metadata": {},
   "outputs": [],
   "source": [
    "#df_crsp_raw.head(5)"
   ]
  },
  {
   "cell_type": "code",
   "execution_count": 13,
   "metadata": {},
   "outputs": [],
   "source": [
    "#df_crsp_raw.describe()"
   ]
  },
  {
   "cell_type": "code",
   "execution_count": 14,
   "metadata": {},
   "outputs": [
    {
     "name": "stdout",
     "output_type": "stream",
     "text": [
      "1614.336272 MByte\n"
     ]
    }
   ],
   "source": [
    "print(sys.getsizeof(df_crsp_raw)/1e+6, 'MByte')"
   ]
  },
  {
   "cell_type": "markdown",
   "metadata": {},
   "source": [
    "### Transform to tidy data format"
   ]
  },
  {
   "cell_type": "code",
   "execution_count": 15,
   "metadata": {},
   "outputs": [],
   "source": [
    "df_crsp_tidy = df_crsp_raw.reset_index()\n",
    "del df_crsp_raw"
   ]
  },
  {
   "cell_type": "code",
   "execution_count": 16,
   "metadata": {},
   "outputs": [],
   "source": [
    "# edit data formats\n",
    "df_crsp_tidy['date'] = pd.to_datetime(df_crsp_tidy['date'], yearfirst=True)\n",
    "df_crsp_tidy[['permno']] = df_crsp_tidy[['permno']].astype(int)"
   ]
  },
  {
   "cell_type": "code",
   "execution_count": 17,
   "metadata": {},
   "outputs": [],
   "source": [
    "# declare index & sort\n",
    "df_crsp_tidy.set_index(['date','permno'], inplace=True)\n",
    "df_crsp_tidy = df_crsp_tidy.drop(columns='index')\n",
    "df_crsp_tidy = df_crsp_tidy.sort_index()"
   ]
  },
  {
   "cell_type": "code",
   "execution_count": 18,
   "metadata": {},
   "outputs": [],
   "source": [
    "# rank last market cap of each year and merge to frame\n",
    "s_rankcap = df_crsp_tidy['mcap']\\\n",
    "                .to_frame()\\\n",
    "                .groupby([pd.Grouper(freq='Y', level='date'), pd.Grouper(level='permno')]).last()\\\n",
    "                .groupby('date').rank(ascending=False)\\\n",
    "                .fillna(0)\\\n",
    "                .astype(int)\n",
    "s_rankcap.columns = ['size_rank']\n",
    "df_crsp_tidy = df_crsp_tidy\\\n",
    "                        .merge(s_rankcap, how='left', left_index=True, right_on=['date', 'permno'])\\\n",
    "                        .drop(columns='mcap')\n",
    "# forward fill values\n",
    "df_crsp_tidy['size_rank'] = df_crsp_tidy['size_rank']\\\n",
    "                                .groupby('permno').shift(1)\\\n",
    "                                .groupby('permno').ffill()#\\\n",
    "                                #.fillna(0)\\\n",
    "                                #.astype(int)\n",
    "# drop initial month\n",
    "drop_year = df_crsp_tidy.index.get_level_values('date').year.min()\n",
    "df_crsp_tidy = df_crsp_tidy[df_crsp_tidy.index.get_level_values('date').year > drop_year]"
   ]
  },
  {
   "cell_type": "code",
   "execution_count": 19,
   "metadata": {},
   "outputs": [],
   "source": [
    "df_crsp_tidy.to_pickle(path='../data/interim/df_crsp_tidy.pkl')"
   ]
  },
  {
   "cell_type": "code",
   "execution_count": 6,
   "metadata": {},
   "outputs": [],
   "source": [
    "#df_crsp_tidy = pd.read_pickle('../data/interim/df_crsp_tidy.pkl')"
   ]
  },
  {
   "cell_type": "markdown",
   "metadata": {},
   "source": [
    "## Download CRSP names & select assets"
   ]
  },
  {
   "cell_type": "markdown",
   "metadata": {},
   "source": [
    "### SQL Query"
   ]
  },
  {
   "cell_type": "code",
   "execution_count": 20,
   "metadata": {},
   "outputs": [],
   "source": [
    "sql_names = '''\n",
    "    SELECT\n",
    "    permno,\n",
    "    comnam, \n",
    "    ticker,\n",
    "    st_date,\n",
    "    end_date,\n",
    "    exchcd\n",
    "    \n",
    "    FROM crsp_a_stock.stocknames\n",
    "    '''"
   ]
  },
  {
   "cell_type": "code",
   "execution_count": 21,
   "metadata": {},
   "outputs": [
    {
     "name": "stdout",
     "output_type": "stream",
     "text": [
      "downloaded 2020-04-23 11:31:25.415802 in 3 seconds\n"
     ]
    }
   ],
   "source": [
    "t0 = dt.datetime.today()\n",
    "df_crsp_names = wrds_conn.raw_sql(sql_names)\n",
    "t1 = dt.datetime.today()\n",
    "print('downloaded', str(dt.datetime.today()), 'in', (t1-t0).seconds, 'seconds')"
   ]
  },
  {
   "cell_type": "code",
   "execution_count": 22,
   "metadata": {},
   "outputs": [
    {
     "name": "stdout",
     "output_type": "stream",
     "text": [
      "14.425234 MByte\n"
     ]
    }
   ],
   "source": [
    "print(sys.getsizeof(df_crsp_names)/1e+6, 'MByte')"
   ]
  },
  {
   "cell_type": "markdown",
   "metadata": {},
   "source": [
    "### Descriptive data"
   ]
  },
  {
   "cell_type": "code",
   "execution_count": 23,
   "metadata": {},
   "outputs": [],
   "source": [
    "df_crsp_names['permno'] = df_crsp_names['permno'].astype(int)\n",
    "df_descriptive = df_crsp_names\\\n",
    "                    .groupby('permno').last()\\\n",
    "                    .drop(columns=['st_date','end_date'])"
   ]
  },
  {
   "cell_type": "code",
   "execution_count": 24,
   "metadata": {},
   "outputs": [],
   "source": [
    "s_min_rank = df_crsp_tidy['size_rank']\\\n",
    "                    .groupby('permno').min()\n",
    "s_min_rank.name = 'min_rank'\n",
    "s_ret_missing = df_crsp_tidy['ret']\\\n",
    "                    .unstack()\\\n",
    "                    .isna()\\\n",
    "                    .any()\n",
    "s_ret_missing.name = 'ret_missing'\n",
    "s_vola_missing = df_crsp_tidy['vola']\\\n",
    "                    .unstack()\\\n",
    "                    .isna()\\\n",
    "                    .any()\n",
    "s_vola_missing.name = 'vola_missing'"
   ]
  },
  {
   "cell_type": "code",
   "execution_count": 25,
   "metadata": {},
   "outputs": [],
   "source": [
    "df_descriptive = df_descriptive\\\n",
    "                    .merge(s_min_rank, how='outer', left_index=True, right_index=True)\\\n",
    "                    .merge(s_ret_missing, how='outer', left_index=True, right_index=True)\\\n",
    "                    .merge(s_vola_missing, how='outer', left_index=True, right_index=True)"
   ]
  },
  {
   "cell_type": "markdown",
   "metadata": {},
   "source": [
    "### Filter"
   ]
  },
  {
   "cell_type": "code",
   "execution_count": 26,
   "metadata": {},
   "outputs": [
    {
     "data": {
      "text/html": [
       "<div>\n",
       "<style scoped>\n",
       "    .dataframe tbody tr th:only-of-type {\n",
       "        vertical-align: middle;\n",
       "    }\n",
       "\n",
       "    .dataframe tbody tr th {\n",
       "        vertical-align: top;\n",
       "    }\n",
       "\n",
       "    .dataframe thead th {\n",
       "        text-align: right;\n",
       "    }\n",
       "</style>\n",
       "<table border=\"1\" class=\"dataframe\">\n",
       "  <thead>\n",
       "    <tr style=\"text-align: right;\">\n",
       "      <th></th>\n",
       "      <th>comnam</th>\n",
       "      <th>ticker</th>\n",
       "      <th>exchcd</th>\n",
       "      <th>min_rank</th>\n",
       "      <th>ret_missing</th>\n",
       "      <th>vola_missing</th>\n",
       "    </tr>\n",
       "    <tr>\n",
       "      <th>permno</th>\n",
       "      <th></th>\n",
       "      <th></th>\n",
       "      <th></th>\n",
       "      <th></th>\n",
       "      <th></th>\n",
       "      <th></th>\n",
       "    </tr>\n",
       "  </thead>\n",
       "  <tbody>\n",
       "    <tr>\n",
       "      <th>10000</th>\n",
       "      <td>OPTIMUM MANUFACTURING INC</td>\n",
       "      <td>OMFGA</td>\n",
       "      <td>3.0</td>\n",
       "      <td>NaN</td>\n",
       "      <td>NaN</td>\n",
       "      <td>NaN</td>\n",
       "    </tr>\n",
       "    <tr>\n",
       "      <th>10001</th>\n",
       "      <td>GAS NATURAL INC</td>\n",
       "      <td>EGAS</td>\n",
       "      <td>2.0</td>\n",
       "      <td>3045.0</td>\n",
       "      <td>True</td>\n",
       "      <td>True</td>\n",
       "    </tr>\n",
       "    <tr>\n",
       "      <th>10002</th>\n",
       "      <td>BANCTRUST FINANCIAL GROUP INC</td>\n",
       "      <td>BTFG</td>\n",
       "      <td>3.0</td>\n",
       "      <td>2066.0</td>\n",
       "      <td>True</td>\n",
       "      <td>True</td>\n",
       "    </tr>\n",
       "    <tr>\n",
       "      <th>10003</th>\n",
       "      <td>GREAT COUNTRY BK ASONIA CT</td>\n",
       "      <td>GCBK</td>\n",
       "      <td>3.0</td>\n",
       "      <td>NaN</td>\n",
       "      <td>NaN</td>\n",
       "      <td>NaN</td>\n",
       "    </tr>\n",
       "    <tr>\n",
       "      <th>10005</th>\n",
       "      <td>WESTERN ENERGY RESOURCES INC</td>\n",
       "      <td>WERC</td>\n",
       "      <td>3.0</td>\n",
       "      <td>NaN</td>\n",
       "      <td>NaN</td>\n",
       "      <td>NaN</td>\n",
       "    </tr>\n",
       "  </tbody>\n",
       "</table>\n",
       "</div>"
      ],
      "text/plain": [
       "                               comnam ticker  exchcd  min_rank ret_missing  \\\n",
       "permno                                                                       \n",
       "10000       OPTIMUM MANUFACTURING INC  OMFGA     3.0       NaN         NaN   \n",
       "10001                 GAS NATURAL INC   EGAS     2.0    3045.0        True   \n",
       "10002   BANCTRUST FINANCIAL GROUP INC   BTFG     3.0    2066.0        True   \n",
       "10003      GREAT COUNTRY BK ASONIA CT   GCBK     3.0       NaN         NaN   \n",
       "10005    WESTERN ENERGY RESOURCES INC   WERC     3.0       NaN         NaN   \n",
       "\n",
       "       vola_missing  \n",
       "permno               \n",
       "10000           NaN  \n",
       "10001          True  \n",
       "10002          True  \n",
       "10003           NaN  \n",
       "10005           NaN  "
      ]
     },
     "execution_count": 26,
     "metadata": {},
     "output_type": "execute_result"
    }
   ],
   "source": [
    "df_descriptive.head()"
   ]
  },
  {
   "cell_type": "code",
   "execution_count": 219,
   "metadata": {},
   "outputs": [],
   "source": [
    "n_largest = 200\n",
    "large = df_descriptive['min_rank']<=n_largest\n",
    "\n",
    "complete_ret = df_descriptive['ret_missing']==False\n",
    "include_ret = large & complete_ret\n",
    "\n",
    "complete_vola = df_descriptive['vola_missing']==False\n",
    "include_vola = large & complete_vola\n",
    "\n",
    "include = include_ret & include_vola"
   ]
  },
  {
   "cell_type": "code",
   "execution_count": 106,
   "metadata": {},
   "outputs": [],
   "source": [
    "include_permnos_ret = list(df_descriptive.index[include])\n",
    "include_permnos_vola = list(df_descriptive.index[include])"
   ]
  },
  {
   "cell_type": "code",
   "execution_count": 107,
   "metadata": {},
   "outputs": [
    {
     "data": {
      "text/plain": [
       "(224, 224)"
      ]
     },
     "execution_count": 107,
     "metadata": {},
     "output_type": "execute_result"
    }
   ],
   "source": [
    "len(include_permnos_ret), len(include_permnos_vola)"
   ]
  },
  {
   "cell_type": "markdown",
   "metadata": {},
   "source": [
    "## Download FF data"
   ]
  },
  {
   "cell_type": "markdown",
   "metadata": {},
   "source": [
    "### SQL Query"
   ]
  },
  {
   "cell_type": "code",
   "execution_count": 116,
   "metadata": {},
   "outputs": [],
   "source": [
    "sql_ff = '''\n",
    "    SELECT\n",
    "    date, \n",
    "    mktrf,\n",
    "    smb,\n",
    "    hml,\n",
    "    rf,\n",
    "    umd\n",
    "    \n",
    "    FROM ff_all.factors_daily \n",
    "    \n",
    "    WHERE date BETWEEN '01/01/2000' AND '12/31/2019'\n",
    "    '''"
   ]
  },
  {
   "cell_type": "code",
   "execution_count": 117,
   "metadata": {},
   "outputs": [
    {
     "name": "stdout",
     "output_type": "stream",
     "text": [
      "downloaded 2020-04-23 20:14:07.702929 in 33 seconds\n"
     ]
    }
   ],
   "source": [
    "t0 = dt.datetime.today()\n",
    "df_ff_raw = wrds_conn.raw_sql(sql_ff)\n",
    "t1 = dt.datetime.today()\n",
    "print('downloaded', str(dt.datetime.today()), 'in', (t1-t0).seconds, 'seconds')"
   ]
  },
  {
   "cell_type": "code",
   "execution_count": 118,
   "metadata": {},
   "outputs": [
    {
     "name": "stdout",
     "output_type": "stream",
     "text": [
      "0.402632 MByte\n"
     ]
    }
   ],
   "source": [
    "print(sys.getsizeof(df_ff_raw)/1e+6, 'MByte')"
   ]
  },
  {
   "cell_type": "markdown",
   "metadata": {},
   "source": [
    "### Edit"
   ]
  },
  {
   "cell_type": "code",
   "execution_count": 119,
   "metadata": {},
   "outputs": [],
   "source": [
    "# edit data formats\n",
    "df_ff_raw['date'] = pd.to_datetime(df_ff_raw['date'], yearfirst=True)"
   ]
  },
  {
   "cell_type": "code",
   "execution_count": 120,
   "metadata": {},
   "outputs": [],
   "source": [
    "# declare index\n",
    "df_ff_raw.set_index('date', inplace=True)"
   ]
  },
  {
   "cell_type": "code",
   "execution_count": 121,
   "metadata": {},
   "outputs": [],
   "source": [
    "df_ff_raw.to_pickle(path='../data/external/df_ff_raw.pkl')"
   ]
  },
  {
   "cell_type": "markdown",
   "metadata": {},
   "source": [
    "## Output matrices"
   ]
  },
  {
   "cell_type": "code",
   "execution_count": 224,
   "metadata": {},
   "outputs": [],
   "source": [
    "df_descriptive.loc[include]\\\n",
    "    .drop(columns=['ret_missing', 'vola_missing'])\\\n",
    "    .to_csv('../data/processed/descriptive.csv')"
   ]
  },
  {
   "cell_type": "code",
   "execution_count": 109,
   "metadata": {},
   "outputs": [],
   "source": [
    "rows = [i in include_permnos_vola for i in df_crsp_tidy.index.get_level_values('permno')]\n",
    "vola_matrix = df_crsp_tidy['vola'][rows].unstack()"
   ]
  },
  {
   "cell_type": "code",
   "execution_count": 110,
   "metadata": {},
   "outputs": [],
   "source": [
    "vola_matrix.to_csv('../data/processed/vola_matrix.csv')"
   ]
  },
  {
   "cell_type": "code",
   "execution_count": 111,
   "metadata": {},
   "outputs": [],
   "source": [
    "s_rf = pd.DataFrame(index=vola_matrix.index)\\\n",
    "            .merge(df_ff_raw['rf'], how='left', left_index=True, right_index=True)\\\n",
    "            .squeeze()"
   ]
  },
  {
   "cell_type": "code",
   "execution_count": 112,
   "metadata": {},
   "outputs": [],
   "source": [
    "rows = [i in include_permnos_ret for i in df_crsp_tidy.index.get_level_values('permno')]\n",
    "return_matrix = df_crsp_tidy['ret'][rows]\\\n",
    "                    .unstack()\\\n",
    "                    .subtract(s_rf, axis=0)"
   ]
  },
  {
   "cell_type": "code",
   "execution_count": 113,
   "metadata": {},
   "outputs": [],
   "source": [
    "return_matrix.to_csv('../data/processed/return_matrix.csv')"
   ]
  },
  {
   "cell_type": "code",
   "execution_count": 226,
   "metadata": {},
   "outputs": [],
   "source": [
    "return_matrix.to_hdf('../data/processed/return_matrix.hdf', key='df')"
   ]
  },
  {
   "cell_type": "code",
   "execution_count": 228,
   "metadata": {},
   "outputs": [],
   "source": [
    "return_matrix[return_matrix.index.year==2019].to_hdf('../data/processed/return_matrix_2019.hdf', key='df')"
   ]
  },
  {
   "cell_type": "code",
   "execution_count": null,
   "metadata": {},
   "outputs": [],
   "source": []
  },
  {
   "cell_type": "code",
   "execution_count": 114,
   "metadata": {},
   "outputs": [],
   "source": [
    "return_matrix[return_matrix.index.year==2019].to_csv('../data/processed/return_matrix_2019.csv')"
   ]
  },
  {
   "cell_type": "code",
   "execution_count": 214,
   "metadata": {},
   "outputs": [],
   "source": [
    "vola_matrix[vola_matrix.index.year==2019].to_csv('../data/processed/vola_matrix_2019.csv')"
   ]
  },
  {
   "cell_type": "code",
   "execution_count": 217,
   "metadata": {},
   "outputs": [],
   "source": [
    "return_matrix[return_matrix.index.year >= 2018].to_csv('../data/processed/return_matrix_2018-19.csv')"
   ]
  },
  {
   "cell_type": "code",
   "execution_count": 218,
   "metadata": {},
   "outputs": [],
   "source": [
    "vola_matrix[vola_matrix.index.year >= 2018].to_csv('../data/processed/vola_matrix_2018-19.csv')"
   ]
  },
  {
   "cell_type": "code",
   "execution_count": null,
   "metadata": {},
   "outputs": [],
   "source": []
  },
  {
   "cell_type": "code",
   "execution_count": 260,
   "metadata": {},
   "outputs": [],
   "source": [
    "pd.Series([int(i) for i in return_matrix.index.year != pd.Series(return_matrix.index.year).shift(-1)]).to_csv('../data/processed/yearend_dates.csv')"
   ]
  },
  {
   "cell_type": "code",
   "execution_count": null,
   "metadata": {},
   "outputs": [],
   "source": []
  }
 ],
 "metadata": {
  "kernelspec": {
   "display_name": "Python 3",
   "language": "python",
   "name": "python3"
  },
  "language_info": {
   "codemirror_mode": {
    "name": "ipython",
    "version": 3
   },
   "file_extension": ".py",
   "mimetype": "text/x-python",
   "name": "python",
   "nbconvert_exporter": "python",
   "pygments_lexer": "ipython3",
   "version": "3.7.0"
  }
 },
 "nbformat": 4,
 "nbformat_minor": 2
}
