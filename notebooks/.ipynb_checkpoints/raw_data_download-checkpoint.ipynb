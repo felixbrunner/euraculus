{
 "cells": [
  {
   "cell_type": "markdown",
   "metadata": {},
   "source": [
    "# Description\n",
    "\n",
    "This notebook downloads the Daily stock file data from CRSP to output a table with the following variables:\n",
    "- date\n",
    "- return\n",
    "- permno as identifier\n",
    "- intraday extreme value volatility estimate $\\bar{\\sigma}^{}_{i,t} = \\sqrt{0.361}(p_{i,t}^{high}-p_{i,t}^{low})^{}$ based on Parkinson (1980)\n"
   ]
  },
  {
   "cell_type": "markdown",
   "metadata": {},
   "source": [
    "## TODO\n",
    "- drop all but largest mcap permno in permco"
   ]
  },
  {
   "cell_type": "markdown",
   "metadata": {},
   "source": [
    "## Imports"
   ]
  },
  {
   "cell_type": "code",
   "execution_count": 1,
   "metadata": {},
   "outputs": [],
   "source": [
    "import wrds\n",
    "import pandas as pd\n",
    "import numpy as np\n",
    "import datetime as dt\n",
    "import sys"
   ]
  },
  {
   "cell_type": "markdown",
   "metadata": {},
   "source": [
    "## Set up WRDS Connection"
   ]
  },
  {
   "cell_type": "code",
   "execution_count": 29,
   "metadata": {},
   "outputs": [
    {
     "name": "stdout",
     "output_type": "stream",
     "text": [
      "Loading library list...\n",
      "Done\n"
     ]
    }
   ],
   "source": [
    "wrds_conn = wrds.Connection(wrds_username='felixbru')\n",
    "#wrds_connection.create_pgpass_file()\n",
    "#wrds_connection.close()"
   ]
  },
  {
   "cell_type": "markdown",
   "metadata": {},
   "source": [
    "## Explore database"
   ]
  },
  {
   "cell_type": "code",
   "execution_count": 3,
   "metadata": {},
   "outputs": [],
   "source": [
    "libraries = wrds_conn.list_libraries()\n",
    "library = 'crsp'"
   ]
  },
  {
   "cell_type": "code",
   "execution_count": 4,
   "metadata": {},
   "outputs": [],
   "source": [
    "library_tables = wrds_conn.list_tables(library=library)\n",
    "table = 'dsf'"
   ]
  },
  {
   "cell_type": "code",
   "execution_count": 5,
   "metadata": {},
   "outputs": [
    {
     "name": "stdout",
     "output_type": "stream",
     "text": [
      "Approximately 96285900 rows in crsp.dsf.\n"
     ]
    }
   ],
   "source": [
    "table_description = wrds_conn.describe_table(library=library, table=table)#.sort_values('name')"
   ]
  },
  {
   "cell_type": "markdown",
   "metadata": {},
   "source": [
    "## Download CRSP data"
   ]
  },
  {
   "cell_type": "markdown",
   "metadata": {},
   "source": [
    "### SQL Query"
   ]
  },
  {
   "cell_type": "markdown",
   "metadata": {},
   "source": [
    "EXCHCD:\n",
    "- 1: NYSE\n",
    "- 2: NYSE MKT\n",
    "- 3: NASDAQ\n",
    "\n",
    "SHRCD:\n",
    "- 10: Ordinary common share, no special status found\n",
    "- 11: Ordinary common share, no special status necessary"
   ]
  },
  {
   "cell_type": "code",
   "execution_count": 42,
   "metadata": {},
   "outputs": [],
   "source": [
    "sql_crsp = '''\n",
    "    SELECT \n",
    "    a.permno,\n",
    "    a.permco,\n",
    "    a.date,\n",
    "    a.ret,\n",
    "    a.shrout * a.prc as mcap,\n",
    "    SQRT(0.361) * POWER(LOG(NULLIF(a.askhi, 0)) - LOG(NULLIF(a.bidlo, 0)), 1) as vola\n",
    "    \n",
    "    FROM crsp.dsf as a\n",
    "    \n",
    "    LEFT JOIN crsp.msenames as b\n",
    "    ON a.permno=b.permno\n",
    "    AND b.namedt<=a.date\n",
    "    AND a.date<=b.nameendt\n",
    "    \n",
    "    WHERE a.date BETWEEN '01/01/2019' AND '12/31/2019'\n",
    "    AND b.exchcd BETWEEN 1 AND 1\n",
    "    AND b.shrcd BETWEEN 10 AND 11\n",
    "    '''"
   ]
  },
  {
   "cell_type": "code",
   "execution_count": 43,
   "metadata": {},
   "outputs": [
    {
     "name": "stdout",
     "output_type": "stream",
     "text": [
      "downloaded 2020-04-21 21:12:36.440551 in 105 seconds\n"
     ]
    }
   ],
   "source": [
    "t0 = dt.datetime.today()\n",
    "df_crsp_raw = wrds_conn.raw_sql(sql_crsp)\n",
    "t1 = dt.datetime.today()\n",
    "print('downloaded', str(dt.datetime.today()), 'in', (t1-t0).seconds, 'seconds')"
   ]
  },
  {
   "cell_type": "code",
   "execution_count": 44,
   "metadata": {},
   "outputs": [
    {
     "data": {
      "text/plain": [
       "1324"
      ]
     },
     "execution_count": 44,
     "metadata": {},
     "output_type": "execute_result"
    }
   ],
   "source": [
    "len(df_crsp_raw.permno.unique()) #6153 #3844 #1324"
   ]
  },
  {
   "cell_type": "code",
   "execution_count": 45,
   "metadata": {},
   "outputs": [
    {
     "data": {
      "text/html": [
       "<div>\n",
       "<style scoped>\n",
       "    .dataframe tbody tr th:only-of-type {\n",
       "        vertical-align: middle;\n",
       "    }\n",
       "\n",
       "    .dataframe tbody tr th {\n",
       "        vertical-align: top;\n",
       "    }\n",
       "\n",
       "    .dataframe thead th {\n",
       "        text-align: right;\n",
       "    }\n",
       "</style>\n",
       "<table border=\"1\" class=\"dataframe\">\n",
       "  <thead>\n",
       "    <tr style=\"text-align: right;\">\n",
       "      <th></th>\n",
       "      <th>permno</th>\n",
       "      <th>permco</th>\n",
       "      <th>date</th>\n",
       "      <th>ret</th>\n",
       "      <th>mcap</th>\n",
       "      <th>vola</th>\n",
       "    </tr>\n",
       "  </thead>\n",
       "  <tbody>\n",
       "    <tr>\n",
       "      <th>0</th>\n",
       "      <td>10051.0</td>\n",
       "      <td>7999.0</td>\n",
       "      <td>2019-02-19</td>\n",
       "      <td>0.001946</td>\n",
       "      <td>759068.814056</td>\n",
       "      <td>0.006101</td>\n",
       "    </tr>\n",
       "    <tr>\n",
       "      <th>1</th>\n",
       "      <td>10051.0</td>\n",
       "      <td>7999.0</td>\n",
       "      <td>2019-02-20</td>\n",
       "      <td>-0.007767</td>\n",
       "      <td>753173.139679</td>\n",
       "      <td>0.004216</td>\n",
       "    </tr>\n",
       "    <tr>\n",
       "      <th>2</th>\n",
       "      <td>10051.0</td>\n",
       "      <td>7999.0</td>\n",
       "      <td>2019-02-21</td>\n",
       "      <td>-0.004892</td>\n",
       "      <td>749488.325623</td>\n",
       "      <td>0.004873</td>\n",
       "    </tr>\n",
       "    <tr>\n",
       "      <th>3</th>\n",
       "      <td>10051.0</td>\n",
       "      <td>7999.0</td>\n",
       "      <td>2019-02-22</td>\n",
       "      <td>-0.004425</td>\n",
       "      <td>746172.000000</td>\n",
       "      <td>0.004239</td>\n",
       "    </tr>\n",
       "    <tr>\n",
       "      <th>4</th>\n",
       "      <td>10051.0</td>\n",
       "      <td>7999.0</td>\n",
       "      <td>2019-01-02</td>\n",
       "      <td>-0.003694</td>\n",
       "      <td>695690.209076</td>\n",
       "      <td>0.011301</td>\n",
       "    </tr>\n",
       "  </tbody>\n",
       "</table>\n",
       "</div>"
      ],
      "text/plain": [
       "    permno  permco        date       ret           mcap      vola\n",
       "0  10051.0  7999.0  2019-02-19  0.001946  759068.814056  0.006101\n",
       "1  10051.0  7999.0  2019-02-20 -0.007767  753173.139679  0.004216\n",
       "2  10051.0  7999.0  2019-02-21 -0.004892  749488.325623  0.004873\n",
       "3  10051.0  7999.0  2019-02-22 -0.004425  746172.000000  0.004239\n",
       "4  10051.0  7999.0  2019-01-02 -0.003694  695690.209076  0.011301"
      ]
     },
     "execution_count": 45,
     "metadata": {},
     "output_type": "execute_result"
    }
   ],
   "source": [
    "df_crsp_raw.head()"
   ]
  },
  {
   "cell_type": "code",
   "execution_count": 38,
   "metadata": {},
   "outputs": [
    {
     "data": {
      "text/html": [
       "<div>\n",
       "<style scoped>\n",
       "    .dataframe tbody tr th:only-of-type {\n",
       "        vertical-align: middle;\n",
       "    }\n",
       "\n",
       "    .dataframe tbody tr th {\n",
       "        vertical-align: top;\n",
       "    }\n",
       "\n",
       "    .dataframe thead th {\n",
       "        text-align: right;\n",
       "    }\n",
       "</style>\n",
       "<table border=\"1\" class=\"dataframe\">\n",
       "  <thead>\n",
       "    <tr style=\"text-align: right;\">\n",
       "      <th></th>\n",
       "      <th>permno</th>\n",
       "      <th>permco</th>\n",
       "      <th>ret</th>\n",
       "      <th>mcap</th>\n",
       "      <th>var</th>\n",
       "    </tr>\n",
       "  </thead>\n",
       "  <tbody>\n",
       "    <tr>\n",
       "      <th>count</th>\n",
       "      <td>318215.000000</td>\n",
       "      <td>318215.000000</td>\n",
       "      <td>318169.000000</td>\n",
       "      <td>3.182150e+05</td>\n",
       "      <td>318215.000000</td>\n",
       "    </tr>\n",
       "    <tr>\n",
       "      <th>mean</th>\n",
       "      <td>47853.785412</td>\n",
       "      <td>33202.321035</td>\n",
       "      <td>0.000891</td>\n",
       "      <td>1.400854e+07</td>\n",
       "      <td>0.000105</td>\n",
       "    </tr>\n",
       "    <tr>\n",
       "      <th>std</th>\n",
       "      <td>31354.339811</td>\n",
       "      <td>19186.110407</td>\n",
       "      <td>0.026815</td>\n",
       "      <td>3.807277e+07</td>\n",
       "      <td>0.000540</td>\n",
       "    </tr>\n",
       "    <tr>\n",
       "      <th>min</th>\n",
       "      <td>10051.000000</td>\n",
       "      <td>33.000000</td>\n",
       "      <td>-0.672131</td>\n",
       "      <td>-4.989139e+06</td>\n",
       "      <td>0.000000</td>\n",
       "    </tr>\n",
       "    <tr>\n",
       "      <th>25%</th>\n",
       "      <td>16436.000000</td>\n",
       "      <td>20436.000000</td>\n",
       "      <td>-0.009302</td>\n",
       "      <td>8.360279e+05</td>\n",
       "      <td>0.000017</td>\n",
       "    </tr>\n",
       "    <tr>\n",
       "      <th>50%</th>\n",
       "      <td>42614.000000</td>\n",
       "      <td>30975.000000</td>\n",
       "      <td>0.000989</td>\n",
       "      <td>2.789908e+06</td>\n",
       "      <td>0.000036</td>\n",
       "    </tr>\n",
       "    <tr>\n",
       "      <th>75%</th>\n",
       "      <td>81655.000000</td>\n",
       "      <td>54043.000000</td>\n",
       "      <td>0.011283</td>\n",
       "      <td>9.554005e+06</td>\n",
       "      <td>0.000086</td>\n",
       "    </tr>\n",
       "    <tr>\n",
       "      <th>max</th>\n",
       "      <td>93426.000000</td>\n",
       "      <td>56962.000000</td>\n",
       "      <td>0.957447</td>\n",
       "      <td>4.372260e+08</td>\n",
       "      <td>0.218592</td>\n",
       "    </tr>\n",
       "  </tbody>\n",
       "</table>\n",
       "</div>"
      ],
      "text/plain": [
       "              permno         permco            ret          mcap  \\\n",
       "count  318215.000000  318215.000000  318169.000000  3.182150e+05   \n",
       "mean    47853.785412   33202.321035       0.000891  1.400854e+07   \n",
       "std     31354.339811   19186.110407       0.026815  3.807277e+07   \n",
       "min     10051.000000      33.000000      -0.672131 -4.989139e+06   \n",
       "25%     16436.000000   20436.000000      -0.009302  8.360279e+05   \n",
       "50%     42614.000000   30975.000000       0.000989  2.789908e+06   \n",
       "75%     81655.000000   54043.000000       0.011283  9.554005e+06   \n",
       "max     93426.000000   56962.000000       0.957447  4.372260e+08   \n",
       "\n",
       "                 var  \n",
       "count  318215.000000  \n",
       "mean        0.000105  \n",
       "std         0.000540  \n",
       "min         0.000000  \n",
       "25%         0.000017  \n",
       "50%         0.000036  \n",
       "75%         0.000086  \n",
       "max         0.218592  "
      ]
     },
     "execution_count": 38,
     "metadata": {},
     "output_type": "execute_result"
    }
   ],
   "source": [
    "df_crsp_raw.describe()"
   ]
  },
  {
   "cell_type": "code",
   "execution_count": 46,
   "metadata": {},
   "outputs": [
    {
     "name": "stdout",
     "output_type": "stream",
     "text": [
      "25.457352 MByte\n"
     ]
    }
   ],
   "source": [
    "print(sys.getsizeof(df_crsp_raw)/1e+6, 'MByte')"
   ]
  },
  {
   "cell_type": "code",
   "execution_count": 19,
   "metadata": {},
   "outputs": [
    {
     "data": {
      "text/plain": [
       "<matplotlib.axes._subplots.AxesSubplot at 0x1b758e13710>"
      ]
     },
     "execution_count": 19,
     "metadata": {},
     "output_type": "execute_result"
    },
    {
     "data": {
      "image/png": "[encoded data removed]",
      "text/plain": [
       "<Figure size 432x288 with 1 Axes>"
      ]
     },
     "metadata": {
      "needs_background": "light"
     },
     "output_type": "display_data"
    }
   ],
   "source": [
    "df_crsp_raw.mcap.hist(bins=100)"
   ]
  },
  {
   "cell_type": "markdown",
   "metadata": {},
   "source": [
    "### Edit"
   ]
  },
  {
   "cell_type": "code",
   "execution_count": 68,
   "metadata": {},
   "outputs": [],
   "source": [
    "df_crsp_raw = df_crsp_raw.reset_index()"
   ]
  },
  {
   "cell_type": "code",
   "execution_count": 69,
   "metadata": {},
   "outputs": [],
   "source": [
    "# edit data formats\n",
    "df_crsp_raw['date'] = pd.to_datetime(df_crsp_raw['date'], yearfirst=True)\n",
    "df_crsp_raw[['permco', 'permno']] = df_crsp_raw[['permco', 'permno']].astype(int)"
   ]
  },
  {
   "cell_type": "code",
   "execution_count": 70,
   "metadata": {},
   "outputs": [],
   "source": [
    "# declare index\n",
    "df_crsp_raw.set_index(['date','permno'], inplace=True)"
   ]
  },
  {
   "cell_type": "code",
   "execution_count": 25,
   "metadata": {},
   "outputs": [],
   "source": [
    "# sum of me across different permno belonging to same permco a given date\n",
    "crsp_sum_me = df_crsp_raw.groupby(['date','permco'])['mcap'].count()#.reset_index()\n",
    "# largest mktcap within a permco/date\n",
    "#crsp_maxme = crsp.groupby(['jdate','permco'])['me'].max().reset_index()"
   ]
  },
  {
   "cell_type": "code",
   "execution_count": 71,
   "metadata": {},
   "outputs": [
    {
     "data": {
      "text/html": [
       "<div>\n",
       "<style scoped>\n",
       "    .dataframe tbody tr th:only-of-type {\n",
       "        vertical-align: middle;\n",
       "    }\n",
       "\n",
       "    .dataframe tbody tr th {\n",
       "        vertical-align: top;\n",
       "    }\n",
       "\n",
       "    .dataframe thead th {\n",
       "        text-align: right;\n",
       "    }\n",
       "</style>\n",
       "<table border=\"1\" class=\"dataframe\">\n",
       "  <thead>\n",
       "    <tr style=\"text-align: right;\">\n",
       "      <th>permno</th>\n",
       "      <th>10026</th>\n",
       "      <th>10028</th>\n",
       "      <th>10032</th>\n",
       "      <th>10044</th>\n",
       "      <th>10051</th>\n",
       "      <th>10065</th>\n",
       "      <th>10104</th>\n",
       "      <th>10107</th>\n",
       "      <th>10138</th>\n",
       "      <th>10145</th>\n",
       "      <th>...</th>\n",
       "      <th>93415</th>\n",
       "      <th>93416</th>\n",
       "      <th>93419</th>\n",
       "      <th>93420</th>\n",
       "      <th>93422</th>\n",
       "      <th>93423</th>\n",
       "      <th>93426</th>\n",
       "      <th>93427</th>\n",
       "      <th>93434</th>\n",
       "      <th>93436</th>\n",
       "    </tr>\n",
       "    <tr>\n",
       "      <th>date</th>\n",
       "      <th></th>\n",
       "      <th></th>\n",
       "      <th></th>\n",
       "      <th></th>\n",
       "      <th></th>\n",
       "      <th></th>\n",
       "      <th></th>\n",
       "      <th></th>\n",
       "      <th></th>\n",
       "      <th></th>\n",
       "      <th></th>\n",
       "      <th></th>\n",
       "      <th></th>\n",
       "      <th></th>\n",
       "      <th></th>\n",
       "      <th></th>\n",
       "      <th></th>\n",
       "      <th></th>\n",
       "      <th></th>\n",
       "      <th></th>\n",
       "      <th></th>\n",
       "    </tr>\n",
       "  </thead>\n",
       "  <tbody>\n",
       "    <tr>\n",
       "      <th>2019-01-02</th>\n",
       "      <td>-0.024829</td>\n",
       "      <td>-0.043488</td>\n",
       "      <td>0.012921</td>\n",
       "      <td>0.012887</td>\n",
       "      <td>-0.003694</td>\n",
       "      <td>0.002377</td>\n",
       "      <td>0.001550</td>\n",
       "      <td>-0.004430</td>\n",
       "      <td>-0.005199</td>\n",
       "      <td>-0.002195</td>\n",
       "      <td>...</td>\n",
       "      <td>0.025937</td>\n",
       "      <td>0.017606</td>\n",
       "      <td>-0.045767</td>\n",
       "      <td>0.001808</td>\n",
       "      <td>0.010657</td>\n",
       "      <td>0.007190</td>\n",
       "      <td>-0.002977</td>\n",
       "      <td>-0.007601</td>\n",
       "      <td>0.088398</td>\n",
       "      <td>-0.068149</td>\n",
       "    </tr>\n",
       "    <tr>\n",
       "      <th>2019-01-03</th>\n",
       "      <td>0.014326</td>\n",
       "      <td>0.088868</td>\n",
       "      <td>-0.024932</td>\n",
       "      <td>0.000000</td>\n",
       "      <td>-0.021716</td>\n",
       "      <td>-0.022134</td>\n",
       "      <td>-0.009730</td>\n",
       "      <td>-0.036788</td>\n",
       "      <td>-0.032992</td>\n",
       "      <td>-0.013350</td>\n",
       "      <td>...</td>\n",
       "      <td>0.006554</td>\n",
       "      <td>0.011534</td>\n",
       "      <td>-0.007212</td>\n",
       "      <td>0.018051</td>\n",
       "      <td>0.010545</td>\n",
       "      <td>-0.001785</td>\n",
       "      <td>-0.030856</td>\n",
       "      <td>-0.066379</td>\n",
       "      <td>0.040609</td>\n",
       "      <td>-0.031472</td>\n",
       "    </tr>\n",
       "    <tr>\n",
       "      <th>2019-01-04</th>\n",
       "      <td>0.012725</td>\n",
       "      <td>-0.060529</td>\n",
       "      <td>0.025570</td>\n",
       "      <td>0.022596</td>\n",
       "      <td>0.027071</td>\n",
       "      <td>0.022635</td>\n",
       "      <td>0.043100</td>\n",
       "      <td>0.046509</td>\n",
       "      <td>0.035694</td>\n",
       "      <td>0.034981</td>\n",
       "      <td>...</td>\n",
       "      <td>0.055814</td>\n",
       "      <td>0.001710</td>\n",
       "      <td>0.013440</td>\n",
       "      <td>0.070922</td>\n",
       "      <td>0.057391</td>\n",
       "      <td>0.033435</td>\n",
       "      <td>0.042794</td>\n",
       "      <td>0.040597</td>\n",
       "      <td>0.078049</td>\n",
       "      <td>0.057697</td>\n",
       "    </tr>\n",
       "    <tr>\n",
       "      <th>2019-01-07</th>\n",
       "      <td>0.003935</td>\n",
       "      <td>0.000000</td>\n",
       "      <td>0.012949</td>\n",
       "      <td>-0.019830</td>\n",
       "      <td>0.021086</td>\n",
       "      <td>0.014229</td>\n",
       "      <td>0.015842</td>\n",
       "      <td>0.001275</td>\n",
       "      <td>-0.001413</td>\n",
       "      <td>0.005571</td>\n",
       "      <td>...</td>\n",
       "      <td>0.033480</td>\n",
       "      <td>0.015367</td>\n",
       "      <td>0.005735</td>\n",
       "      <td>0.023179</td>\n",
       "      <td>0.402961</td>\n",
       "      <td>0.021799</td>\n",
       "      <td>0.010177</td>\n",
       "      <td>0.027087</td>\n",
       "      <td>-0.117647</td>\n",
       "      <td>0.054361</td>\n",
       "    </tr>\n",
       "    <tr>\n",
       "      <th>2019-01-08</th>\n",
       "      <td>0.022626</td>\n",
       "      <td>0.044444</td>\n",
       "      <td>0.002099</td>\n",
       "      <td>0.027746</td>\n",
       "      <td>0.008260</td>\n",
       "      <td>0.012471</td>\n",
       "      <td>0.009062</td>\n",
       "      <td>0.007251</td>\n",
       "      <td>0.005117</td>\n",
       "      <td>-0.002068</td>\n",
       "      <td>...</td>\n",
       "      <td>0.028986</td>\n",
       "      <td>0.007287</td>\n",
       "      <td>0.031361</td>\n",
       "      <td>0.038835</td>\n",
       "      <td>0.026964</td>\n",
       "      <td>0.019641</td>\n",
       "      <td>0.014300</td>\n",
       "      <td>0.015942</td>\n",
       "      <td>0.020513</td>\n",
       "      <td>0.001164</td>\n",
       "    </tr>\n",
       "    <tr>\n",
       "      <th>...</th>\n",
       "      <td>...</td>\n",
       "      <td>...</td>\n",
       "      <td>...</td>\n",
       "      <td>...</td>\n",
       "      <td>...</td>\n",
       "      <td>...</td>\n",
       "      <td>...</td>\n",
       "      <td>...</td>\n",
       "      <td>...</td>\n",
       "      <td>...</td>\n",
       "      <td>...</td>\n",
       "      <td>...</td>\n",
       "      <td>...</td>\n",
       "      <td>...</td>\n",
       "      <td>...</td>\n",
       "      <td>...</td>\n",
       "      <td>...</td>\n",
       "      <td>...</td>\n",
       "      <td>...</td>\n",
       "      <td>...</td>\n",
       "      <td>...</td>\n",
       "    </tr>\n",
       "    <tr>\n",
       "      <th>2019-12-24</th>\n",
       "      <td>-0.003757</td>\n",
       "      <td>0.000000</td>\n",
       "      <td>0.001935</td>\n",
       "      <td>0.015784</td>\n",
       "      <td>-0.004022</td>\n",
       "      <td>0.001259</td>\n",
       "      <td>-0.005027</td>\n",
       "      <td>-0.000191</td>\n",
       "      <td>0.004769</td>\n",
       "      <td>-0.000680</td>\n",
       "      <td>...</td>\n",
       "      <td>-0.002529</td>\n",
       "      <td>-0.000978</td>\n",
       "      <td>0.002454</td>\n",
       "      <td>-0.019355</td>\n",
       "      <td>0.004587</td>\n",
       "      <td>0.008063</td>\n",
       "      <td>-0.004684</td>\n",
       "      <td>0.005900</td>\n",
       "      <td>-0.013575</td>\n",
       "      <td>0.014384</td>\n",
       "    </tr>\n",
       "    <tr>\n",
       "      <th>2019-12-26</th>\n",
       "      <td>0.003071</td>\n",
       "      <td>-0.002878</td>\n",
       "      <td>-0.002575</td>\n",
       "      <td>0.007769</td>\n",
       "      <td>-0.000734</td>\n",
       "      <td>0.002514</td>\n",
       "      <td>0.002433</td>\n",
       "      <td>0.008197</td>\n",
       "      <td>0.005483</td>\n",
       "      <td>0.003233</td>\n",
       "      <td>...</td>\n",
       "      <td>0.013525</td>\n",
       "      <td>-0.001959</td>\n",
       "      <td>0.009519</td>\n",
       "      <td>0.057566</td>\n",
       "      <td>0.009132</td>\n",
       "      <td>-0.014483</td>\n",
       "      <td>-0.004118</td>\n",
       "      <td>0.009415</td>\n",
       "      <td>-0.036697</td>\n",
       "      <td>0.013380</td>\n",
       "    </tr>\n",
       "    <tr>\n",
       "      <th>2019-12-27</th>\n",
       "      <td>0.002417</td>\n",
       "      <td>-0.013853</td>\n",
       "      <td>-0.006713</td>\n",
       "      <td>0.001894</td>\n",
       "      <td>0.011756</td>\n",
       "      <td>-0.003762</td>\n",
       "      <td>-0.002053</td>\n",
       "      <td>0.001828</td>\n",
       "      <td>-0.000407</td>\n",
       "      <td>-0.002261</td>\n",
       "      <td>...</td>\n",
       "      <td>-0.038365</td>\n",
       "      <td>0.003925</td>\n",
       "      <td>0.005657</td>\n",
       "      <td>-0.029549</td>\n",
       "      <td>-0.020362</td>\n",
       "      <td>0.001755</td>\n",
       "      <td>-0.002953</td>\n",
       "      <td>-0.012691</td>\n",
       "      <td>-0.057143</td>\n",
       "      <td>-0.001299</td>\n",
       "    </tr>\n",
       "    <tr>\n",
       "      <th>2019-12-30</th>\n",
       "      <td>-0.003751</td>\n",
       "      <td>-0.019608</td>\n",
       "      <td>0.003639</td>\n",
       "      <td>0.011300</td>\n",
       "      <td>-0.003631</td>\n",
       "      <td>-0.007552</td>\n",
       "      <td>-0.014216</td>\n",
       "      <td>-0.008619</td>\n",
       "      <td>-0.008223</td>\n",
       "      <td>-0.000340</td>\n",
       "      <td>...</td>\n",
       "      <td>-0.020815</td>\n",
       "      <td>-0.001955</td>\n",
       "      <td>0.000804</td>\n",
       "      <td>-0.012821</td>\n",
       "      <td>0.030023</td>\n",
       "      <td>-0.006350</td>\n",
       "      <td>0.005332</td>\n",
       "      <td>0.005885</td>\n",
       "      <td>0.005051</td>\n",
       "      <td>-0.036433</td>\n",
       "    </tr>\n",
       "    <tr>\n",
       "      <th>2019-12-31</th>\n",
       "      <td>-0.008928</td>\n",
       "      <td>0.007463</td>\n",
       "      <td>-0.003626</td>\n",
       "      <td>0.003261</td>\n",
       "      <td>0.006195</td>\n",
       "      <td>0.000000</td>\n",
       "      <td>0.005313</td>\n",
       "      <td>0.000698</td>\n",
       "      <td>0.000246</td>\n",
       "      <td>0.003288</td>\n",
       "      <td>...</td>\n",
       "      <td>-0.002657</td>\n",
       "      <td>0.002938</td>\n",
       "      <td>0.007762</td>\n",
       "      <td>0.058442</td>\n",
       "      <td>0.008969</td>\n",
       "      <td>-0.005950</td>\n",
       "      <td>0.001768</td>\n",
       "      <td>-0.001694</td>\n",
       "      <td>0.055276</td>\n",
       "      <td>0.008753</td>\n",
       "    </tr>\n",
       "  </tbody>\n",
       "</table>\n",
       "<p>252 rows × 6153 columns</p>\n",
       "</div>"
      ],
      "text/plain": [
       "permno         10026     10028     10032     10044     10051     10065  \\\n",
       "date                                                                     \n",
       "2019-01-02 -0.024829 -0.043488  0.012921  0.012887 -0.003694  0.002377   \n",
       "2019-01-03  0.014326  0.088868 -0.024932  0.000000 -0.021716 -0.022134   \n",
       "2019-01-04  0.012725 -0.060529  0.025570  0.022596  0.027071  0.022635   \n",
       "2019-01-07  0.003935  0.000000  0.012949 -0.019830  0.021086  0.014229   \n",
       "2019-01-08  0.022626  0.044444  0.002099  0.027746  0.008260  0.012471   \n",
       "...              ...       ...       ...       ...       ...       ...   \n",
       "2019-12-24 -0.003757  0.000000  0.001935  0.015784 -0.004022  0.001259   \n",
       "2019-12-26  0.003071 -0.002878 -0.002575  0.007769 -0.000734  0.002514   \n",
       "2019-12-27  0.002417 -0.013853 -0.006713  0.001894  0.011756 -0.003762   \n",
       "2019-12-30 -0.003751 -0.019608  0.003639  0.011300 -0.003631 -0.007552   \n",
       "2019-12-31 -0.008928  0.007463 -0.003626  0.003261  0.006195  0.000000   \n",
       "\n",
       "permno         10104     10107     10138     10145  ...     93415     93416  \\\n",
       "date                                                ...                       \n",
       "2019-01-02  0.001550 -0.004430 -0.005199 -0.002195  ...  0.025937  0.017606   \n",
       "2019-01-03 -0.009730 -0.036788 -0.032992 -0.013350  ...  0.006554  0.011534   \n",
       "2019-01-04  0.043100  0.046509  0.035694  0.034981  ...  0.055814  0.001710   \n",
       "2019-01-07  0.015842  0.001275 -0.001413  0.005571  ...  0.033480  0.015367   \n",
       "2019-01-08  0.009062  0.007251  0.005117 -0.002068  ...  0.028986  0.007287   \n",
       "...              ...       ...       ...       ...  ...       ...       ...   \n",
       "2019-12-24 -0.005027 -0.000191  0.004769 -0.000680  ... -0.002529 -0.000978   \n",
       "2019-12-26  0.002433  0.008197  0.005483  0.003233  ...  0.013525 -0.001959   \n",
       "2019-12-27 -0.002053  0.001828 -0.000407 -0.002261  ... -0.038365  0.003925   \n",
       "2019-12-30 -0.014216 -0.008619 -0.008223 -0.000340  ... -0.020815 -0.001955   \n",
       "2019-12-31  0.005313  0.000698  0.000246  0.003288  ... -0.002657  0.002938   \n",
       "\n",
       "permno         93419     93420     93422     93423     93426     93427  \\\n",
       "date                                                                     \n",
       "2019-01-02 -0.045767  0.001808  0.010657  0.007190 -0.002977 -0.007601   \n",
       "2019-01-03 -0.007212  0.018051  0.010545 -0.001785 -0.030856 -0.066379   \n",
       "2019-01-04  0.013440  0.070922  0.057391  0.033435  0.042794  0.040597   \n",
       "2019-01-07  0.005735  0.023179  0.402961  0.021799  0.010177  0.027087   \n",
       "2019-01-08  0.031361  0.038835  0.026964  0.019641  0.014300  0.015942   \n",
       "...              ...       ...       ...       ...       ...       ...   \n",
       "2019-12-24  0.002454 -0.019355  0.004587  0.008063 -0.004684  0.005900   \n",
       "2019-12-26  0.009519  0.057566  0.009132 -0.014483 -0.004118  0.009415   \n",
       "2019-12-27  0.005657 -0.029549 -0.020362  0.001755 -0.002953 -0.012691   \n",
       "2019-12-30  0.000804 -0.012821  0.030023 -0.006350  0.005332  0.005885   \n",
       "2019-12-31  0.007762  0.058442  0.008969 -0.005950  0.001768 -0.001694   \n",
       "\n",
       "permno         93434     93436  \n",
       "date                            \n",
       "2019-01-02  0.088398 -0.068149  \n",
       "2019-01-03  0.040609 -0.031472  \n",
       "2019-01-04  0.078049  0.057697  \n",
       "2019-01-07 -0.117647  0.054361  \n",
       "2019-01-08  0.020513  0.001164  \n",
       "...              ...       ...  \n",
       "2019-12-24 -0.013575  0.014384  \n",
       "2019-12-26 -0.036697  0.013380  \n",
       "2019-12-27 -0.057143 -0.001299  \n",
       "2019-12-30  0.005051 -0.036433  \n",
       "2019-12-31  0.055276  0.008753  \n",
       "\n",
       "[252 rows x 6153 columns]"
      ]
     },
     "execution_count": 71,
     "metadata": {},
     "output_type": "execute_result"
    }
   ],
   "source": [
    "df_crsp_raw.ret.unstack()"
   ]
  },
  {
   "cell_type": "code",
   "execution_count": null,
   "metadata": {},
   "outputs": [],
   "source": []
  },
  {
   "cell_type": "code",
   "execution_count": null,
   "metadata": {},
   "outputs": [],
   "source": []
  },
  {
   "cell_type": "markdown",
   "metadata": {},
   "source": [
    "## Download FF data"
   ]
  },
  {
   "cell_type": "markdown",
   "metadata": {},
   "source": [
    "### SQL Query"
   ]
  },
  {
   "cell_type": "code",
   "execution_count": 12,
   "metadata": {},
   "outputs": [],
   "source": [
    "sql_ff = '''\n",
    "    SELECT\n",
    "    date, \n",
    "    mktrf,\n",
    "    smb,\n",
    "    hml,\n",
    "    rf,\n",
    "    umd\n",
    "    \n",
    "    FROM ff_all.factors_daily \n",
    "    \n",
    "    WHERE date BETWEEN '01/01/2000' AND '03/31/2020'\n",
    "    '''"
   ]
  },
  {
   "cell_type": "code",
   "execution_count": 73,
   "metadata": {},
   "outputs": [
    {
     "name": "stdout",
     "output_type": "stream",
     "text": [
      "downloaded 2020-04-21 16:59:35.519181 in 0 seconds\n"
     ]
    }
   ],
   "source": [
    "t0 = dt.datetime.today()\n",
    "df_ff_raw = wrds_conn.raw_sql(sql_ff)\n",
    "t1 = dt.datetime.today()\n",
    "print('downloaded', str(dt.datetime.today()), 'in', (t1-t0).seconds, 'seconds')"
   ]
  },
  {
   "cell_type": "code",
   "execution_count": 74,
   "metadata": {},
   "outputs": [
    {
     "name": "stdout",
     "output_type": "stream",
     "text": [
      "0.405832 MByte\n"
     ]
    }
   ],
   "source": [
    "print(sys.getsizeof(df_ff_raw)/1e+6, 'MByte')"
   ]
  },
  {
   "cell_type": "markdown",
   "metadata": {},
   "source": [
    "### Edit"
   ]
  },
  {
   "cell_type": "code",
   "execution_count": 15,
   "metadata": {},
   "outputs": [],
   "source": [
    "# edit data formats\n",
    "df_ff_raw['date'] = pd.to_datetime(df_ff_raw['date'], yearfirst=True)"
   ]
  },
  {
   "cell_type": "code",
   "execution_count": 16,
   "metadata": {},
   "outputs": [],
   "source": [
    "# declare index\n",
    "df_ff_raw.set_index('date', inplace=True)"
   ]
  },
  {
   "cell_type": "markdown",
   "metadata": {},
   "source": [
    "## Merge"
   ]
  },
  {
   "cell_type": "code",
   "execution_count": 22,
   "metadata": {},
   "outputs": [],
   "source": [
    "#df_merged = crsp_data.merge(factors_daily[['Mkt-RF','RF']], left_index=True, right_on='Date')#, how='outer')\n",
    "#df_merged['vw-RF'] = df_merged['vw_index'] - df_merged['RF']"
   ]
  },
  {
   "cell_type": "code",
   "execution_count": null,
   "metadata": {},
   "outputs": [],
   "source": []
  }
 ],
 "metadata": {
  "kernelspec": {
   "display_name": "Python 3",
   "language": "python",
   "name": "python3"
  },
  "language_info": {
   "codemirror_mode": {
    "name": "ipython",
    "version": 3
   },
   "file_extension": ".py",
   "mimetype": "text/x-python",
   "name": "python",
   "nbconvert_exporter": "python",
   "pygments_lexer": "ipython3",
   "version": "3.7.0"
  }
 },
 "nbformat": 4,
 "nbformat_minor": 2
}
