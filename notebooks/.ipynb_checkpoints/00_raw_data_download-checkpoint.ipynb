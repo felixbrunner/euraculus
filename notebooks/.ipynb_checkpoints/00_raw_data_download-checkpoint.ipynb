{
 "cells": [
  {
   "cell_type": "markdown",
   "metadata": {},
   "source": [
    "# 00 - Raw Data Download\n",
    "## Description\n",
    "\n",
    "This notebook downloads the daily stock file data from CRSP to output tables containing the following variables:\n",
    "- date\n",
    "- permno as unique identifier\n",
    "- mcap as shares outstanding times price\n",
    "- return\n",
    "- intraday extreme value volatility estimate $\\bar{\\sigma}^{2}_{i,t} = {0.3607}(p_{i,t}^{high}-p_{i,t}^{low})^{2}$ based on Parkinson (1980), where $p_{i,t}$ is the logarithm of the dollar price\n",
    "\n",
    "Additionally, the following data is downloaded:\n",
    "- Fama-French Factor data\n",
    "- SPDR TRUST S&P500 ETF (\"SPY\")\n",
    "\n",
    "Code to perform the steps is mainly in the `query.py` module"
   ]
  },
  {
   "cell_type": "markdown",
   "metadata": {},
   "source": [
    "## Imports"
   ]
  },
  {
   "cell_type": "code",
   "execution_count": 1,
   "metadata": {
    "pycharm": {
     "is_executing": false
    }
   },
   "outputs": [],
   "source": [
    "%load_ext autoreload\n",
    "%autoreload 2"
   ]
  },
  {
   "cell_type": "code",
   "execution_count": 2,
   "metadata": {},
   "outputs": [
    {
     "name": "stderr",
     "output_type": "stream",
     "text": [
      "/home/rubelrennfix/.virtualenvs/euraculus/lib/python3.6/site-packages/pandas_datareader/compat/__init__.py:7: FutureWarning: pandas.util.testing is deprecated. Use the functions in the public API at pandas.testing instead.\n",
      "  from pandas.util.testing import assert_frame_equal\n"
     ]
    }
   ],
   "source": [
    "import wrds\n",
    "import pandas as pd\n",
    "import numpy as np\n",
    "import datetime as dt\n",
    "import sys\n",
    "sys.path.append('../')\n",
    "import src"
   ]
  },
  {
   "cell_type": "markdown",
   "metadata": {},
   "source": [
    "## Set up WRDS Connection"
   ]
  },
  {
   "cell_type": "code",
   "execution_count": 3,
   "metadata": {},
   "outputs": [
    {
     "name": "stdout",
     "output_type": "stream",
     "text": [
      "Loading library list...\n",
      "Done\n"
     ]
    }
   ],
   "source": [
    "wrds_conn = wrds.Connection(wrds_username='felixbru')\n",
    "# wrds_conn.create_pgpass_file()\n",
    "#wrds_connection.close()"
   ]
  },
  {
   "cell_type": "markdown",
   "metadata": {},
   "source": [
    "#### Explore database"
   ]
  },
  {
   "cell_type": "code",
   "execution_count": 4,
   "metadata": {},
   "outputs": [],
   "source": [
    "libraries = wrds_conn.list_libraries()\n",
    "library = 'crsp'"
   ]
  },
  {
   "cell_type": "code",
   "execution_count": 5,
   "metadata": {},
   "outputs": [],
   "source": [
    "library_tables = wrds_conn.list_tables(library=library)\n",
    "table = 'dsf'"
   ]
  },
  {
   "cell_type": "code",
   "execution_count": 6,
   "metadata": {},
   "outputs": [
    {
     "name": "stdout",
     "output_type": "stream",
     "text": [
      "Approximately 98253050 rows in crsp.dsf.\n"
     ]
    }
   ],
   "source": [
    "table_description = wrds_conn.describe_table(library=library, table=table)"
   ]
  },
  {
   "cell_type": "markdown",
   "metadata": {},
   "source": [
    "## Download CRSP data"
   ]
  },
  {
   "cell_type": "markdown",
   "metadata": {},
   "source": [
    "### Daily stock data"
   ]
  },
  {
   "cell_type": "markdown",
   "metadata": {},
   "source": [
    "EXCHCD:\n",
    "- 1: NYSE\n",
    "- 2: NYSE MKT\n",
    "- 3: NASDAQ\n",
    "\n",
    "SHRCD:\n",
    "- 10: Ordinary common share, no special status found\n",
    "- 11: Ordinary common share, no special status necessary"
   ]
  },
  {
   "cell_type": "code",
   "execution_count": 8,
   "metadata": {},
   "outputs": [
    {
     "name": "stdout",
     "output_type": "stream",
     "text": [
      "collected 30.43 MB on 2020-11-17 15:39:17.591604 in 10 seconds\n",
      "    Year 1960 done.\n",
      "collected 30.80 MB on 2020-11-17 15:39:41.387838 in 23 seconds\n",
      "collected 52.42 MB on 2020-11-17 15:39:54.909751 in 13 seconds\n",
      "collected 81.53 MB on 2020-11-17 15:40:06.664087 in 11 seconds\n",
      "collected 84.00 MB on 2020-11-17 15:40:18.797482 in 11 seconds\n",
      "collected 85.48 MB on 2020-11-17 15:40:31.168864 in 11 seconds\n",
      "    Year 1965 done.\n",
      "collected 86.52 MB on 2020-11-17 15:40:43.794753 in 11 seconds\n",
      "collected 86.54 MB on 2020-11-17 15:40:57.197068 in 12 seconds\n",
      "collected 77.79 MB on 2020-11-17 15:41:09.503186 in 11 seconds\n",
      "collected 88.92 MB on 2020-11-17 15:41:22.666796 in 12 seconds\n",
      "collected 94.51 MB on 2020-11-17 15:41:38.805180 in 15 seconds\n",
      "    Year 1970 done.\n",
      "collected 97.04 MB on 2020-11-17 15:41:57.360970 in 17 seconds\n",
      "collected 105.79 MB on 2020-11-17 15:42:15.943796 in 17 seconds\n",
      "collected 216.77 MB on 2020-11-17 15:42:51.015076 in 33 seconds\n",
      "collected 205.99 MB on 2020-11-17 15:43:34.172300 in 34 seconds\n",
      "collected 199.42 MB on 2020-11-17 15:44:08.174248 in 30 seconds\n",
      "    Year 1975 done.\n",
      "collected 199.31 MB on 2020-11-17 15:44:41.505914 in 30 seconds\n",
      "collected 197.64 MB on 2020-11-17 15:45:14.538567 in 29 seconds\n",
      "collected 193.23 MB on 2020-11-17 15:45:48.352248 in 30 seconds\n",
      "collected 191.26 MB on 2020-11-17 15:46:24.635339 in 33 seconds\n",
      "collected 193.16 MB on 2020-11-17 15:46:57.587380 in 30 seconds\n",
      "    Year 1980 done.\n",
      "collected 206.39 MB on 2020-11-17 15:47:38.793911 in 38 seconds\n",
      "collected 191.11 MB on 2020-11-17 15:48:20.332300 in 38 seconds\n",
      "collected 197.98 MB on 2020-11-17 15:49:00.797225 in 37 seconds\n",
      "collected 217.06 MB on 2020-11-17 15:49:41.904432 in 37 seconds\n",
      "collected 214.99 MB on 2020-11-17 15:50:25.877314 in 40 seconds\n",
      "    Year 1985 done.\n",
      "collected 220.68 MB on 2020-11-17 15:51:09.757039 in 40 seconds\n",
      "collected 234.45 MB on 2020-11-17 15:51:56.194850 in 42 seconds\n",
      "collected 232.96 MB on 2020-11-17 15:52:42.544715 in 42 seconds\n",
      "collected 222.44 MB on 2020-11-17 15:53:25.171253 in 38 seconds\n",
      "collected 218.45 MB on 2020-11-17 15:54:06.871735 in 37 seconds\n",
      "    Year 1990 done.\n",
      "collected 214.76 MB on 2020-11-17 15:54:49.926659 in 39 seconds\n",
      "collected 220.49 MB on 2020-11-17 15:55:32.650118 in 39 seconds\n",
      "collected 229.67 MB on 2020-11-17 15:56:21.774422 in 45 seconds\n",
      "collected 248.45 MB on 2020-11-17 15:57:14.047172 in 48 seconds\n",
      "collected 254.67 MB on 2020-11-17 15:58:07.939469 in 48 seconds\n",
      "    Year 1995 done.\n",
      "collected 271.62 MB on 2020-11-17 15:59:13.157508 in 53 seconds\n",
      "collected 280.01 MB on 2020-11-17 16:00:14.999029 in 55 seconds\n",
      "collected 272.34 MB on 2020-11-17 16:01:15.393569 in 54 seconds\n",
      "collected 253.98 MB on 2020-11-17 16:02:15.900114 in 50 seconds\n",
      "collected 245.77 MB on 2020-11-17 16:03:08.734554 in 47 seconds\n",
      "    Year 2000 done.\n",
      "collected 220.24 MB on 2020-11-17 16:04:01.431442 in 47 seconds\n",
      "collected 203.06 MB on 2020-11-17 16:04:48.971663 in 42 seconds\n",
      "collected 187.72 MB on 2020-11-17 16:05:32.070112 in 38 seconds\n",
      "collected 181.55 MB on 2020-11-17 16:06:14.654339 in 38 seconds\n",
      "collected 179.42 MB on 2020-11-17 16:06:57.816840 in 39 seconds\n",
      "    Year 2005 done.\n",
      "collected 175.90 MB on 2020-11-17 16:07:39.402137 in 37 seconds\n",
      "collected 173.18 MB on 2020-11-17 16:08:19.971943 in 36 seconds\n",
      "collected 168.82 MB on 2020-11-17 16:09:00.503170 in 36 seconds\n",
      "collected 156.73 MB on 2020-11-17 16:09:37.431934 in 33 seconds\n",
      "collected 150.59 MB on 2020-11-17 16:10:16.851045 in 36 seconds\n",
      "    Year 2010 done.\n",
      "collected 144.96 MB on 2020-11-17 16:10:54.294878 in 34 seconds\n",
      "collected 138.91 MB on 2020-11-17 16:11:27.247385 in 29 seconds\n",
      "collected 136.85 MB on 2020-11-17 16:11:58.802307 in 28 seconds\n",
      "collected 140.10 MB on 2020-11-17 16:12:31.824879 in 30 seconds\n",
      "collected 141.85 MB on 2020-11-17 16:13:05.732392 in 31 seconds\n",
      "    Year 2015 done.\n",
      "collected 138.06 MB on 2020-11-17 16:13:37.939853 in 29 seconds\n",
      "collected 135.06 MB on 2020-11-17 16:14:10.103312 in 29 seconds\n",
      "collected 135.00 MB on 2020-11-17 16:14:42.559942 in 29 seconds\n",
      "collected 135.76 MB on 2020-11-17 16:15:20.023143 in 34 seconds\n"
     ]
    }
   ],
   "source": [
    "for year in range(1993, 2021): #range(1960, 2020):\n",
    "    df = src.query.download_crsp_year(wrds_conn, year)\n",
    "    df.to_pickle(path='../data/raw/crsp_{}.pkl'.format(year))\n",
    "    if year % 5 == 0:\n",
    "        print('    Year {} done.'.format(year))"
   ]
  },
  {
   "cell_type": "markdown",
   "metadata": {},
   "source": [
    "### Delisting Returns"
   ]
  },
  {
   "cell_type": "code",
   "execution_count": 8,
   "metadata": {},
   "outputs": [
    {
     "name": "stdout",
     "output_type": "stream",
     "text": [
      "collected 1.93 MB on 2021-02-03 15:19:27.638045 in 1 seconds\n"
     ]
    }
   ],
   "source": [
    "df_delist = src.query.download_delisting(wrds_conn)\n",
    "df_delist.to_pickle(path='../data/raw/delisting.pkl')"
   ]
  },
  {
   "cell_type": "markdown",
   "metadata": {},
   "source": [
    "### Descriptive Data"
   ]
  },
  {
   "cell_type": "code",
   "execution_count": 9,
   "metadata": {},
   "outputs": [
    {
     "name": "stdout",
     "output_type": "stream",
     "text": [
      "collected 24.70 MB on 2021-02-03 15:19:37.808350 in 5 seconds\n"
     ]
    }
   ],
   "source": [
    "df_descriptive = src.query.download_descriptive(wrds_conn)\n",
    "df_descriptive.to_pickle(path='../data/raw/descriptive.pkl')"
   ]
  },
  {
   "cell_type": "markdown",
   "metadata": {},
   "source": [
    "## Download FF data"
   ]
  },
  {
   "cell_type": "markdown",
   "metadata": {},
   "source": [
    "### SQL Query"
   ]
  },
  {
   "cell_type": "code",
   "execution_count": 10,
   "metadata": {},
   "outputs": [
    {
     "name": "stdout",
     "output_type": "stream",
     "text": [
      "collected 1.99 MB on 2021-02-03 15:19:39.892072 in 1 seconds\n"
     ]
    }
   ],
   "source": [
    "df_ff = src.query.download_famafrench(wrds_conn)\n",
    "df_ff.to_pickle(path='../data/raw/ff_factors.pkl')"
   ]
  },
  {
   "cell_type": "markdown",
   "metadata": {},
   "source": [
    "## SPDR Trust SPY Index data"
   ]
  },
  {
   "cell_type": "code",
   "execution_count": 11,
   "metadata": {},
   "outputs": [
    {
     "name": "stdout",
     "output_type": "stream",
     "text": [
      "collected 0.51 MB on 2021-02-03 15:19:40.618329 in 0 seconds\n"
     ]
    }
   ],
   "source": [
    "df_spy = src.query.download_SPY(wrds_conn)\n",
    "df_spy.to_pickle(path='../data/raw/spy.pkl')"
   ]
  }
 ],
 "metadata": {
  "kernelspec": {
   "display_name": "Python 3",
   "language": "python",
   "name": "python3"
  },
  "language_info": {
   "codemirror_mode": {
    "name": "ipython",
    "version": 3
   },
   "file_extension": ".py",
   "mimetype": "text/x-python",
   "name": "python",
   "nbconvert_exporter": "python",
   "pygments_lexer": "ipython3",
   "version": "3.6.9"
  }
 },
 "nbformat": 4,
 "nbformat_minor": 4
}
