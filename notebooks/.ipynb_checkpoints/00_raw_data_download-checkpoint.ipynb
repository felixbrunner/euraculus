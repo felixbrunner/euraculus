{
 "cells": [
  {
   "cell_type": "markdown",
   "metadata": {},
   "source": [
    "# 00 - Raw Data Download\n",
    "## Description\n",
    "\n",
    "This notebook downloads the daily stock file data from CRSP to output tables containing the following variables:\n",
    "- date\n",
    "- permno as unique identifier\n",
    "- mcap as shares outstanding times price\n",
    "- return\n",
    "- intraday extreme value volatility estimate $\\bar{\\sigma}^{}_{i,t} = \\sqrt{0.3607}(p_{i,t}^{high}-p_{i,t}^{low})^{}$ based on Parkinson (1980), where $p_{i,t}$ is the logarithm of the dollar price\n"
   ]
  },
  {
   "cell_type": "markdown",
   "metadata": {},
   "source": [
    "## TO DO\n",
    "- Same permco can have multiple permno"
   ]
  },
  {
   "cell_type": "markdown",
   "metadata": {},
   "source": [
    "## Imports"
   ]
  },
  {
   "cell_type": "code",
   "execution_count": 1,
   "metadata": {
    "pycharm": {
     "is_executing": false
    }
   },
   "outputs": [],
   "source": [
    "%load_ext autoreload\n",
    "%autoreload 2"
   ]
  },
  {
   "cell_type": "code",
   "execution_count": 2,
   "metadata": {},
   "outputs": [],
   "source": [
    "import wrds\n",
    "import pandas as pd\n",
    "import numpy as np\n",
    "import datetime as dt\n",
    "import sys\n",
    "sys.path.append('../')\n",
    "import src"
   ]
  },
  {
   "cell_type": "markdown",
   "metadata": {},
   "source": [
    "## Set up WRDS Connection"
   ]
  },
  {
   "cell_type": "code",
   "execution_count": 3,
   "metadata": {},
   "outputs": [
    {
     "name": "stdout",
     "output_type": "stream",
     "text": [
      "Loading library list...\n",
      "Done\n"
     ]
    }
   ],
   "source": [
    "wrds_conn = wrds.Connection(wrds_username='felixbru')\n",
    "# wrds_conn.create_pgpass_file()\n",
    "#wrds_connection.close()"
   ]
  },
  {
   "cell_type": "markdown",
   "metadata": {},
   "source": [
    "#### Explore database"
   ]
  },
  {
   "cell_type": "code",
   "execution_count": 4,
   "metadata": {},
   "outputs": [],
   "source": [
    "libraries = wrds_conn.list_libraries()\n",
    "library = 'crsp'"
   ]
  },
  {
   "cell_type": "code",
   "execution_count": 5,
   "metadata": {},
   "outputs": [],
   "source": [
    "library_tables = wrds_conn.list_tables(library=library)\n",
    "table = 'dsf'"
   ]
  },
  {
   "cell_type": "code",
   "execution_count": 6,
   "metadata": {},
   "outputs": [
    {
     "name": "stdout",
     "output_type": "stream",
     "text": [
      "Approximately 96285900 rows in crsp.dsf.\n"
     ]
    }
   ],
   "source": [
    "table_description = wrds_conn.describe_table(library=library, table=table)"
   ]
  },
  {
   "cell_type": "markdown",
   "metadata": {},
   "source": [
    "## Download CRSP data"
   ]
  },
  {
   "cell_type": "markdown",
   "metadata": {},
   "source": [
    "### Daily stock data"
   ]
  },
  {
   "cell_type": "markdown",
   "metadata": {},
   "source": [
    "EXCHCD:\n",
    "- 1: NYSE\n",
    "- 2: NYSE MKT\n",
    "- 3: NASDAQ\n",
    "\n",
    "SHRCD:\n",
    "- 10: Ordinary common share, no special status found\n",
    "- 11: Ordinary common share, no special status necessary"
   ]
  },
  {
   "cell_type": "code",
   "execution_count": 7,
   "metadata": {},
   "outputs": [],
   "source": [
    "# def make_crsp_query(year):\n",
    "#     query = '''\n",
    "#     SELECT \n",
    "#     a.permno,\n",
    "#     b.ticker,\n",
    "#     a.date,\n",
    "#     a.ret,\n",
    "#     c.dlret,\n",
    "#     a.shrout * a.prc AS mcap,\n",
    "#     SQRT(0.3607) * POWER(LOG(NULLIF(a.askhi, 0)) - LOG(NULLIF(a.bidlo, 0)), 1) AS vola\n",
    "    \n",
    "#     FROM crsp.dsf AS a\n",
    "    \n",
    "#     LEFT JOIN crsp.msenames AS b\n",
    "#     ON a.permno=b.permno\n",
    "#     AND b.namedt<=a.date\n",
    "#     AND a.date<=b.nameendt\n",
    "    \n",
    "#     LEFT JOIN crsp.msedelist AS c\n",
    "#     ON a.permno=c.permno\n",
    "#     AND a.date=c.dlstdt\n",
    "    \n",
    "#     WHERE a.date BETWEEN '01/01/{}' AND '12/31/{}'\n",
    "#     AND b.exchcd BETWEEN 1 AND 3\n",
    "#     AND b.shrcd BETWEEN 10 AND 11\n",
    "#     '''\\\n",
    "#     .format(year, year)\n",
    "#     return query"
   ]
  },
  {
   "cell_type": "code",
   "execution_count": 8,
   "metadata": {},
   "outputs": [],
   "source": [
    "# def download_crsp_year(connection, year):\n",
    "#     # SQL qumake_crsp_query\n",
    "#     query = make_crsp_query(year)\n",
    "#     df = src.loader.query_SQL(connection, query)\n",
    "    \n",
    "#     # edit data formats\n",
    "#     df['date'] = pd.to_datetime(df.date, yearfirst=True)\n",
    "#     df['permno'] = df.permno.astype(int)\n",
    "    \n",
    "#     # adjust returns for delisting\n",
    "#     df['retadj'] = (1+df['ret'].fillna(0))*(1+df['dlret'].fillna(0))-1\n",
    "#     df['retadj'] = df['retadj'].where(df['ret'].notna() | df['dlret'].notna())\n",
    "#     df = df.drop(columns=['ret', 'dlret'])\n",
    "    \n",
    "#     # declare index & sort\n",
    "#     df.set_index(['date','permno'], inplace=True)\n",
    "#     df = df.sort_index()\n",
    "    \n",
    "#     # save\n",
    "#     df.to_pickle(path='../data/raw/crsp_{}.pkl'.format(year))\n",
    "    \n",
    "#     return df"
   ]
  },
  {
   "cell_type": "code",
   "execution_count": 10,
   "metadata": {},
   "outputs": [
    {
     "name": "stdout",
     "output_type": "stream",
     "text": [
      "collected 217.31 MB on 2020-10-05 20:56:12.389834 in 31 seconds\n",
      "collected 235.08 MB on 2020-10-05 20:56:48.259062 in 32 seconds\n",
      "collected 240.97 MB on 2020-10-05 20:57:27.736546 in 35 seconds\n",
      "collected 257.01 MB on 2020-10-05 20:58:10.428337 in 39 seconds\n",
      "collected 264.94 MB on 2020-10-05 20:58:53.253316 in 38 seconds\n",
      "collected 257.68 MB on 2020-10-05 20:59:35.595328 in 37 seconds\n",
      "collected 240.31 MB on 2020-10-05 21:00:21.410822 in 40 seconds\n",
      "collected 232.54 MB on 2020-10-05 21:01:12.233252 in 46 seconds\n",
      "collected 208.39 MB on 2020-10-05 21:01:59.675220 in 43 seconds\n",
      "collected 192.13 MB on 2020-10-05 21:03:43.902275 in 100 seconds\n",
      "collected 177.62 MB on 2020-10-05 21:04:35.989116 in 48 seconds\n",
      "collected 171.78 MB on 2020-10-05 21:05:22.853649 in 43 seconds\n",
      "collected 169.76 MB on 2020-10-05 21:06:14.027251 in 48 seconds\n",
      "collected 166.43 MB on 2020-10-05 21:06:43.371404 in 26 seconds\n",
      "collected 163.86 MB on 2020-10-05 21:07:12.032965 in 26 seconds\n",
      "collected 159.73 MB on 2020-10-05 21:07:47.673234 in 32 seconds\n",
      "collected 148.29 MB on 2020-10-05 21:08:32.444504 in 42 seconds\n",
      "collected 142.48 MB on 2020-10-05 21:09:13.808353 in 39 seconds\n",
      "collected 137.16 MB on 2020-10-05 21:09:41.636077 in 25 seconds\n",
      "collected 131.43 MB on 2020-10-05 21:10:04.726288 in 21 seconds\n",
      "collected 129.48 MB on 2020-10-05 21:10:27.855492 in 21 seconds\n",
      "collected 132.56 MB on 2020-10-05 21:11:09.459788 in 40 seconds\n",
      "collected 134.21 MB on 2020-10-05 21:11:34.757132 in 22 seconds\n",
      "collected 130.63 MB on 2020-10-05 21:12:00.436274 in 24 seconds\n",
      "collected 127.79 MB on 2020-10-05 21:12:26.653883 in 24 seconds\n",
      "collected 127.73 MB on 2020-10-05 21:13:09.968893 in 41 seconds\n",
      "collected 128.46 MB on 2020-10-05 21:13:58.981209 in 47 seconds\n"
     ]
    }
   ],
   "source": [
    "for year in range(1993, 2020):\n",
    "    df = src.crsp.download_crsp_year(wrds_conn, year)\n",
    "    df.to_pickle(path='../data/raw/crsp_{}.pkl'.format(year))"
   ]
  },
  {
   "cell_type": "code",
   "execution_count": null,
   "metadata": {},
   "outputs": [],
   "source": []
  },
  {
   "cell_type": "code",
   "execution_count": null,
   "metadata": {},
   "outputs": [],
   "source": []
  },
  {
   "cell_type": "code",
   "execution_count": 11,
   "metadata": {},
   "outputs": [],
   "source": [
    "# start_date = '12/01/1993'\n",
    "# end_date = '12/31/2019'\n",
    "\n",
    "# sql_crsp = '''\n",
    "#     SELECT \n",
    "#     a.permno,\n",
    "#     a.date,\n",
    "#     a.ret,\n",
    "#     a.shrout * a.prc AS mcap,\n",
    "#     SQRT(0.3607) * POWER(LOG(NULLIF(a.askhi, 0)) - LOG(NULLIF(a.bidlo, 0)), 1) AS vola\n",
    "    \n",
    "#     FROM crsp.dsf AS a\n",
    "    \n",
    "#     LEFT JOIN crsp.msenames AS b\n",
    "#     ON a.permno=b.permno\n",
    "#     AND b.namedt<=a.date\n",
    "#     AND a.date<=b.nameendt\n",
    "    \n",
    "#     WHERE a.date BETWEEN '{}' AND '{}'\n",
    "#     AND b.exchcd BETWEEN 1 AND 3\n",
    "#     AND b.shrcd BETWEEN 10 AND 11\n",
    "#     '''\\\n",
    "#     .format(start_date, end_date)"
   ]
  },
  {
   "cell_type": "code",
   "execution_count": 12,
   "metadata": {},
   "outputs": [],
   "source": [
    "# df_crsp_raw = src.loader.query_SQL(wrds_conn, sql_crsp)\n",
    "# #df_crsp_raw.to_pickle(path='../data/raw/crsp_raw.pkl')"
   ]
  },
  {
   "cell_type": "markdown",
   "metadata": {},
   "source": [
    "### Delisting Returns"
   ]
  },
  {
   "cell_type": "code",
   "execution_count": 13,
   "metadata": {},
   "outputs": [],
   "source": [
    "# sql_delisting = '''\n",
    "#     SELECT\n",
    "#     permno,\n",
    "#     dlret,\n",
    "#     dlstdt AS date\n",
    "    \n",
    "#     FROM crsp.msedelist\n",
    "#     '''"
   ]
  },
  {
   "cell_type": "code",
   "execution_count": 14,
   "metadata": {},
   "outputs": [
    {
     "name": "stdout",
     "output_type": "stream",
     "text": [
      "collected 1.88 MB on 2020-10-05 21:14:02.418003 in 0 seconds\n"
     ]
    }
   ],
   "source": [
    "df_delist = src.crsp.download_delisting(wrds_conn)\n",
    "df_delist.to_pickle(path='../data/raw/delisting.pkl')"
   ]
  },
  {
   "cell_type": "markdown",
   "metadata": {},
   "source": [
    "### Descriptive Data"
   ]
  },
  {
   "cell_type": "code",
   "execution_count": 15,
   "metadata": {},
   "outputs": [],
   "source": [
    "# sql_descriptive = '''\n",
    "#     SELECT\n",
    "#     permno,\n",
    "#     comnam, \n",
    "#     ticker,\n",
    "#     st_date,\n",
    "#     end_date,\n",
    "#     exchcd\n",
    "    \n",
    "#     FROM crsp_a_stock.stocknames\n",
    "#     '''"
   ]
  },
  {
   "cell_type": "code",
   "execution_count": 16,
   "metadata": {},
   "outputs": [],
   "source": [
    "# sql_descriptive = '''\n",
    "#     SELECT\n",
    "#     permno,\n",
    "#     comnam, \n",
    "#     ticker,\n",
    "#     namedt,\n",
    "#     nameendt,\n",
    "#     exchcd\n",
    "    \n",
    "#     FROM crsp.msenames\n",
    "#     '''"
   ]
  },
  {
   "cell_type": "code",
   "execution_count": 17,
   "metadata": {},
   "outputs": [
    {
     "name": "stdout",
     "output_type": "stream",
     "text": [
      "collected 24.02 MB on 2020-10-05 21:14:04.716836 in 1 seconds\n"
     ]
    }
   ],
   "source": [
    "df_descriptive = src.crsp.download_descriptive(wrds_conn)\n",
    "df_descriptive.to_pickle(path='../data/raw/descriptive.pkl')"
   ]
  },
  {
   "cell_type": "markdown",
   "metadata": {},
   "source": [
    "## Download FF data"
   ]
  },
  {
   "cell_type": "markdown",
   "metadata": {},
   "source": [
    "### SQL Query"
   ]
  },
  {
   "cell_type": "code",
   "execution_count": 18,
   "metadata": {},
   "outputs": [],
   "source": [
    "# sql_ff = '''\n",
    "#     SELECT *\n",
    "    \n",
    "#     FROM ff_all.factors_daily \n",
    "    \n",
    "#     WHERE date BETWEEN '01/01/2000' AND '12/31/2019'\n",
    "#     '''"
   ]
  },
  {
   "cell_type": "code",
   "execution_count": 19,
   "metadata": {},
   "outputs": [
    {
     "name": "stdout",
     "output_type": "stream",
     "text": [
      "collected 1.99 MB on 2020-10-05 21:14:05.796680 in 0 seconds\n"
     ]
    }
   ],
   "source": [
    "df_ff = src.crsp.download_famafrench(wrds_conn)\n",
    "df_ff.to_pickle(path='../data/raw/ff_factors.pkl')"
   ]
  },
  {
   "cell_type": "markdown",
   "metadata": {},
   "source": [
    "## SPDR Trust SPY Index data"
   ]
  },
  {
   "cell_type": "code",
   "execution_count": 20,
   "metadata": {},
   "outputs": [],
   "source": [
    "# sql_spy = '''\n",
    "#     SELECT\n",
    "#     a.date,\n",
    "#     a.prc,\n",
    "#     a.ret,\n",
    "#     SQRT(0.361) * POWER(LOG(NULLIF(a.askhi, 0)) - LOG(NULLIF(a.bidlo, 0)), 1) AS vola\n",
    "    \n",
    "#     FROM crsp.dsf AS a\n",
    "    \n",
    "#     LEFT JOIN crsp.msenames AS b\n",
    "#     ON a.permno=b.permno\n",
    "    \n",
    "#     WHERE b.exchcd=4\n",
    "#     AND b.ticker='SPY'\n",
    "#     AND b.comnam='SPDR TRUST'\n",
    "#     '''"
   ]
  },
  {
   "cell_type": "code",
   "execution_count": 21,
   "metadata": {},
   "outputs": [
    {
     "name": "stdout",
     "output_type": "stream",
     "text": [
      "collected 0.43 MB on 2020-10-05 21:14:06.230889 in 0 seconds\n"
     ]
    }
   ],
   "source": [
    "df_spy = src.crsp.download_SPY(wrds_conn)\n",
    "df_spy.to_pickle(path='../data/raw/spy.pkl')"
   ]
  }
 ],
 "metadata": {
  "kernelspec": {
   "display_name": "Python 3",
   "language": "python",
   "name": "python3"
  },
  "language_info": {
   "codemirror_mode": {
    "name": "ipython",
    "version": 3
   },
   "file_extension": ".py",
   "mimetype": "text/x-python",
   "name": "python",
   "nbconvert_exporter": "python",
   "pygments_lexer": "ipython3",
   "version": "3.6.9"
  }
 },
 "nbformat": 4,
 "nbformat_minor": 4
}
