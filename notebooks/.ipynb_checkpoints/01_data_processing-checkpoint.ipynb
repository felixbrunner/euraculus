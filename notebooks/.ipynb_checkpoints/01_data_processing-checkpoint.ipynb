{
 "cells": [
  {
   "cell_type": "markdown",
   "metadata": {},
   "source": [
    "# 01 - Data Preparation"
   ]
  },
  {
   "cell_type": "markdown",
   "metadata": {},
   "source": [
    "## Imports"
   ]
  },
  {
   "cell_type": "code",
   "execution_count": 1,
   "metadata": {},
   "outputs": [],
   "source": [
    "import pandas as pd\n",
    "import numpy as np\n",
    "import datetime as dt\n",
    "import sys"
   ]
  },
  {
   "cell_type": "markdown",
   "metadata": {},
   "source": [
    "## Load raw data"
   ]
  },
  {
   "cell_type": "code",
   "execution_count": 2,
   "metadata": {},
   "outputs": [],
   "source": [
    "df_crsp_raw = pd.read_pickle('../data/raw/df_crsp_raw.pkl')"
   ]
  },
  {
   "cell_type": "code",
   "execution_count": 3,
   "metadata": {},
   "outputs": [],
   "source": [
    "df_crsp_delist = pd.read_pickle('../data/raw/df_crsp_delist.pkl')"
   ]
  },
  {
   "cell_type": "code",
   "execution_count": 4,
   "metadata": {},
   "outputs": [],
   "source": [
    "df_crsp_desc = pd.read_pickle('../data/raw/df_crsp_desc.pkl')"
   ]
  },
  {
   "cell_type": "code",
   "execution_count": 5,
   "metadata": {},
   "outputs": [],
   "source": [
    "df_ff_raw = pd.read_pickle('../data/raw/df_ff_raw.pkl')"
   ]
  },
  {
   "cell_type": "markdown",
   "metadata": {},
   "source": [
    "## Format FF data"
   ]
  },
  {
   "cell_type": "code",
   "execution_count": 6,
   "metadata": {},
   "outputs": [],
   "source": [
    "# edit data formats\n",
    "df_ff_raw['date'] = pd.to_datetime(df_ff_raw['date'], yearfirst=True)\n",
    "\n",
    "# declare index\n",
    "df_ff_raw.set_index('date', inplace=True)"
   ]
  },
  {
   "cell_type": "code",
   "execution_count": 7,
   "metadata": {},
   "outputs": [],
   "source": [
    "df_ff_raw.to_pickle(path='../data/interim/df_ff.pkl')"
   ]
  },
  {
   "cell_type": "markdown",
   "metadata": {},
   "source": [
    "## Transform CRSP data to tidy data format & adjust returns for delisting"
   ]
  },
  {
   "cell_type": "code",
   "execution_count": 8,
   "metadata": {},
   "outputs": [],
   "source": [
    "df_crsp_tidy = df_crsp_raw.reset_index()\n",
    "del df_crsp_raw"
   ]
  },
  {
   "cell_type": "code",
   "execution_count": 9,
   "metadata": {},
   "outputs": [],
   "source": [
    "# edit data formats\n",
    "df_crsp_tidy['date'] = pd.to_datetime(df_crsp_tidy['date'], yearfirst=True)\n",
    "df_crsp_tidy[['permno']] = df_crsp_tidy[['permno']].astype(int)\n",
    "\n",
    "df_crsp_delist['permno'] = df_crsp_delist['permno'].astype(int)\n",
    "df_crsp_delist['date'] = pd.to_datetime(df_crsp_delist['date'], yearfirst=True)"
   ]
  },
  {
   "cell_type": "code",
   "execution_count": 10,
   "metadata": {},
   "outputs": [],
   "source": [
    "# merge\n",
    "df_crsp_tidy = df_crsp_tidy.merge(df_crsp_delist, how='left', on=['permno','date'])"
   ]
  },
  {
   "cell_type": "code",
   "execution_count": 11,
   "metadata": {},
   "outputs": [],
   "source": [
    "# adjusted returns (for delisting)\n",
    "df_crsp_tidy['retadj'] = (1+df_crsp_tidy['ret'].fillna(0))*(1+df_crsp_tidy['dlret'].fillna(0))-1\n",
    "df_crsp_tidy['retadj'] = df_crsp_tidy['retadj'].where(df_crsp_tidy['ret'].notna() | df_crsp_tidy['dlret'].notna())"
   ]
  },
  {
   "cell_type": "code",
   "execution_count": 12,
   "metadata": {},
   "outputs": [],
   "source": [
    "# declare index & sort\n",
    "df_crsp_tidy.set_index(['date','permno'], inplace=True)\n",
    "df_crsp_tidy = df_crsp_tidy.drop(columns=['index', 'dlret'])\n",
    "df_crsp_tidy = df_crsp_tidy.sort_index()"
   ]
  },
  {
   "cell_type": "code",
   "execution_count": 13,
   "metadata": {},
   "outputs": [],
   "source": [
    "df_crsp_tidy.to_pickle(path='../data/interim/df_crsp_tidy.pkl')"
   ]
  },
  {
   "cell_type": "markdown",
   "metadata": {},
   "source": [
    "## Format descriptive data"
   ]
  },
  {
   "cell_type": "code",
   "execution_count": 14,
   "metadata": {},
   "outputs": [],
   "source": [
    "df_crsp_desc['permno'] = df_crsp_desc['permno'].astype(int)\n",
    "df_aux = df_crsp_desc\\\n",
    "                    .groupby('permno')\\\n",
    "                    .last()#\\\n",
    "                    #.drop(columns=['exchcd'])"
   ]
  },
  {
   "cell_type": "code",
   "execution_count": 15,
   "metadata": {},
   "outputs": [],
   "source": [
    "df_aux.to_pickle(path='../data/interim/df_aux.pkl')"
   ]
  },
  {
   "cell_type": "markdown",
   "metadata": {},
   "source": [
    "## Filter biggest Assets per Year"
   ]
  },
  {
   "cell_type": "code",
   "execution_count": 16,
   "metadata": {},
   "outputs": [],
   "source": [
    "# TEMPORARY CELL\n",
    "df_crsp_tidy = pd.read_pickle('../data/interim/df_crsp_tidy.pkl')\n",
    "df_aux = pd.read_pickle('../data/interim/df_aux.pkl')"
   ]
  },
  {
   "cell_type": "code",
   "execution_count": 17,
   "metadata": {},
   "outputs": [],
   "source": [
    "# parameters\n",
    "N_LARGEST = 100\n",
    "ESTIMATION_YEARS = 1\n",
    "ANALYSIS_YEARS = 1"
   ]
  },
  {
   "cell_type": "code",
   "execution_count": 18,
   "metadata": {},
   "outputs": [],
   "source": [
    "# select years\n",
    "sample_years = list(df_crsp_tidy.index.get_level_values('date').year.unique())\n",
    "if (df_crsp_tidy.index.get_level_values('date').year==sample_years[0]).sum() < (df_crsp_tidy.index.get_level_values('date').year==sample_years[1]).sum()*0.5:\n",
    "    sample_years = sample_years[1:]"
   ]
  },
  {
   "cell_type": "code",
   "execution_count": 19,
   "metadata": {},
   "outputs": [],
   "source": [
    "# select assets function\n",
    "def select_assets(df_estimation, n_assets):\n",
    "    year_obs = len(df_estimation['ret'].unstack())\n",
    "    \n",
    "    df_select = pd.DataFrame()\n",
    "    df_select['full_year'] = df_estimation['retadj']\\\n",
    "                                .groupby('permno')\\\n",
    "                                .count() > year_obs*0.99\n",
    "    df_select['size'] = df_estimation['mcap']\\\n",
    "                                .unstack()\\\n",
    "                                .sort_index()\\\n",
    "                                .fillna(method='ffill', limit=1)\\\n",
    "                                .tail(1)\\\n",
    "                                .squeeze()\n",
    "    df_select['size_rank'] = df_select['size']\\\n",
    "                                .where(df_select['full_year'])\\\n",
    "                                .rank(ascending=False)\n",
    "    \n",
    "    selected_assets = list(df_select.index[df_select['size_rank'] <= n_assets])\n",
    "    return selected_assets"
   ]
  },
  {
   "cell_type": "code",
   "execution_count": 52,
   "metadata": {},
   "outputs": [
    {
     "name": "stdout",
     "output_type": "stream",
     "text": [
      "2000 2020-05-25 15:23:04.772932\n"
     ]
    }
   ],
   "source": [
    "df_estimation_tidy = pd.Series(dtype='float', index=pd.MultiIndex.from_arrays([[],[]]))\n",
    "df_analysis_tidy = pd.Series(dtype='float', index=pd.MultiIndex.from_arrays([[],[]]))\n",
    "df_indices = pd.DataFrame()\n",
    "\n",
    "for year in sample_years[ESTIMATION_YEARS-1:ESTIMATION_YEARS]:#[ESTIMATION_YEARS-1:-ANALYSIS_YEARS]:\n",
    "    # slice time dime dimension\n",
    "    df_estimation = df_crsp_tidy[(df_crsp_tidy.index.get_level_values('date').year > year-ESTIMATION_YEARS)\\\n",
    "                                      & (df_crsp_tidy.index.get_level_values('date').year <= year)]\n",
    "    df_analysis = df_crsp_tidy[(df_crsp_tidy.index.get_level_values('date').year > year)\\\n",
    "                                      & (df_crsp_tidy.index.get_level_values('date').year <= year+ANALYSIS_YEARS)]\n",
    "\n",
    "    # slice assets\n",
    "    selected_assets = select_assets(df_estimation, N_LARGEST)\n",
    "    df_estimation = df_estimation[[i in selected_assets for i in df_estimation.index.get_level_values('permno')]]\n",
    "    df_analysis = df_analysis[[i in selected_assets for i in df_analysis.index.get_level_values('permno')]]\n",
    "\n",
    "    # output adjusted returns data\n",
    "    df_estimation = df_estimation['retadj'].unstack().fillna(0)\n",
    "    df_analysis = df_analysis['retadj'].unstack()\n",
    "    df_descriptive = df_aux.loc[selected_assets]\n",
    "    \n",
    "    # save\n",
    "    df_estimation.to_csv('../data/processed/yearly/df_estimation_'+str(year)+'.csv')\n",
    "    df_analysis.to_csv('../data/processed/yearly/df_analysis_'+str(year)+'.csv')\n",
    "    df_descriptive.to_csv('../data/processed/yearly/df_descriptive_'+str(year)+'.csv')\n",
    "    \n",
    "    # collect full timeline\n",
    "    df_estimation_tidy = df_estimation_tidy.append(df_estimation.stack())\n",
    "    df_analysis_tidy = df_analysis_tidy.append(df_analysis.stack())\n",
    "    df_indices[year] = selected_assets\n",
    "    \n",
    "    print(year, dt.datetime.today())"
   ]
  },
  {
   "cell_type": "code",
   "execution_count": 26,
   "metadata": {},
   "outputs": [],
   "source": [
    "df_estimation = df_crsp_tidy[(df_crsp_tidy.index.get_level_values('date').year > year-ESTIMATION_YEARS)\\\n",
    "                                      & (df_crsp_tidy.index.get_level_values('date').year <= year)]\n",
    "df_analysis = df_crsp_tidy[(df_crsp_tidy.index.get_level_values('date').year > year)\\\n",
    "                                      & (df_crsp_tidy.index.get_level_values('date').year <= year+ANALYSIS_YEARS)]"
   ]
  },
  {
   "cell_type": "code",
   "execution_count": 35,
   "metadata": {},
   "outputs": [],
   "source": [
    "in_est = ([i in df_estimation.index.get_level_values('permno') for i in selected_assets])"
   ]
  },
  {
   "cell_type": "code",
   "execution_count": 36,
   "metadata": {},
   "outputs": [],
   "source": [
    "in_ana = ([i in df_analysis.index.get_level_values('permno') for i in selected_assets])"
   ]
  },
  {
   "cell_type": "code",
   "execution_count": 44,
   "metadata": {},
   "outputs": [],
   "source": [
    "diff = [i and not j for (i,j) in zip(in_est,in_ana)]"
   ]
  },
  {
   "cell_type": "code",
   "execution_count": 48,
   "metadata": {},
   "outputs": [
    {
     "data": {
      "text/html": [
       "<div>\n",
       "<style scoped>\n",
       "    .dataframe tbody tr th:only-of-type {\n",
       "        vertical-align: middle;\n",
       "    }\n",
       "\n",
       "    .dataframe tbody tr th {\n",
       "        vertical-align: top;\n",
       "    }\n",
       "\n",
       "    .dataframe thead th {\n",
       "        text-align: right;\n",
       "    }\n",
       "</style>\n",
       "<table border=\"1\" class=\"dataframe\">\n",
       "  <thead>\n",
       "    <tr style=\"text-align: right;\">\n",
       "      <th></th>\n",
       "      <th>0</th>\n",
       "    </tr>\n",
       "  </thead>\n",
       "  <tbody>\n",
       "    <tr>\n",
       "      <th>59</th>\n",
       "      <td>48071</td>\n",
       "    </tr>\n",
       "  </tbody>\n",
       "</table>\n",
       "</div>"
      ],
      "text/plain": [
       "        0\n",
       "59  48071"
      ]
     },
     "execution_count": 48,
     "metadata": {},
     "output_type": "execute_result"
    }
   ],
   "source": [
    "pd.DataFrame(selected_assets).loc[diff]"
   ]
  },
  {
   "cell_type": "code",
   "execution_count": 51,
   "metadata": {},
   "outputs": [
    {
     "data": {
      "text/plain": [
       "comnam      MORGAN J P & CO INC\n",
       "ticker                      JPM\n",
       "st_date              1969-04-30\n",
       "end_date             2000-12-29\n",
       "exchcd                        1\n",
       "Name: 48071, dtype: object"
      ]
     },
     "execution_count": 51,
     "metadata": {},
     "output_type": "execute_result"
    }
   ],
   "source": [
    "df_aux.loc[48071]"
   ]
  },
  {
   "cell_type": "code",
   "execution_count": null,
   "metadata": {},
   "outputs": [],
   "source": [
    "df_estimation_tidy.to_pickle(path='../data/processed/df_estimation.pkl')\n",
    "df_analysis_tidy.to_pickle(path='../data/processed/df_analysis.pkl')\n",
    "df_indices.to_pickle(path='../data/processed/df_indices.pkl')"
   ]
  }
 ],
 "metadata": {
  "kernelspec": {
   "display_name": "Python 3",
   "language": "python",
   "name": "python3"
  },
  "language_info": {
   "codemirror_mode": {
    "name": "ipython",
    "version": 3
   },
   "file_extension": ".py",
   "mimetype": "text/x-python",
   "name": "python",
   "nbconvert_exporter": "python",
   "pygments_lexer": "ipython3",
   "version": "3.7.0"
  }
 },
 "nbformat": 4,
 "nbformat_minor": 2
}
