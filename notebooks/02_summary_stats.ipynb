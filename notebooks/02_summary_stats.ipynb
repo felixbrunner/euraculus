{
 "cells": [
  {
   "cell_type": "markdown",
   "metadata": {},
   "source": [
    "# Data Summary Stats\n",
    "## Imports"
   ]
  },
  {
   "cell_type": "code",
   "execution_count": 1,
   "metadata": {
    "pycharm": {
     "is_executing": false
    }
   },
   "outputs": [],
   "source": [
    "%load_ext autoreload\n",
    "%autoreload 2"
   ]
  },
  {
   "cell_type": "code",
   "execution_count": 2,
   "metadata": {},
   "outputs": [
    {
     "name": "stderr",
     "output_type": "stream",
     "text": [
      "/home/rubelrennfix/.virtualenvs/euraculus/lib/python3.6/site-packages/pandas_datareader/compat/__init__.py:7: FutureWarning: pandas.util.testing is deprecated. Use the functions in the public API at pandas.testing instead.\n",
      "  from pandas.util.testing import assert_frame_equal\n"
     ]
    }
   ],
   "source": [
    "import pandas as pd\n",
    "import datetime as dt\n",
    "\n",
    "import sys\n",
    "\n",
    "sys.path.append('../')\n",
    "import src\n",
    "\n",
    "sys.path.append('../../kungfu/')\n",
    "import kungfu as kf"
   ]
  },
  {
   "cell_type": "markdown",
   "metadata": {},
   "source": [
    "## Process all years"
   ]
  },
  {
   "cell_type": "code",
   "execution_count": 13,
   "metadata": {},
   "outputs": [
    {
     "name": "stdout",
     "output_type": "stream",
     "text": [
      "processed sampling year 1993\n",
      "processed sampling year 1994\n",
      "processed sampling year 1995\n",
      "processed sampling year 1996\n",
      "processed sampling year 1997\n",
      "processed sampling year 1998\n",
      "processed sampling year 1999\n",
      "processed sampling year 2000\n",
      "processed sampling year 2001\n",
      "processed sampling year 2002\n",
      "processed sampling year 2003\n",
      "processed sampling year 2004\n",
      "processed sampling year 2005\n",
      "processed sampling year 2006\n",
      "processed sampling year 2007\n",
      "processed sampling year 2008\n",
      "processed sampling year 2009\n",
      "processed sampling year 2010\n",
      "processed sampling year 2011\n",
      "processed sampling year 2012\n",
      "processed sampling year 2013\n",
      "processed sampling year 2014\n",
      "processed sampling year 2015\n",
      "processed sampling year 2016\n",
      "processed sampling year 2017\n",
      "processed sampling year 2018\n",
      "processed sampling year 2019\n"
     ]
    }
   ],
   "source": [
    "df_stats = pd.DataFrame()\n",
    "for year in range(1960, 2020):\n",
    "    returns = kf.FinancialDataFrame(src.loader.load_year(year, data='returns', data_year=year))\n",
    "    if year != 2019:\n",
    "        next_returns = kf.FinancialDataFrame(src.loader.load_year(year, data='returns', data_year=year+1))\n",
    "        first_quarter = next_returns[next_returns.index.quarter==1]\n",
    "        first_month = next_returns[next_returns.index.month==1]\n",
    "    \n",
    "    year_stats = returns.summarise_performance(annual_obs=252).T\n",
    "    year_stats.columns = [col+' (t)' for col in year_stats.columns]\n",
    "    if year != 2019:\n",
    "        next_year_stats = next_returns.summarise_performance(annual_obs=252).T\n",
    "        next_year_stats.columns = [col+' (t+1)' for col in next_year_stats.columns]\n",
    "        year_stats = year_stats.join(next_year_stats)\n",
    "        \n",
    "        first_quarter_stats = first_quarter.summarise_performance(annual_obs=252).T\n",
    "        first_quarter_stats.columns = [col+' (3M)' for col in first_quarter_stats.columns]\n",
    "        year_stats = year_stats.join(first_quarter_stats)\n",
    "        \n",
    "        first_month_stats = first_month.summarise_performance(annual_obs=252).T\n",
    "        first_month_stats.columns = [col+' (1M)' for col in first_month_stats.columns]\n",
    "        year_stats = year_stats.join(first_month_stats)\n",
    "        \n",
    "    year_stats.index = pd.MultiIndex.from_product([[year], year_stats.index], names=['sampling_year', 'permno'])\n",
    "    \n",
    "    # collect\n",
    "    df_stats = df_stats.append(year_stats)\n",
    "    \n",
    "    # progress\n",
    "    print('processed sampling year {}'.format(year))\n",
    "    \n",
    "df_stats.to_csv('../data/estimated/summary_stats.csv')"
   ]
  },
  {
   "cell_type": "code",
   "execution_count": 3,
   "metadata": {},
   "outputs": [
    {
     "ename": "NameError",
     "evalue": "name 'df_stats' is not defined",
     "output_type": "error",
     "traceback": [
      "\u001b[0;31m---------------------------------------------------------------------------\u001b[0m",
      "\u001b[0;31mNameError\u001b[0m                                 Traceback (most recent call last)",
      "\u001b[0;32m<ipython-input-3-318aa435abff>\u001b[0m in \u001b[0;36m<module>\u001b[0;34m\u001b[0m\n\u001b[0;32m----> 1\u001b[0;31m \u001b[0mdf_stats\u001b[0m\u001b[0;34m.\u001b[0m\u001b[0mcolumns\u001b[0m\u001b[0;34m\u001b[0m\u001b[0;34m\u001b[0m\u001b[0m\n\u001b[0m",
      "\u001b[0;31mNameError\u001b[0m: name 'df_stats' is not defined"
     ]
    }
   ],
   "source": [
    "df_stats.columns"
   ]
  },
  {
   "cell_type": "code",
   "execution_count": null,
   "metadata": {},
   "outputs": [],
   "source": []
  }
 ],
 "metadata": {
  "kernelspec": {
   "display_name": "Python 3",
   "language": "python",
   "name": "python3"
  },
  "language_info": {
   "codemirror_mode": {
    "name": "ipython",
    "version": 3
   },
   "file_extension": ".py",
   "mimetype": "text/x-python",
   "name": "python",
   "nbconvert_exporter": "python",
   "pygments_lexer": "ipython3",
   "version": "3.6.9"
  }
 },
 "nbformat": 4,
 "nbformat_minor": 4
}
