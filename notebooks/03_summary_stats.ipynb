{
 "cells": [
  {
   "cell_type": "markdown",
   "metadata": {},
   "source": [
    "# 03 - Data Summary Stats\n",
    "\n",
    "\n",
    "\n",
    "## Imports"
   ]
  },
  {
   "cell_type": "code",
   "execution_count": 1,
   "metadata": {
    "pycharm": {
     "is_executing": false
    }
   },
   "outputs": [],
   "source": [
    "%load_ext autoreload\n",
    "%autoreload 2"
   ]
  },
  {
   "cell_type": "code",
   "execution_count": 2,
   "metadata": {},
   "outputs": [
    {
     "name": "stderr",
     "output_type": "stream",
     "text": [
      "/home/fbrun/.local/lib/python3.6/site-packages/pandas_datareader/compat/__init__.py:7: FutureWarning: pandas.util.testing is deprecated. Use the functions in the public API at pandas.testing instead.\n",
      "  from pandas.util.testing import assert_frame_equal\n"
     ]
    }
   ],
   "source": [
    "import pandas as pd\n",
    "import datetime as dt\n",
    "\n",
    "import sys\n",
    "\n",
    "sys.path.append('../')\n",
    "import src\n",
    "\n",
    "# sys.path.append('../../kungfu/')\n",
    "# import kungfu as kf"
   ]
  },
  {
   "cell_type": "markdown",
   "metadata": {},
   "source": [
    "#### Assets & EW & VW"
   ]
  },
  {
   "cell_type": "code",
   "execution_count": 23,
   "metadata": {},
   "outputs": [
    {
     "name": "stdout",
     "output_type": "stream",
     "text": [
      "Done estimating year 1994\n",
      "Done estimating year 1995\n",
      "Done estimating year 1996\n",
      "Done estimating year 1997\n",
      "Done estimating year 1998\n",
      "Done estimating year 1999\n",
      "Done estimating year 2000\n",
      "Done estimating year 2001\n",
      "Done estimating year 2002\n",
      "Done estimating year 2003\n",
      "Done estimating year 2004\n",
      "Done estimating year 2005\n",
      "Done estimating year 2006\n",
      "Done estimating year 2007\n",
      "Done estimating year 2008\n",
      "Done estimating year 2009\n",
      "Done estimating year 2010\n",
      "Done estimating year 2011\n",
      "Done estimating year 2012\n",
      "Done estimating year 2013\n",
      "Done estimating year 2014\n",
      "Done estimating year 2015\n",
      "Done estimating year 2016\n",
      "Done estimating year 2017\n",
      "Done estimating year 2018\n",
      "Done estimating year 2019\n",
      "Done estimating year 2020\n",
      "CPU times: user 13min 27s, sys: 6.5 s, total: 13min 34s\n",
      "Wall time: 13min 39s\n"
     ]
    }
   ],
   "source": [
    "%%time\n",
    "df_stats = pd.DataFrame()\n",
    "for year in range(1994, 2021):\n",
    "    for month in range(1, 12+1):\n",
    "        df_back = src.loader.load_monthly_crsp(year, month, which='back')\n",
    "        df_back['retadj'] = (df_back['retadj'].unstack() - src.loader.load_rf(year=year, month=month, which='back').values).stack()\n",
    "        sampling_date = df_back.unstack().index[-1]\n",
    "        n_months = len(df_back.unstack().index.to_period('M').unique())\n",
    "        \n",
    "        # estimate\n",
    "        back_stats = src.utils.summarise_returns(df_back)\n",
    "        back_stats.index = pd.MultiIndex.from_product([[sampling_date], back_stats.index], names=['sampling_date', 'permno'])\n",
    "        back_stats.columns = [column+'_back_{}M'.format(n_months) for column in back_stats.columns]\n",
    "       \n",
    "        ## forward part\n",
    "        if not (year==2020 and month==12):\n",
    "            df_forward = src.loader.load_monthly_crsp(year, month, which='forward')\n",
    "            df_forward['retadj'] = (df_forward['retadj'].unstack() - src.loader.load_rf(year=year, month=month, which='forward').values).stack()\n",
    "            months = df_forward.unstack().index.to_period('M').unique().tolist()\n",
    "        \n",
    "        # estimate\n",
    "        forward_stats = pd.DataFrame(index=back_stats.index)\n",
    "        for i in range(1, len(months)+1):\n",
    "            if not (year==2020 and month==12):\n",
    "                data = (df_forward.unstack()[df_forward.unstack().index.to_period('M').isin(months[:i])]).stack()\n",
    "                month_stats = src.utils.summarise_returns(data)\n",
    "                month_stats.index = pd.MultiIndex.from_product([[sampling_date], month_stats.index], names=['sampling_date', 'permno'])\n",
    "                month_stats.columns = [column+'_forward_{}M'.format(i) for column in month_stats.columns]\n",
    "                forward_stats = forward_stats.join(month_stats)\n",
    "                \n",
    "        # combine\n",
    "        stats = back_stats.join(forward_stats)\n",
    "        df_stats = df_stats.append(stats)\n",
    "    print('Done estimating year {}'.format(year))\n",
    "        \n",
    "    df_stats.to_csv('../data/estimated/summary_stats.csv')"
   ]
  },
  {
   "cell_type": "markdown",
   "metadata": {},
   "source": [
    "#### SPY"
   ]
  },
  {
   "cell_type": "code",
   "execution_count": 6,
   "metadata": {},
   "outputs": [
    {
     "name": "stdout",
     "output_type": "stream",
     "text": [
      "Done estimating year 1994\n",
      "Done estimating year 1995\n",
      "Done estimating year 1996\n",
      "Done estimating year 1997\n",
      "Done estimating year 1998\n",
      "Done estimating year 1999\n",
      "Done estimating year 2000\n",
      "Done estimating year 2001\n",
      "Done estimating year 2002\n",
      "Done estimating year 2003\n",
      "Done estimating year 2004\n",
      "Done estimating year 2005\n",
      "Done estimating year 2006\n",
      "Done estimating year 2007\n",
      "Done estimating year 2008\n",
      "Done estimating year 2009\n",
      "Done estimating year 2010\n",
      "Done estimating year 2011\n",
      "Done estimating year 2012\n",
      "Done estimating year 2013\n",
      "Done estimating year 2014\n",
      "Done estimating year 2015\n",
      "Done estimating year 2016\n",
      "Done estimating year 2017\n",
      "Done estimating year 2018\n",
      "Done estimating year 2019\n",
      "Done estimating year 2020\n",
      "CPU times: user 46.9 s, sys: 14 s, total: 1min\n",
      "Wall time: 1min 1s\n"
     ]
    }
   ],
   "source": [
    "%%time\n",
    "spy = src.loader.load_spy()\n",
    "spy_stats = pd.DataFrame()\n",
    "for year in range(1994, 2021):\n",
    "    for month in range(1, 12+1):\n",
    "        back_dates = src.loader.load_monthly_crsp(year, month, which='back').index.get_level_values('date').unique()\n",
    "        sampling_date = back_dates[-1]\n",
    "        n_months = len(back_dates.to_period('M').unique())\n",
    "        \n",
    "        # estimate\n",
    "        back_spy = spy.loc[spy.index.isin(back_dates), 'ret']\n",
    "        stats = pd.DataFrame(data = back_spy.agg([lambda x: (1+x).prod()-1, lambda x: x.var()*252]).values.reshape(1, -1),\n",
    "                                  index=[sampling_date],\n",
    "                                  columns=['ret', 'var'])\n",
    "        stats.columns = [column+'_back_{}M'.format(n_months) for column in stats.columns]\n",
    "       \n",
    "        ## forward part\n",
    "        forward_dates = src.loader.load_monthly_crsp(year, month, which='forward').index.get_level_values('date').unique()\n",
    "        months = forward_dates.to_period('M').unique().tolist()\n",
    "        \n",
    "        # estimate\n",
    "        forward_stats = pd.DataFrame(index=back_stats.index)\n",
    "        for i in range(1, len(months)+1):\n",
    "            months_spy = spy.loc[spy.index.to_period('M').isin(months[:i]), 'ret']\n",
    "            stats['ret_forward_{}M'.format(i)] = (1+months_spy).prod()-1\n",
    "            stats['var_forward_{}M'.format(i)] = months_spy.var()*252\n",
    "            \n",
    "        # combine\n",
    "        spy_stats = spy_stats.append(stats)\n",
    "    print('Done estimating year {}'.format(year))\n",
    "        \n",
    "    spy_stats.to_csv('../data/estimated/spy_stats.csv')"
   ]
  },
  {
   "cell_type": "code",
   "execution_count": null,
   "metadata": {},
   "outputs": [],
   "source": []
  }
 ],
 "metadata": {
  "kernelspec": {
   "display_name": "Python 3",
   "language": "python",
   "name": "python3"
  },
  "language_info": {
   "codemirror_mode": {
    "name": "ipython",
    "version": 3
   },
   "file_extension": ".py",
   "mimetype": "text/x-python",
   "name": "python",
   "nbconvert_exporter": "python",
   "pygments_lexer": "ipython3",
   "version": "3.6.9"
  }
 },
 "nbformat": 4,
 "nbformat_minor": 4
}
